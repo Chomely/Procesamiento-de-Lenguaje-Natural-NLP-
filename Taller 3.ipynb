{
 "cells": [
  {
   "cell_type": "markdown",
   "metadata": {},
   "source": [
    "<img src='https://encrypted-tbn0.gstatic.com/images?q=tbn%3AANd9GcQ-VfNtOyJbsaxu43Kztf_cv1mgBG6ZIQZEVw&usqp=CAU'>\n",
    "\n",
    "# Procesamiento de Lenguage Natural\n",
    "\n",
    "## Taller #3: Web Scraping\n",
    "`Fecha de entrega: Marzo 10, 2021. (Antes del inicio de la próxima clase).`"
   ]
  },
  {
   "cell_type": "markdown",
   "metadata": {},
   "source": [
    "# Punto 1:\n",
    "\n",
    "- `[15 pts]` Hacer Web Scraping de 10 animales en Wikipedia (en búcle)\n",
    "- `[10 pts]` Obtener el **encabezado** de cada animal\n",
    "- `[15 pts]` Obtener todos los **textos** que están en las etiquetas de negrilla."
   ]
  },
  {
   "cell_type": "code",
   "execution_count": 183,
   "metadata": {},
   "outputs": [],
   "source": [
    "import bs4 as bs \n",
    "import urllib.request"
   ]
  },
  {
   "cell_type": "markdown",
   "metadata": {},
   "source": [
    "*Ejemplo*"
   ]
  },
  {
   "cell_type": "code",
   "execution_count": 184,
   "metadata": {},
   "outputs": [],
   "source": [
    "enlace = \"https://es.wikipedia.org/wiki/Felis_silvestris_catus\""
   ]
  },
  {
   "cell_type": "code",
   "execution_count": 185,
   "metadata": {},
   "outputs": [
    {
     "name": "stdout",
     "output_type": "stream",
     "text": [
      "Encabezado: Felis silvestris catus\n"
     ]
    }
   ],
   "source": [
    "# Descargar la página web en Python \n",
    "request = urllib.request.Request(enlace, headers={'User-Agent': 'Mozilla/5.0'}) #variables request, llamar la libreria, headers \n",
    "#\"soy un navegador\"\n",
    "webpage = urllib.request.urlopen(request) #Obtener la página web\n",
    "source = webpage.read() #Obtener código fuente\n",
    "webpage.close() #Cerrar la página web\n",
    "soup = bs.BeautifulSoup(source, 'html.parser')\n",
    "n=soup.find(\"h1\").text\n",
    "print(f\"Encabezado: {n}\")"
   ]
  },
  {
   "cell_type": "code",
   "execution_count": 186,
   "metadata": {},
   "outputs": [],
   "source": [
    "d=soup.find(\"p\")"
   ]
  },
  {
   "cell_type": "code",
   "execution_count": 187,
   "metadata": {},
   "outputs": [
    {
     "name": "stdout",
     "output_type": "stream",
     "text": [
      "gato doméstico\n",
      "Felis silvestris catus\n",
      "gato\n",
      "minino\n",
      "michino\n",
      "michi\n",
      "micho\n",
      "mizo\n",
      "miz\n",
      "morroño\n",
      "morrongo\n"
     ]
    }
   ],
   "source": [
    "for d in d.find_all('b'):\n",
    "    print(d.get_text())"
   ]
  },
  {
   "cell_type": "code",
   "execution_count": 188,
   "metadata": {},
   "outputs": [],
   "source": [
    "links = ['https://es.wikipedia.org/wiki/Pez',\"https://es.wikipedia.org/wiki/Vultur_gryphus\",\"https://es.wikipedia.org/wiki/Canis_familiaris\",\"https://es.wikipedia.org/wiki/Equus_ferus_caballus\",\"https://es.wikipedia.org/wiki/Ursidae\",\"https://es.wikipedia.org/wiki/Guacamayas\",\"https://es.wikipedia.org/wiki/Panthera_leo\",\"https://es.wikipedia.org/wiki/Testudines\",\"https://es.wikipedia.org/wiki/Pongo\",\"https://es.wikipedia.org/wiki/Caiman\"]"
   ]
  },
  {
   "cell_type": "code",
   "execution_count": 189,
   "metadata": {},
   "outputs": [
    {
     "name": "stdout",
     "output_type": "stream",
     "text": [
      "URLs: https://es.wikipedia.org/wiki/Pez\n",
      "URLs: https://es.wikipedia.org/wiki/Vultur_gryphus\n",
      "URLs: https://es.wikipedia.org/wiki/Canis_familiaris\n",
      "URLs: https://es.wikipedia.org/wiki/Equus_ferus_caballus\n",
      "URLs: https://es.wikipedia.org/wiki/Ursidae\n",
      "URLs: https://es.wikipedia.org/wiki/Guacamayas\n",
      "URLs: https://es.wikipedia.org/wiki/Panthera_leo\n",
      "URLs: https://es.wikipedia.org/wiki/Testudines\n",
      "URLs: https://es.wikipedia.org/wiki/Pongo\n",
      "URLs: https://es.wikipedia.org/wiki/Caiman\n"
     ]
    }
   ],
   "source": [
    "for i in links:\n",
    "         print(f\"URLs: {i}\")"
   ]
  },
  {
   "cell_type": "code",
   "execution_count": 190,
   "metadata": {},
   "outputs": [
    {
     "name": "stdout",
     "output_type": "stream",
     "text": [
      "Encabezado: Pez\n",
      "Encabezado: Vultur gryphus\n",
      "Encabezado: Canis familiaris\n",
      "Encabezado: Equus ferus caballus\n",
      "Encabezado: Ursidae\n",
      "Encabezado: Guacamayas\n",
      "Encabezado: Panthera leo\n",
      "Encabezado: Testudines\n",
      "Encabezado: Pongo\n",
      "Encabezado: Caiman\n"
     ]
    }
   ],
   "source": [
    "for i in links:\n",
    "    request = urllib.request.Request(i, headers={'User-Agent': 'Mozilla/5.0'}) #variables request, llamar la libreria, headers \n",
    "    #\"soy un navegador\"\n",
    "    webpage = urllib.request.urlopen(request) #Obtener la página web\n",
    "    source = webpage.read() #Obtener código fuente\n",
    "    webpage.close() #Cerrar la página web\n",
    "    soup = bs.BeautifulSoup(source, 'html.parser')\n",
    "\n",
    "    #print titles only\n",
    "    h1 = soup.find(\"h1\").text\n",
    "    \n",
    "    print(f\"Encabezado: {h1}\")\n",
    "    \n"
   ]
  },
  {
   "cell_type": "code",
   "execution_count": 191,
   "metadata": {},
   "outputs": [],
   "source": [
    "lista = []\n",
    "for i in links:\n",
    "    request = urllib.request.Request(i, headers={'User-Agent': 'Mozilla/5.0'}) #variables request, llamar la libreria, headers \n",
    "    #\"soy un navegador\"\n",
    "    webpage = urllib.request.urlopen(request) #Obtener la página web\n",
    "    source = webpage.read() #Obtener código fuente\n",
    "    webpage.close() #Cerrar la página web\n",
    "    soup = bs.BeautifulSoup(source, 'html.parser')\n",
    "\n",
    "    #print \n",
    "    d=soup.find(\"p\")\n",
    "    for d in d.find_all('b'):\n",
    "        texto = \"\"\n",
    "        texto = d.get_text()+texto\n",
    "        lista.append(texto) "
   ]
  },
  {
   "cell_type": "code",
   "execution_count": 192,
   "metadata": {},
   "outputs": [
    {
     "data": {
      "text/plain": [
       "['peces',\n",
       " 'cóndor andino',\n",
       " 'cóndor de los Cerros',\n",
       " 'cóndor de los Andes',\n",
       " 'cóndor',\n",
       " 'Vultur gryphus',\n",
       " 'perro',\n",
       " 'Canis familiaris',\n",
       " 'Canis lupus familiaris',\n",
       " 'perro doméstico',\n",
       " 'can',\n",
       " 'chucho',\n",
       " 'tuso',\n",
       " 'choco',\n",
       " 'caballo',\n",
       " 'Equus ferus caballus',\n",
       " 'osos',\n",
       " 'úrsidos',\n",
       " 'Ursidae',\n",
       " 'Guacamayas',\n",
       " 'león',\n",
       " 'Panthera leo',\n",
       " 'tortugas',\n",
       " 'quelonios',\n",
       " 'Testudines',\n",
       " 'orangutanes',\n",
       " 'Pongo',\n",
       " 'Caiman',\n",
       " 'caimanes',\n",
       " 'yacarés']"
      ]
     },
     "execution_count": 192,
     "metadata": {},
     "output_type": "execute_result"
    }
   ],
   "source": [
    "lista"
   ]
  },
  {
   "cell_type": "markdown",
   "metadata": {},
   "source": [
    "Nota para verificar: peces-cóndor andino-cóndor de los Cerros-cóndor de los Andes-cóndor-Vultur gryphus-perro-Canis familiaris-Canis lupus familiaris- perro doméstico-can-chucho-tuso-choco-caballo-Equus ferus caballus-osos-úrsidos-Ursidae-Guacamayas-león-Panthera leo-tortugas-quelonios-Testudine-orangutanes-Pongo-Caiman-caimanes-yacarés"
   ]
  },
  {
   "cell_type": "markdown",
   "metadata": {},
   "source": [
    "# Punto 2:\n",
    "- `[10 pts]` Usando regex, reemplazar todas las tíldes del punto anterior por un asterisco (¡Ojo, los espacios se quedan!)\n"
   ]
  },
  {
   "cell_type": "code",
   "execution_count": 195,
   "metadata": {},
   "outputs": [],
   "source": [
    "import re"
   ]
  },
  {
   "cell_type": "code",
   "execution_count": 196,
   "metadata": {},
   "outputs": [],
   "source": [
    "cadena = \" \".join(lista)"
   ]
  },
  {
   "cell_type": "code",
   "execution_count": 197,
   "metadata": {},
   "outputs": [
    {
     "data": {
      "text/plain": [
       "'peces cóndor andino cóndor de los Cerros cóndor de los Andes cóndor Vultur gryphus perro Canis familiaris Canis lupus familiaris perro doméstico can chucho tuso choco caballo Equus ferus caballus osos úrsidos Ursidae Guacamayas león Panthera leo tortugas quelonios Testudines orangutanes Pongo Caiman caimanes yacarés'"
      ]
     },
     "execution_count": 197,
     "metadata": {},
     "output_type": "execute_result"
    }
   ],
   "source": [
    "cadena"
   ]
  },
  {
   "cell_type": "code",
   "execution_count": 198,
   "metadata": {},
   "outputs": [
    {
     "data": {
      "text/plain": [
       "'peces c*ndor andino c*ndor de los Cerros c*ndor de los Andes c*ndor Vultur gryphus perro Canis familiaris Canis lupus familiaris perro dom*stico can chucho tuso choco caballo Equus ferus caballus osos *rsidos Ursidae Guacamayas le*n Panthera leo tortugas quelonios Testudines orangutanes Pongo Caiman caimanes yacar*s'"
      ]
     },
     "execution_count": 198,
     "metadata": {},
     "output_type": "execute_result"
    }
   ],
   "source": [
    "re.sub(r\"[äÄëËïÏöÖüÜáéíóúáéíóúÁÉÍÓÚÂÊÎÔÛâêîôûàèìòùÀÈÌÒÙ]\", \"*\", cadena)"
   ]
  },
  {
   "cell_type": "markdown",
   "metadata": {},
   "source": [
    "👩‍💻 Julieth Andrea Murte Tavera"
   ]
  }
 ],
 "metadata": {
  "kernelspec": {
   "display_name": "Python 3",
   "language": "python",
   "name": "python3"
  },
  "language_info": {
   "codemirror_mode": {
    "name": "ipython",
    "version": 3
   },
   "file_extension": ".py",
   "mimetype": "text/x-python",
   "name": "python",
   "nbconvert_exporter": "python",
   "pygments_lexer": "ipython3",
   "version": "3.8.5"
  }
 },
 "nbformat": 4,
 "nbformat_minor": 2
}
