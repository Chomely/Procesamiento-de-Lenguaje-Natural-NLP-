{
 "cells": [
  {
   "cell_type": "markdown",
   "metadata": {},
   "source": [
    "<img src='https://encrypted-tbn0.gstatic.com/images?q=tbn%3AANd9GcQ-VfNtOyJbsaxu43Kztf_cv1mgBG6ZIQZEVw&usqp=CAU'>\n",
    "\n",
    "# Procesamiento de Lenguage Natural\n",
    "\n",
    "## Taller #11: Twitter\n",
    "`Fecha de entrega: Mayo 20, 2021 (Antes del inicio de la próxima clase).`\n",
    "\n",
    "`Modo de entrega: Subir link de GitHub al aula virtual.`"
   ]
  },
  {
   "cell_type": "markdown",
   "metadata": {},
   "source": [
    "###  `[25 pts]` Punto 1: Extraer Tuits\n",
    "Extraer mínimo 100 tuits de Twitter usando la API\n",
    "\n",
    "❌ No escoger un tema de los que hicimos en clase (día de las madres, Giro de Italia, #EraGoldeYepes)"
   ]
  },
  {
   "cell_type": "code",
   "execution_count": 45,
   "metadata": {},
   "outputs": [],
   "source": [
    "import pandas as pd\n",
    "import tweepy"
   ]
  },
  {
   "cell_type": "code",
   "execution_count": 46,
   "metadata": {},
   "outputs": [
    {
     "data": {
      "text/plain": [
       "dict_keys(['api_key', 'api_secret_key', 'access_token', 'access_token_secret', 'bearer_token'])"
      ]
     },
     "execution_count": 46,
     "metadata": {},
     "output_type": "execute_result"
    }
   ],
   "source": [
    "# Leer las llaves\n",
    "keys = pd.read_csv(\"C:/Users/CHOMELY/Documents/1. Especialización Konrad Lorenz/1. Procesamiento de Lenguaje Natural (NLP)/misllaves.csv\", header=None)\n",
    "keys = dict(zip(keys[0],keys[1]))\n",
    "keys.keys()"
   ]
  },
  {
   "cell_type": "code",
   "execution_count": 47,
   "metadata": {},
   "outputs": [],
   "source": [
    "# Autenticar a través de la API \n",
    "auth = tweepy.OAuthHandler(keys['api_key'], keys['api_secret_key'])\n",
    "auth.set_access_token(keys['access_token'], keys['access_token_secret'])\n",
    "api = tweepy.API(auth, wait_on_rate_limit=True) #decimo a twitter quienes somos wait on rete limite, permtie que twitter no bloquee cuando se hacen muchas peticiones"
   ]
  },
  {
   "cell_type": "code",
   "execution_count": 48,
   "metadata": {},
   "outputs": [],
   "source": [
    "tweets = tweepy.Cursor(api.search,\n",
    "                       q=['ESMAD, POLICIA -RT'], #Lista de términos que se quieren buscar, no importa si es en mayus o minusc -RT quite los tuits que son retuiteados es decir duplicados\n",
    "                       lang='es', #Español\n",
    "                       geocode='3.42158,-76.5205,100km', #coordenadas de cali , cadena de texto indicar un punto y buscar los tuits en ese punto occidente es negativo norte es positiva sur negativo y km a la redonda\n",
    "                       tweet_mode='extended', #Para que traiga más de 140 caracteres 280 cacteres ahora entonces el parametro es para evitar que no llegeun truncados\n",
    "                       include_rts=False, #tuits retuiteados evitando lo que han sido retuiteados\n",
    "                       ).items(500)"
   ]
  },
  {
   "cell_type": "code",
   "execution_count": 49,
   "metadata": {},
   "outputs": [],
   "source": [
    "# Objeto generador\n",
    "t = [tweet for tweet in tweets]"
   ]
  },
  {
   "cell_type": "code",
   "execution_count": 50,
   "metadata": {},
   "outputs": [
    {
     "data": {
      "text/plain": [
       "datetime.datetime(2021, 5, 20, 6, 18, 58)"
      ]
     },
     "execution_count": 50,
     "metadata": {},
     "output_type": "execute_result"
    }
   ],
   "source": [
    "t[0].created_at"
   ]
  },
  {
   "cell_type": "code",
   "execution_count": 51,
   "metadata": {},
   "outputs": [
    {
     "data": {
      "text/plain": [
       "'Colombia'"
      ]
     },
     "execution_count": 51,
     "metadata": {},
     "output_type": "execute_result"
    }
   ],
   "source": [
    "t[0].user.location"
   ]
  },
  {
   "cell_type": "code",
   "execution_count": 52,
   "metadata": {},
   "outputs": [
    {
     "data": {
      "text/plain": [
       "'Duque si hizo algo por Colombia: \\n\\nDuque hundió al Centro Democrático\\nDuque enterró a Uribe\\nDuque nos abrió los ojos \\nDuque satanizó al esmad y a la policia\\nDuque glorificó a la primera linea\\nDuque unió a las barras bravas\\nDuque puso los ojos del mundo sobre Uribe\\n#PrimeraLinea'"
      ]
     },
     "execution_count": 52,
     "metadata": {},
     "output_type": "execute_result"
    }
   ],
   "source": [
    "t[0].full_text"
   ]
  },
  {
   "cell_type": "code",
   "execution_count": 53,
   "metadata": {},
   "outputs": [],
   "source": [
    "t_processed = []\n",
    "\n",
    "for tweet in t: \n",
    "    temp = []\n",
    "    temp.append(tweet.full_text)\n",
    "    temp.append(tweet.created_at)\n",
    "    temp.append('Cali')\n",
    "    temp.append(tweet.user.location)\n",
    "    temp.append(tweet.id)\n",
    "    temp.append(f\"https://twitter.com/i/web/stuatus/{tweet.id}\")\n",
    "    \n",
    "    t_processed.append(temp)"
   ]
  },
  {
   "cell_type": "code",
   "execution_count": 54,
   "metadata": {},
   "outputs": [
    {
     "data": {
      "text/html": [
       "<div>\n",
       "<style scoped>\n",
       "    .dataframe tbody tr th:only-of-type {\n",
       "        vertical-align: middle;\n",
       "    }\n",
       "\n",
       "    .dataframe tbody tr th {\n",
       "        vertical-align: top;\n",
       "    }\n",
       "\n",
       "    .dataframe thead th {\n",
       "        text-align: right;\n",
       "    }\n",
       "</style>\n",
       "<table border=\"1\" class=\"dataframe\">\n",
       "  <thead>\n",
       "    <tr style=\"text-align: right;\">\n",
       "      <th></th>\n",
       "      <th>tweets</th>\n",
       "      <th>date</th>\n",
       "      <th>city</th>\n",
       "      <th>user_location</th>\n",
       "      <th>id</th>\n",
       "      <th>link</th>\n",
       "    </tr>\n",
       "  </thead>\n",
       "  <tbody>\n",
       "    <tr>\n",
       "      <th>0</th>\n",
       "      <td>Duque si hizo algo por Colombia: \\n\\nDuque hun...</td>\n",
       "      <td>2021-05-20 06:18:58</td>\n",
       "      <td>Cali</td>\n",
       "      <td>Colombia</td>\n",
       "      <td>1395262756799004672</td>\n",
       "      <td>https://twitter.com/i/web/stuatus/139526275679...</td>\n",
       "    </tr>\n",
       "    <tr>\n",
       "      <th>1</th>\n",
       "      <td>@GobiernoBTA @andresidarragaf Que horror! No s...</td>\n",
       "      <td>2021-05-20 06:08:06</td>\n",
       "      <td>Cali</td>\n",
       "      <td>Bogotá, D.C., Colombia</td>\n",
       "      <td>1395260023643705348</td>\n",
       "      <td>https://twitter.com/i/web/stuatus/139526002364...</td>\n",
       "    </tr>\n",
       "    <tr>\n",
       "      <th>2</th>\n",
       "      <td>Hoy en la multitudinaria movilización en Cali ...</td>\n",
       "      <td>2021-05-20 06:02:42</td>\n",
       "      <td>Cali</td>\n",
       "      <td>Cali, Valle del Cauca</td>\n",
       "      <td>1395258664051691522</td>\n",
       "      <td>https://twitter.com/i/web/stuatus/139525866405...</td>\n",
       "    </tr>\n",
       "    <tr>\n",
       "      <th>3</th>\n",
       "      <td>@VickyDavilaH @AlvaroUribeVel @IvanDuque esto ...</td>\n",
       "      <td>2021-05-20 06:01:12</td>\n",
       "      <td>Cali</td>\n",
       "      <td>Pradera, Colombia</td>\n",
       "      <td>1395258285477990400</td>\n",
       "      <td>https://twitter.com/i/web/stuatus/139525828547...</td>\n",
       "    </tr>\n",
       "    <tr>\n",
       "      <th>4</th>\n",
       "      <td>Portal de las Américas, anoche entre 10 y 10:3...</td>\n",
       "      <td>2021-05-20 05:56:58</td>\n",
       "      <td>Cali</td>\n",
       "      <td>Bogotá, D.C., Colombia</td>\n",
       "      <td>1395257220267495426</td>\n",
       "      <td>https://twitter.com/i/web/stuatus/139525722026...</td>\n",
       "    </tr>\n",
       "  </tbody>\n",
       "</table>\n",
       "</div>"
      ],
      "text/plain": [
       "                                              tweets                date  \\\n",
       "0  Duque si hizo algo por Colombia: \\n\\nDuque hun... 2021-05-20 06:18:58   \n",
       "1  @GobiernoBTA @andresidarragaf Que horror! No s... 2021-05-20 06:08:06   \n",
       "2  Hoy en la multitudinaria movilización en Cali ... 2021-05-20 06:02:42   \n",
       "3  @VickyDavilaH @AlvaroUribeVel @IvanDuque esto ... 2021-05-20 06:01:12   \n",
       "4  Portal de las Américas, anoche entre 10 y 10:3... 2021-05-20 05:56:58   \n",
       "\n",
       "   city           user_location                   id  \\\n",
       "0  Cali                Colombia  1395262756799004672   \n",
       "1  Cali  Bogotá, D.C., Colombia  1395260023643705348   \n",
       "2  Cali   Cali, Valle del Cauca  1395258664051691522   \n",
       "3  Cali       Pradera, Colombia  1395258285477990400   \n",
       "4  Cali  Bogotá, D.C., Colombia  1395257220267495426   \n",
       "\n",
       "                                                link  \n",
       "0  https://twitter.com/i/web/stuatus/139526275679...  \n",
       "1  https://twitter.com/i/web/stuatus/139526002364...  \n",
       "2  https://twitter.com/i/web/stuatus/139525866405...  \n",
       "3  https://twitter.com/i/web/stuatus/139525828547...  \n",
       "4  https://twitter.com/i/web/stuatus/139525722026...  "
      ]
     },
     "execution_count": 54,
     "metadata": {},
     "output_type": "execute_result"
    }
   ],
   "source": [
    "data = pd.DataFrame(t_processed)\n",
    "data.columns = ['tweets', 'date', 'city', 'user_location', 'id', 'link']\n",
    "data.head()"
   ]
  },
  {
   "cell_type": "code",
   "execution_count": 55,
   "metadata": {},
   "outputs": [],
   "source": [
    "data.to_csv('archivotwitter.csv', index=False) "
   ]
  },
  {
   "cell_type": "code",
   "execution_count": 56,
   "metadata": {},
   "outputs": [],
   "source": [
    "import re"
   ]
  },
  {
   "cell_type": "code",
   "execution_count": 57,
   "metadata": {},
   "outputs": [],
   "source": [
    "def text_clean(text):\n",
    "    hashtags = [interaction for interaction in text.split() if interaction.startswith(\"#\")] #Guarde las palabras que comienzan con un numeral\n",
    "    for hashtag in hashtags:\n",
    "        text = text.replace(hashtag, \"\")\n",
    "    return text, hashtags"
   ]
  },
  {
   "cell_type": "code",
   "execution_count": 58,
   "metadata": {},
   "outputs": [],
   "source": [
    "pattern1 = '?P<pic>pic.twitter.com/[^\\s]+' #Patrones para los links, buscar palabras que tienen el patron\n",
    "pattern2 = '?P<url>https?://[^\\s]+'"
   ]
  },
  {
   "cell_type": "code",
   "execution_count": 59,
   "metadata": {},
   "outputs": [],
   "source": [
    "def text_clean(row):\n",
    "    text = row['tweets']\n",
    "    \n",
    "    links = [tuple(j for j in i if j)[-1] for i in re.findall(f\"({pattern1})|({pattern2})\",text)]\n",
    "    for link in links:\n",
    "        text = text.replace(link,\"\")\n",
    "    \n",
    "    hashtags = [interaction for interaction in text.split() if interaction.startswith(\"#\")] #Guarde las palabras que comienzan con un numeral\n",
    "    for hashtag in hashtags:\n",
    "        text = text.replace(hashtag, \"\")\n",
    "        \n",
    "    mentions = [interaction for interaction in text.split() if interaction.startswith(\"@\")]\n",
    "    for mention in mentions:\n",
    "        text = text.replace(mention, \"\")\n",
    "        \n",
    "    return text, links, hashtags, mentions"
   ]
  },
  {
   "cell_type": "code",
   "execution_count": 60,
   "metadata": {},
   "outputs": [
    {
     "data": {
      "text/html": [
       "<div>\n",
       "<style scoped>\n",
       "    .dataframe tbody tr th:only-of-type {\n",
       "        vertical-align: middle;\n",
       "    }\n",
       "\n",
       "    .dataframe tbody tr th {\n",
       "        vertical-align: top;\n",
       "    }\n",
       "\n",
       "    .dataframe thead th {\n",
       "        text-align: right;\n",
       "    }\n",
       "</style>\n",
       "<table border=\"1\" class=\"dataframe\">\n",
       "  <thead>\n",
       "    <tr style=\"text-align: right;\">\n",
       "      <th></th>\n",
       "      <th>tweets</th>\n",
       "      <th>date</th>\n",
       "      <th>city</th>\n",
       "      <th>user_location</th>\n",
       "      <th>id</th>\n",
       "      <th>link</th>\n",
       "      <th>texto_limpio</th>\n",
       "      <th>links</th>\n",
       "      <th>hashtags</th>\n",
       "      <th>mentions</th>\n",
       "    </tr>\n",
       "  </thead>\n",
       "  <tbody>\n",
       "    <tr>\n",
       "      <th>0</th>\n",
       "      <td>Duque si hizo algo por Colombia: \\n\\nDuque hun...</td>\n",
       "      <td>2021-05-20 06:18:58</td>\n",
       "      <td>Cali</td>\n",
       "      <td>Colombia</td>\n",
       "      <td>1395262756799004672</td>\n",
       "      <td>https://twitter.com/i/web/stuatus/139526275679...</td>\n",
       "      <td>Duque si hizo algo por Colombia: \\n\\nDuque hun...</td>\n",
       "      <td>[]</td>\n",
       "      <td>[#PrimeraLinea]</td>\n",
       "      <td>[]</td>\n",
       "    </tr>\n",
       "    <tr>\n",
       "      <th>1</th>\n",
       "      <td>@GobiernoBTA @andresidarragaf Que horror! No s...</td>\n",
       "      <td>2021-05-20 06:08:06</td>\n",
       "      <td>Cali</td>\n",
       "      <td>Bogotá, D.C., Colombia</td>\n",
       "      <td>1395260023643705348</td>\n",
       "      <td>https://twitter.com/i/web/stuatus/139526002364...</td>\n",
       "      <td>Que horror! No se cansan de mentir? Lo vimos...</td>\n",
       "      <td>[]</td>\n",
       "      <td>[]</td>\n",
       "      <td>[@GobiernoBTA, @andresidarragaf]</td>\n",
       "    </tr>\n",
       "    <tr>\n",
       "      <th>2</th>\n",
       "      <td>Hoy en la multitudinaria movilización en Cali ...</td>\n",
       "      <td>2021-05-20 06:02:42</td>\n",
       "      <td>Cali</td>\n",
       "      <td>Cali, Valle del Cauca</td>\n",
       "      <td>1395258664051691522</td>\n",
       "      <td>https://twitter.com/i/web/stuatus/139525866405...</td>\n",
       "      <td>Hoy en la multitudinaria movilización en Cali ...</td>\n",
       "      <td>[]</td>\n",
       "      <td>[]</td>\n",
       "      <td>[]</td>\n",
       "    </tr>\n",
       "    <tr>\n",
       "      <th>3</th>\n",
       "      <td>@VickyDavilaH @AlvaroUribeVel @IvanDuque esto ...</td>\n",
       "      <td>2021-05-20 06:01:12</td>\n",
       "      <td>Cali</td>\n",
       "      <td>Pradera, Colombia</td>\n",
       "      <td>1395258285477990400</td>\n",
       "      <td>https://twitter.com/i/web/stuatus/139525828547...</td>\n",
       "      <td>esto pasa cuando publicas los asesinatos pe...</td>\n",
       "      <td>[https://t.co/DtC9Nv1654]</td>\n",
       "      <td>[]</td>\n",
       "      <td>[@VickyDavilaH, @AlvaroUribeVel, @IvanDuque]</td>\n",
       "    </tr>\n",
       "    <tr>\n",
       "      <th>4</th>\n",
       "      <td>Portal de las Américas, anoche entre 10 y 10:3...</td>\n",
       "      <td>2021-05-20 05:56:58</td>\n",
       "      <td>Cali</td>\n",
       "      <td>Bogotá, D.C., Colombia</td>\n",
       "      <td>1395257220267495426</td>\n",
       "      <td>https://twitter.com/i/web/stuatus/139525722026...</td>\n",
       "      <td>Portal de las Américas, anoche entre 10 y 10:3...</td>\n",
       "      <td>[https://t.co/vSqmzddwtq]</td>\n",
       "      <td>[]</td>\n",
       "      <td>[]</td>\n",
       "    </tr>\n",
       "    <tr>\n",
       "      <th>...</th>\n",
       "      <td>...</td>\n",
       "      <td>...</td>\n",
       "      <td>...</td>\n",
       "      <td>...</td>\n",
       "      <td>...</td>\n",
       "      <td>...</td>\n",
       "      <td>...</td>\n",
       "      <td>...</td>\n",
       "      <td>...</td>\n",
       "      <td>...</td>\n",
       "    </tr>\n",
       "    <tr>\n",
       "      <th>495</th>\n",
       "      <td>Lo único que demuestra es que nuestros militar...</td>\n",
       "      <td>2021-05-18 17:55:16</td>\n",
       "      <td>Cali</td>\n",
       "      <td>Colombia</td>\n",
       "      <td>1394713210356436993</td>\n",
       "      <td>https://twitter.com/i/web/stuatus/139471321035...</td>\n",
       "      <td>Lo único que demuestra es que nuestros militar...</td>\n",
       "      <td>[https://t.co/KUnIHAzaTM]</td>\n",
       "      <td>[]</td>\n",
       "      <td>[]</td>\n",
       "    </tr>\n",
       "    <tr>\n",
       "      <th>496</th>\n",
       "      <td>@elespectador Que es fake, al igual que los 50...</td>\n",
       "      <td>2021-05-18 17:52:32</td>\n",
       "      <td>Cali</td>\n",
       "      <td>Colombia</td>\n",
       "      <td>1394712521085530112</td>\n",
       "      <td>https://twitter.com/i/web/stuatus/139471252108...</td>\n",
       "      <td>Que es fake, al igual que los 50 muertos, des...</td>\n",
       "      <td>[]</td>\n",
       "      <td>[]</td>\n",
       "      <td>[@elespectador]</td>\n",
       "    </tr>\n",
       "    <tr>\n",
       "      <th>497</th>\n",
       "      <td>La policía va a comprar 720 Biblias en cuero p...</td>\n",
       "      <td>2021-05-18 17:50:56</td>\n",
       "      <td>Cali</td>\n",
       "      <td>Colombia</td>\n",
       "      <td>1394712117845110788</td>\n",
       "      <td>https://twitter.com/i/web/stuatus/139471211784...</td>\n",
       "      <td>La policía va a comprar 720 Biblias en cuero p...</td>\n",
       "      <td>[]</td>\n",
       "      <td>[]</td>\n",
       "      <td>[]</td>\n",
       "    </tr>\n",
       "    <tr>\n",
       "      <th>498</th>\n",
       "      <td>La Policía y el ESMAD dificultan que la movili...</td>\n",
       "      <td>2021-05-18 17:50:01</td>\n",
       "      <td>Cali</td>\n",
       "      <td>Colombia</td>\n",
       "      <td>1394711890627080193</td>\n",
       "      <td>https://twitter.com/i/web/stuatus/139471189062...</td>\n",
       "      <td>La Policía y el ESMAD dificultan que la movili...</td>\n",
       "      <td>[https://t.co/pi5TCFt6Uy]</td>\n",
       "      <td>[#ParoNacional18M]</td>\n",
       "      <td>[]</td>\n",
       "    </tr>\n",
       "    <tr>\n",
       "      <th>499</th>\n",
       "      <td>Sí, el uniformado se llama Jhon Morales y es p...</td>\n",
       "      <td>2021-05-18 17:44:00</td>\n",
       "      <td>Cali</td>\n",
       "      <td>Colombia</td>\n",
       "      <td>1394710373907972100</td>\n",
       "      <td>https://twitter.com/i/web/stuatus/139471037390...</td>\n",
       "      <td>Sí, el uniformado se llama Jhon Morales y es p...</td>\n",
       "      <td>[https://t.co/XsS87caPAA]</td>\n",
       "      <td>[]</td>\n",
       "      <td>[]</td>\n",
       "    </tr>\n",
       "  </tbody>\n",
       "</table>\n",
       "<p>500 rows × 10 columns</p>\n",
       "</div>"
      ],
      "text/plain": [
       "                                                tweets                date  \\\n",
       "0    Duque si hizo algo por Colombia: \\n\\nDuque hun... 2021-05-20 06:18:58   \n",
       "1    @GobiernoBTA @andresidarragaf Que horror! No s... 2021-05-20 06:08:06   \n",
       "2    Hoy en la multitudinaria movilización en Cali ... 2021-05-20 06:02:42   \n",
       "3    @VickyDavilaH @AlvaroUribeVel @IvanDuque esto ... 2021-05-20 06:01:12   \n",
       "4    Portal de las Américas, anoche entre 10 y 10:3... 2021-05-20 05:56:58   \n",
       "..                                                 ...                 ...   \n",
       "495  Lo único que demuestra es que nuestros militar... 2021-05-18 17:55:16   \n",
       "496  @elespectador Que es fake, al igual que los 50... 2021-05-18 17:52:32   \n",
       "497  La policía va a comprar 720 Biblias en cuero p... 2021-05-18 17:50:56   \n",
       "498  La Policía y el ESMAD dificultan que la movili... 2021-05-18 17:50:01   \n",
       "499  Sí, el uniformado se llama Jhon Morales y es p... 2021-05-18 17:44:00   \n",
       "\n",
       "     city           user_location                   id  \\\n",
       "0    Cali                Colombia  1395262756799004672   \n",
       "1    Cali  Bogotá, D.C., Colombia  1395260023643705348   \n",
       "2    Cali   Cali, Valle del Cauca  1395258664051691522   \n",
       "3    Cali       Pradera, Colombia  1395258285477990400   \n",
       "4    Cali  Bogotá, D.C., Colombia  1395257220267495426   \n",
       "..    ...                     ...                  ...   \n",
       "495  Cali                Colombia  1394713210356436993   \n",
       "496  Cali                Colombia  1394712521085530112   \n",
       "497  Cali                Colombia  1394712117845110788   \n",
       "498  Cali                Colombia  1394711890627080193   \n",
       "499  Cali                Colombia  1394710373907972100   \n",
       "\n",
       "                                                  link  \\\n",
       "0    https://twitter.com/i/web/stuatus/139526275679...   \n",
       "1    https://twitter.com/i/web/stuatus/139526002364...   \n",
       "2    https://twitter.com/i/web/stuatus/139525866405...   \n",
       "3    https://twitter.com/i/web/stuatus/139525828547...   \n",
       "4    https://twitter.com/i/web/stuatus/139525722026...   \n",
       "..                                                 ...   \n",
       "495  https://twitter.com/i/web/stuatus/139471321035...   \n",
       "496  https://twitter.com/i/web/stuatus/139471252108...   \n",
       "497  https://twitter.com/i/web/stuatus/139471211784...   \n",
       "498  https://twitter.com/i/web/stuatus/139471189062...   \n",
       "499  https://twitter.com/i/web/stuatus/139471037390...   \n",
       "\n",
       "                                          texto_limpio  \\\n",
       "0    Duque si hizo algo por Colombia: \\n\\nDuque hun...   \n",
       "1      Que horror! No se cansan de mentir? Lo vimos...   \n",
       "2    Hoy en la multitudinaria movilización en Cali ...   \n",
       "3       esto pasa cuando publicas los asesinatos pe...   \n",
       "4    Portal de las Américas, anoche entre 10 y 10:3...   \n",
       "..                                                 ...   \n",
       "495  Lo único que demuestra es que nuestros militar...   \n",
       "496   Que es fake, al igual que los 50 muertos, des...   \n",
       "497  La policía va a comprar 720 Biblias en cuero p...   \n",
       "498  La Policía y el ESMAD dificultan que la movili...   \n",
       "499  Sí, el uniformado se llama Jhon Morales y es p...   \n",
       "\n",
       "                         links            hashtags  \\\n",
       "0                           []     [#PrimeraLinea]   \n",
       "1                           []                  []   \n",
       "2                           []                  []   \n",
       "3    [https://t.co/DtC9Nv1654]                  []   \n",
       "4    [https://t.co/vSqmzddwtq]                  []   \n",
       "..                         ...                 ...   \n",
       "495  [https://t.co/KUnIHAzaTM]                  []   \n",
       "496                         []                  []   \n",
       "497                         []                  []   \n",
       "498  [https://t.co/pi5TCFt6Uy]  [#ParoNacional18M]   \n",
       "499  [https://t.co/XsS87caPAA]                  []   \n",
       "\n",
       "                                         mentions  \n",
       "0                                              []  \n",
       "1                [@GobiernoBTA, @andresidarragaf]  \n",
       "2                                              []  \n",
       "3    [@VickyDavilaH, @AlvaroUribeVel, @IvanDuque]  \n",
       "4                                              []  \n",
       "..                                            ...  \n",
       "495                                            []  \n",
       "496                               [@elespectador]  \n",
       "497                                            []  \n",
       "498                                            []  \n",
       "499                                            []  \n",
       "\n",
       "[500 rows x 10 columns]"
      ]
     },
     "execution_count": 60,
     "metadata": {},
     "output_type": "execute_result"
    }
   ],
   "source": [
    "data[['texto_limpio', 'links', 'hashtags', 'mentions']] = data.apply(text_clean, axis=1, result_type='expand')\n",
    "data"
   ]
  },
  {
   "cell_type": "markdown",
   "metadata": {},
   "source": [
    "###  `[25 pts]` Punto 2: Hacer una visualización sobre esos tuits"
   ]
  },
  {
   "cell_type": "code",
   "execution_count": 61,
   "metadata": {},
   "outputs": [],
   "source": [
    "\n",
    "import regex\n",
    "import emoji"
   ]
  },
  {
   "cell_type": "code",
   "execution_count": 62,
   "metadata": {},
   "outputs": [],
   "source": [
    "def get_emojis(text):\n",
    "    emoji_list = []\n",
    "    data = regex.findall(r'\\X', text)\n",
    "    for word in data:\n",
    "        if any(char in emoji.UNICODE_EMOJI['en'] for char in word):\n",
    "            emoji_list.append(word)\n",
    "\n",
    "    return emoji_list"
   ]
  },
  {
   "cell_type": "code",
   "execution_count": 63,
   "metadata": {},
   "outputs": [
    {
     "data": {
      "text/plain": [
       "{'🥇': ':1st_place_medal:',\n",
       " '🥈': ':2nd_place_medal:',\n",
       " '🥉': ':3rd_place_medal:',\n",
       " '🆎': ':AB_button_(blood_type):',\n",
       " '🏧': ':ATM_sign:',\n",
       " '🅰': ':A_button_(blood_type):',\n",
       " '🇦🇫': ':Afghanistan:',\n",
       " '🇦🇱': ':Albania:',\n",
       " '🇩🇿': ':Algeria:',\n",
       " '🇦🇸': ':American_Samoa:',\n",
       " '🇦🇩': ':Andorra:',\n",
       " '🇦🇴': ':Angola:',\n",
       " '🇦🇮': ':Anguilla:',\n",
       " '🇦🇶': ':Antarctica:',\n",
       " '🇦🇬': ':Antigua_&_Barbuda:',\n",
       " '♒': ':Aquarius:',\n",
       " '🇦🇷': ':Argentina:',\n",
       " '♈': ':Aries:',\n",
       " '🇦🇲': ':Armenia:',\n",
       " '🇦🇼': ':Aruba:',\n",
       " '🇦🇨': ':Ascension_Island:',\n",
       " '🇦🇺': ':Australia:',\n",
       " '🇦🇹': ':Austria:',\n",
       " '🇦🇿': ':Azerbaijan:',\n",
       " '🔙': ':BACK_arrow:',\n",
       " '🅱': ':B_button_(blood_type):',\n",
       " '🇧🇸': ':Bahamas:',\n",
       " '🇧🇭': ':Bahrain:',\n",
       " '🇧🇩': ':Bangladesh:',\n",
       " '🇧🇧': ':Barbados:',\n",
       " '🇧🇾': ':Belarus:',\n",
       " '🇧🇪': ':Belgium:',\n",
       " '🇧🇿': ':Belize:',\n",
       " '🇧🇯': ':Benin:',\n",
       " '🇧🇲': ':Bermuda:',\n",
       " '🇧🇹': ':Bhutan:',\n",
       " '🇧🇴': ':Bolivia:',\n",
       " '🇧🇦': ':Bosnia_&_Herzegovina:',\n",
       " '🇧🇼': ':Botswana:',\n",
       " '🇧🇻': ':Bouvet_Island:',\n",
       " '🇧🇷': ':Brazil:',\n",
       " '🇮🇴': ':British_Indian_Ocean_Territory:',\n",
       " '🇻🇬': ':British_Virgin_Islands:',\n",
       " '🇧🇳': ':Brunei:',\n",
       " '🇧🇬': ':Bulgaria:',\n",
       " '🇧🇫': ':Burkina_Faso:',\n",
       " '🇧🇮': ':Burundi:',\n",
       " '🆑': ':CL_button:',\n",
       " '🆒': ':COOL_button:',\n",
       " '🇰🇭': ':Cambodia:',\n",
       " '🇨🇲': ':Cameroon:',\n",
       " '🇨🇦': ':Canada:',\n",
       " '🇮🇨': ':Canary_Islands:',\n",
       " '♋': ':Cancer:',\n",
       " '🇨🇻': ':Cape_Verde:',\n",
       " '♑': ':Capricorn:',\n",
       " '🇧🇶': ':Caribbean_Netherlands:',\n",
       " '🇰🇾': ':Cayman_Islands:',\n",
       " '🇨🇫': ':Central_African_Republic:',\n",
       " '🇪🇦': ':Ceuta_&_Melilla:',\n",
       " '🇹🇩': ':Chad:',\n",
       " '🇨🇱': ':Chile:',\n",
       " '🇨🇳': ':China:',\n",
       " '🇨🇽': ':Christmas_Island:',\n",
       " '🎄': ':Christmas_tree:',\n",
       " '🇨🇵': ':Clipperton_Island:',\n",
       " '🇨🇨': ':Cocos_(Keeling)_Islands:',\n",
       " '🇨🇴': ':Colombia:',\n",
       " '🇰🇲': ':Comoros:',\n",
       " '🇨🇬': ':Congo_-_Brazzaville:',\n",
       " '🇨🇩': ':Congo_-_Kinshasa:',\n",
       " '🇨🇰': ':Cook_Islands:',\n",
       " '🇨🇷': ':Costa_Rica:',\n",
       " '🇭🇷': ':Croatia:',\n",
       " '🇨🇺': ':Cuba:',\n",
       " '🇨🇼': ':Curaçao:',\n",
       " '🇨🇾': ':Cyprus:',\n",
       " '🇨🇿': ':Czechia:',\n",
       " '🇨🇮': ':Côte_d’Ivoire:',\n",
       " '🇩🇰': ':Denmark:',\n",
       " '🇩🇬': ':Diego_Garcia:',\n",
       " '🇩🇯': ':Djibouti:',\n",
       " '🇩🇲': ':Dominica:',\n",
       " '🇩🇴': ':Dominican_Republic:',\n",
       " '🔚': ':END_arrow:',\n",
       " '🇪🇨': ':Ecuador:',\n",
       " '🇪🇬': ':Egypt:',\n",
       " '🇸🇻': ':El_Salvador:',\n",
       " '🏴\\U000e0067\\U000e0062\\U000e0065\\U000e006e\\U000e0067\\U000e007f': ':England:',\n",
       " '🇬🇶': ':Equatorial_Guinea:',\n",
       " '🇪🇷': ':Eritrea:',\n",
       " '🇪🇪': ':Estonia:',\n",
       " '🇸🇿': ':Eswatini:',\n",
       " '🇪🇹': ':Ethiopia:',\n",
       " '🇪🇺': ':European_Union:',\n",
       " '🆓': ':FREE_button:',\n",
       " '🇫🇰': ':Falkland_Islands:',\n",
       " '🇫🇴': ':Faroe_Islands:',\n",
       " '🇫🇯': ':Fiji:',\n",
       " '🇫🇮': ':Finland:',\n",
       " '🇫🇷': ':France:',\n",
       " '🇬🇫': ':French_Guiana:',\n",
       " '🇵🇫': ':French_Polynesia:',\n",
       " '🇹🇫': ':French_Southern_Territories:',\n",
       " '🇬🇦': ':Gabon:',\n",
       " '🇬🇲': ':Gambia:',\n",
       " '♊': ':Gemini:',\n",
       " '🇬🇪': ':Georgia:',\n",
       " '🇩🇪': ':Germany:',\n",
       " '🇬🇭': ':Ghana:',\n",
       " '🇬🇮': ':Gibraltar:',\n",
       " '🇬🇷': ':Greece:',\n",
       " '🇬🇱': ':Greenland:',\n",
       " '🇬🇩': ':Grenada:',\n",
       " '🇬🇵': ':Guadeloupe:',\n",
       " '🇬🇺': ':Guam:',\n",
       " '🇬🇹': ':Guatemala:',\n",
       " '🇬🇬': ':Guernsey:',\n",
       " '🇬🇳': ':Guinea:',\n",
       " '🇬🇼': ':Guinea-Bissau:',\n",
       " '🇬🇾': ':Guyana:',\n",
       " '🇭🇹': ':Haiti:',\n",
       " '🇭🇲': ':Heard_&_McDonald_Islands:',\n",
       " '🇭🇳': ':Honduras:',\n",
       " '🇭🇰': ':Hong_Kong_SAR_China:',\n",
       " '🇭🇺': ':Hungary:',\n",
       " '🆔': ':ID_button:',\n",
       " '🇮🇸': ':Iceland:',\n",
       " '🇮🇳': ':India:',\n",
       " '🇮🇩': ':Indonesia:',\n",
       " '🇮🇷': ':Iran:',\n",
       " '🇮🇶': ':Iraq:',\n",
       " '🇮🇪': ':Ireland:',\n",
       " '🇮🇲': ':Isle_of_Man:',\n",
       " '🇮🇱': ':Israel:',\n",
       " '🇮🇹': ':Italy:',\n",
       " '🇯🇲': ':Jamaica:',\n",
       " '🇯🇵': ':Japan:',\n",
       " '🉑': ':Japanese_acceptable_button:',\n",
       " '🈸': ':Japanese_application_button:',\n",
       " '🉐': ':Japanese_bargain_button:',\n",
       " '🏯': ':Japanese_castle:',\n",
       " '㊗': ':Japanese_congratulations_button:',\n",
       " '🈹': ':Japanese_discount_button:',\n",
       " '🎎': ':Japanese_dolls:',\n",
       " '🈚': ':Japanese_free_of_charge_button:',\n",
       " '🈁': ':Japanese_here_button:',\n",
       " '🈷': ':Japanese_monthly_amount_button:',\n",
       " '🈵': ':Japanese_no_vacancy_button:',\n",
       " '🈶': ':Japanese_not_free_of_charge_button:',\n",
       " '🈺': ':Japanese_open_for_business_button:',\n",
       " '🈴': ':Japanese_passing_grade_button:',\n",
       " '🏣': ':Japanese_post_office:',\n",
       " '🈲': ':Japanese_prohibited_button:',\n",
       " '🈯': ':Japanese_reserved_button:',\n",
       " '㊙': ':Japanese_secret_button:',\n",
       " '🈂': ':Japanese_service_charge_button:',\n",
       " '🔰': ':Japanese_symbol_for_beginner:',\n",
       " '🈳': ':Japanese_vacancy_button:',\n",
       " '🇯🇪': ':Jersey:',\n",
       " '🇯🇴': ':Jordan:',\n",
       " '🇰🇿': ':Kazakhstan:',\n",
       " '🇰🇪': ':Kenya:',\n",
       " '🇰🇮': ':Kiribati:',\n",
       " '🇽🇰': ':Kosovo:',\n",
       " '🇰🇼': ':Kuwait:',\n",
       " '🇰🇬': ':Kyrgyzstan:',\n",
       " '🇱🇦': ':Laos:',\n",
       " '🇱🇻': ':Latvia:',\n",
       " '🇱🇧': ':Lebanon:',\n",
       " '♌': ':Leo:',\n",
       " '🇱🇸': ':Lesotho:',\n",
       " '🇱🇷': ':Liberia:',\n",
       " '♎': ':Libra:',\n",
       " '🇱🇾': ':Libya:',\n",
       " '🇱🇮': ':Liechtenstein:',\n",
       " '🇱🇹': ':Lithuania:',\n",
       " '🇱🇺': ':Luxembourg:',\n",
       " '🇲🇴': ':Macao_SAR_China:',\n",
       " '🇲🇬': ':Madagascar:',\n",
       " '🇲🇼': ':Malawi:',\n",
       " '🇲🇾': ':Malaysia:',\n",
       " '🇲🇻': ':Maldives:',\n",
       " '🇲🇱': ':Mali:',\n",
       " '🇲🇹': ':Malta:',\n",
       " '🇲🇭': ':Marshall_Islands:',\n",
       " '🇲🇶': ':Martinique:',\n",
       " '🇲🇷': ':Mauritania:',\n",
       " '🇲🇺': ':Mauritius:',\n",
       " '🇾🇹': ':Mayotte:',\n",
       " '🇲🇽': ':Mexico:',\n",
       " '🇫🇲': ':Micronesia:',\n",
       " '🇲🇩': ':Moldova:',\n",
       " '🇲🇨': ':Monaco:',\n",
       " '🇲🇳': ':Mongolia:',\n",
       " '🇲🇪': ':Montenegro:',\n",
       " '🇲🇸': ':Montserrat:',\n",
       " '🇲🇦': ':Morocco:',\n",
       " '🇲🇿': ':Mozambique:',\n",
       " '🤶': ':Mrs._Claus:',\n",
       " '🤶🏿': ':Mrs._Claus_dark_skin_tone:',\n",
       " '🤶🏻': ':Mrs._Claus_light_skin_tone:',\n",
       " '🤶🏾': ':Mrs._Claus_medium-dark_skin_tone:',\n",
       " '🤶🏼': ':Mrs._Claus_medium-light_skin_tone:',\n",
       " '🤶🏽': ':Mrs._Claus_medium_skin_tone:',\n",
       " '🇲🇲': ':Myanmar_(Burma):',\n",
       " '🆕': ':NEW_button:',\n",
       " '🆖': ':NG_button:',\n",
       " '🇳🇦': ':Namibia:',\n",
       " '🇳🇷': ':Nauru:',\n",
       " '🇳🇵': ':Nepal:',\n",
       " '🇳🇱': ':Netherlands:',\n",
       " '🇳🇨': ':New_Caledonia:',\n",
       " '🇳🇿': ':New_Zealand:',\n",
       " '🇳🇮': ':Nicaragua:',\n",
       " '🇳🇪': ':Niger:',\n",
       " '🇳🇬': ':Nigeria:',\n",
       " '🇳🇺': ':Niue:',\n",
       " '🇳🇫': ':Norfolk_Island:',\n",
       " '🇰🇵': ':North_Korea:',\n",
       " '🇲🇰': ':North_Macedonia:',\n",
       " '🇲🇵': ':Northern_Mariana_Islands:',\n",
       " '🇳🇴': ':Norway:',\n",
       " '🆗': ':OK_button:',\n",
       " '👌': ':OK_hand:',\n",
       " '👌🏿': ':OK_hand_dark_skin_tone:',\n",
       " '👌🏻': ':OK_hand_light_skin_tone:',\n",
       " '👌🏾': ':OK_hand_medium-dark_skin_tone:',\n",
       " '👌🏼': ':OK_hand_medium-light_skin_tone:',\n",
       " '👌🏽': ':OK_hand_medium_skin_tone:',\n",
       " '🔛': ':ON!_arrow:',\n",
       " '🅾': ':O_button_(blood_type):',\n",
       " '🇴🇲': ':Oman:',\n",
       " '⛎': ':Ophiuchus:',\n",
       " '🅿': ':P_button:',\n",
       " '🇵🇰': ':Pakistan:',\n",
       " '🇵🇼': ':Palau:',\n",
       " '🇵🇸': ':Palestinian_Territories:',\n",
       " '🇵🇦': ':Panama:',\n",
       " '🇵🇬': ':Papua_New_Guinea:',\n",
       " '🇵🇾': ':Paraguay:',\n",
       " '🇵🇪': ':Peru:',\n",
       " '🇵🇭': ':Philippines:',\n",
       " '♓': ':Pisces:',\n",
       " '🇵🇳': ':Pitcairn_Islands:',\n",
       " '🇵🇱': ':Poland:',\n",
       " '🇵🇹': ':Portugal:',\n",
       " '🇵🇷': ':Puerto_Rico:',\n",
       " '🇶🇦': ':Qatar:',\n",
       " '🇷🇴': ':Romania:',\n",
       " '🇷🇺': ':Russia:',\n",
       " '🇷🇼': ':Rwanda:',\n",
       " '🇷🇪': ':Réunion:',\n",
       " '🔜': ':SOON_arrow:',\n",
       " '🆘': ':SOS_button:',\n",
       " '♐': ':Sagittarius:',\n",
       " '🇼🇸': ':Samoa:',\n",
       " '🇸🇲': ':San_Marino:',\n",
       " '🎅': ':Santa_Claus:',\n",
       " '🎅🏿': ':Santa_Claus_dark_skin_tone:',\n",
       " '🎅🏻': ':Santa_Claus_light_skin_tone:',\n",
       " '🎅🏾': ':Santa_Claus_medium-dark_skin_tone:',\n",
       " '🎅🏼': ':Santa_Claus_medium-light_skin_tone:',\n",
       " '🎅🏽': ':Santa_Claus_medium_skin_tone:',\n",
       " '🇸🇦': ':Saudi_Arabia:',\n",
       " '♏': ':Scorpio:',\n",
       " '🏴\\U000e0067\\U000e0062\\U000e0073\\U000e0063\\U000e0074\\U000e007f': ':Scotland:',\n",
       " '🇸🇳': ':Senegal:',\n",
       " '🇷🇸': ':Serbia:',\n",
       " '🇸🇨': ':Seychelles:',\n",
       " '🇸🇱': ':Sierra_Leone:',\n",
       " '🇸🇬': ':Singapore:',\n",
       " '🇸🇽': ':Sint_Maarten:',\n",
       " '🇸🇰': ':Slovakia:',\n",
       " '🇸🇮': ':Slovenia:',\n",
       " '🇸🇧': ':Solomon_Islands:',\n",
       " '🇸🇴': ':Somalia:',\n",
       " '🇿🇦': ':South_Africa:',\n",
       " '🇬🇸': ':South_Georgia_&_South_Sandwich_Islands:',\n",
       " '🇰🇷': ':South_Korea:',\n",
       " '🇸🇸': ':South_Sudan:',\n",
       " '🇪🇸': ':Spain:',\n",
       " '🇱🇰': ':Sri_Lanka:',\n",
       " '🇧🇱': ':St._Barthélemy:',\n",
       " '🇸🇭': ':St._Helena:',\n",
       " '🇰🇳': ':St._Kitts_&_Nevis:',\n",
       " '🇱🇨': ':St._Lucia:',\n",
       " '🇲🇫': ':St._Martin:',\n",
       " '🇵🇲': ':St._Pierre_&_Miquelon:',\n",
       " '🇻🇨': ':St._Vincent_&_Grenadines:',\n",
       " '🗽': ':Statue_of_Liberty:',\n",
       " '🇸🇩': ':Sudan:',\n",
       " '🇸🇷': ':Suriname:',\n",
       " '🇸🇯': ':Svalbard_&_Jan_Mayen:',\n",
       " '🇸🇪': ':Sweden:',\n",
       " '🇨🇭': ':Switzerland:',\n",
       " '🇸🇾': ':Syria:',\n",
       " '🇸🇹': ':São_Tomé_&_Príncipe:',\n",
       " '🦖': ':T-Rex:',\n",
       " '🔝': ':TOP_arrow:',\n",
       " '🇹🇼': ':Taiwan:',\n",
       " '🇹🇯': ':Tajikistan:',\n",
       " '🇹🇿': ':Tanzania:',\n",
       " '♉': ':Taurus:',\n",
       " '🇹🇭': ':Thailand:',\n",
       " '🇹🇱': ':Timor-Leste:',\n",
       " '🇹🇬': ':Togo:',\n",
       " '🇹🇰': ':Tokelau:',\n",
       " '🗼': ':Tokyo_tower:',\n",
       " '🇹🇴': ':Tonga:',\n",
       " '🇹🇹': ':Trinidad_&_Tobago:',\n",
       " '🇹🇦': ':Tristan_da_Cunha:',\n",
       " '🇹🇳': ':Tunisia:',\n",
       " '🇹🇷': ':Turkey:',\n",
       " '🇹🇲': ':Turkmenistan:',\n",
       " '🇹🇨': ':Turks_&_Caicos_Islands:',\n",
       " '🇹🇻': ':Tuvalu:',\n",
       " '🇺🇲': ':U.S._Outlying_Islands:',\n",
       " '🇻🇮': ':U.S._Virgin_Islands:',\n",
       " '🆙': ':UP!_button:',\n",
       " '🇺🇬': ':Uganda:',\n",
       " '🇺🇦': ':Ukraine:',\n",
       " '🇦🇪': ':United_Arab_Emirates:',\n",
       " '🇬🇧': ':United_Kingdom:',\n",
       " '🇺🇳': ':United_Nations:',\n",
       " '🇺🇸': ':United_States:',\n",
       " '🇺🇾': ':Uruguay:',\n",
       " '🇺🇿': ':Uzbekistan:',\n",
       " '🆚': ':VS_button:',\n",
       " '🇻🇺': ':Vanuatu:',\n",
       " '🇻🇦': ':Vatican_City:',\n",
       " '🇻🇪': ':Venezuela:',\n",
       " '🇻🇳': ':Vietnam:',\n",
       " '♍': ':Virgo:',\n",
       " '🏴\\U000e0067\\U000e0062\\U000e0077\\U000e006c\\U000e0073\\U000e007f': ':Wales:',\n",
       " '🇼🇫': ':Wallis_&_Futuna:',\n",
       " '🇪🇭': ':Western_Sahara:',\n",
       " '🇾🇪': ':Yemen:',\n",
       " '🇿🇲': ':Zambia:',\n",
       " '🇿🇼': ':Zimbabwe:',\n",
       " '🧮': ':abacus:',\n",
       " '\\U0001fa97': ':accordion:',\n",
       " '🩹': ':adhesive_bandage:',\n",
       " '🎟': ':admission_tickets:',\n",
       " '🚡': ':aerial_tramway:',\n",
       " '✈': ':airplane:',\n",
       " '🛬': ':airplane_arrival:',\n",
       " '🛫': ':airplane_departure:',\n",
       " '⏰': ':alarm_clock:',\n",
       " '⚗': ':alembic:',\n",
       " '👽': ':alien:',\n",
       " '👾': ':alien_monster:',\n",
       " '🚑': ':ambulance:',\n",
       " '🏈': ':american_football:',\n",
       " '🏺': ':amphora:',\n",
       " '\\U0001fac0': ':anatomical_heart:',\n",
       " '⚓': ':anchor:',\n",
       " '💢': ':anger_symbol:',\n",
       " '😠': ':angry_face:',\n",
       " '👿': ':angry_face_with_horns:',\n",
       " '😧': ':anguished_face:',\n",
       " '🐜': ':ant:',\n",
       " '📶': ':antenna_bars:',\n",
       " '😰': ':anxious_face_with_sweat:',\n",
       " '🚛': ':articulated_lorry:',\n",
       " '🧑\\u200d🎨': ':artist:',\n",
       " '🧑🏿\\u200d🎨': ':artist_dark_skin_tone:',\n",
       " '🧑🏻\\u200d🎨': ':artist_light_skin_tone:',\n",
       " '🧑🏾\\u200d🎨': ':artist_medium-dark_skin_tone:',\n",
       " '🧑🏼\\u200d🎨': ':artist_medium-light_skin_tone:',\n",
       " '🧑🏽\\u200d🎨': ':artist_medium_skin_tone:',\n",
       " '🎨': ':artist_palette:',\n",
       " '😲': ':astonished_face:',\n",
       " '🧑\\u200d🚀': ':astronaut:',\n",
       " '🧑🏿\\u200d🚀': ':astronaut_dark_skin_tone:',\n",
       " '🧑🏻\\u200d🚀': ':astronaut_light_skin_tone:',\n",
       " '🧑🏾\\u200d🚀': ':astronaut_medium-dark_skin_tone:',\n",
       " '🧑🏼\\u200d🚀': ':astronaut_medium-light_skin_tone:',\n",
       " '🧑🏽\\u200d🚀': ':astronaut_medium_skin_tone:',\n",
       " '⚛': ':atom_symbol:',\n",
       " '🛺': ':auto_rickshaw:',\n",
       " '🚗': ':automobile:',\n",
       " '🥑': ':avocado:',\n",
       " '🪓': ':axe:',\n",
       " '👶': ':baby:',\n",
       " '👼': ':baby_angel:',\n",
       " '👼🏿': ':baby_angel_dark_skin_tone:',\n",
       " '👼🏻': ':baby_angel_light_skin_tone:',\n",
       " '👼🏾': ':baby_angel_medium-dark_skin_tone:',\n",
       " '👼🏼': ':baby_angel_medium-light_skin_tone:',\n",
       " '👼🏽': ':baby_angel_medium_skin_tone:',\n",
       " '🍼': ':baby_bottle:',\n",
       " '🐤': ':baby_chick:',\n",
       " '👶🏿': ':baby_dark_skin_tone:',\n",
       " '👶🏻': ':baby_light_skin_tone:',\n",
       " '👶🏾': ':baby_medium-dark_skin_tone:',\n",
       " '👶🏼': ':baby_medium-light_skin_tone:',\n",
       " '👶🏽': ':baby_medium_skin_tone:',\n",
       " '🚼': ':baby_symbol:',\n",
       " '👇': ':backhand_index_pointing_down:',\n",
       " '👇🏿': ':backhand_index_pointing_down_dark_skin_tone:',\n",
       " '👇🏻': ':backhand_index_pointing_down_light_skin_tone:',\n",
       " '👇🏾': ':backhand_index_pointing_down_medium-dark_skin_tone:',\n",
       " '👇🏼': ':backhand_index_pointing_down_medium-light_skin_tone:',\n",
       " '👇🏽': ':backhand_index_pointing_down_medium_skin_tone:',\n",
       " '👈': ':backhand_index_pointing_left:',\n",
       " '👈🏿': ':backhand_index_pointing_left_dark_skin_tone:',\n",
       " '👈🏻': ':backhand_index_pointing_left_light_skin_tone:',\n",
       " '👈🏾': ':backhand_index_pointing_left_medium-dark_skin_tone:',\n",
       " '👈🏼': ':backhand_index_pointing_left_medium-light_skin_tone:',\n",
       " '👈🏽': ':backhand_index_pointing_left_medium_skin_tone:',\n",
       " '👉': ':backhand_index_pointing_right:',\n",
       " '👉🏿': ':backhand_index_pointing_right_dark_skin_tone:',\n",
       " '👉🏻': ':backhand_index_pointing_right_light_skin_tone:',\n",
       " '👉🏾': ':backhand_index_pointing_right_medium-dark_skin_tone:',\n",
       " '👉🏼': ':backhand_index_pointing_right_medium-light_skin_tone:',\n",
       " '👉🏽': ':backhand_index_pointing_right_medium_skin_tone:',\n",
       " '👆': ':backhand_index_pointing_up:',\n",
       " '👆🏿': ':backhand_index_pointing_up_dark_skin_tone:',\n",
       " '👆🏻': ':backhand_index_pointing_up_light_skin_tone:',\n",
       " '👆🏾': ':backhand_index_pointing_up_medium-dark_skin_tone:',\n",
       " '👆🏼': ':backhand_index_pointing_up_medium-light_skin_tone:',\n",
       " '👆🏽': ':backhand_index_pointing_up_medium_skin_tone:',\n",
       " '🎒': ':backpack:',\n",
       " '🥓': ':bacon:',\n",
       " '🦡': ':badger:',\n",
       " '🏸': ':badminton:',\n",
       " '🥯': ':bagel:',\n",
       " '🛄': ':baggage_claim:',\n",
       " '🥖': ':baguette_bread:',\n",
       " '⚖': ':balance_scale:',\n",
       " '🦲': ':bald:',\n",
       " '🩰': ':ballet_shoes:',\n",
       " '🎈': ':balloon:',\n",
       " '🗳': ':ballot_box_with_ballot:',\n",
       " '🍌': ':banana:',\n",
       " '🪕': ':banjo:',\n",
       " '🏦': ':bank:',\n",
       " '📊': ':bar_chart:',\n",
       " '💈': ':barber_pole:',\n",
       " '⚾': ':baseball:',\n",
       " '🧺': ':basket:',\n",
       " '🏀': ':basketball:',\n",
       " '🦇': ':bat:',\n",
       " '🛁': ':bathtub:',\n",
       " '🔋': ':battery:',\n",
       " '🏖': ':beach_with_umbrella:',\n",
       " '😁': ':beaming_face_with_smiling_eyes:',\n",
       " '🐻': ':bear:',\n",
       " '💓': ':beating_heart:',\n",
       " '\\U0001f9ab': ':beaver:',\n",
       " '🛏': ':bed:',\n",
       " '🍺': ':beer_mug:',\n",
       " '\\U0001fab2': ':beetle:',\n",
       " '🔔': ':bell:',\n",
       " '\\U0001fad1': ':bell_pepper:',\n",
       " '🔕': ':bell_with_slash:',\n",
       " '🛎': ':bellhop_bell:',\n",
       " '🍱': ':bento_box:',\n",
       " '🧃': ':beverage_box:',\n",
       " '🚲': ':bicycle:',\n",
       " '👙': ':bikini:',\n",
       " '🧢': ':billed_cap:',\n",
       " '☣': ':biohazard:',\n",
       " '🐦': ':bird:',\n",
       " '🎂': ':birthday_cake:',\n",
       " '\\U0001f9ac': ':bison:',\n",
       " '🐈\\u200d⬛': ':black_cat:',\n",
       " '⚫': ':black_circle:',\n",
       " '🏴': ':black_flag:',\n",
       " '🖤': ':black_heart:',\n",
       " '⬛': ':black_large_square:',\n",
       " '◾': ':black_medium-small_square:',\n",
       " '◼': ':black_medium_square:',\n",
       " '✒': ':black_nib:',\n",
       " '▪': ':black_small_square:',\n",
       " '🔲': ':black_square_button:',\n",
       " '🌼': ':blossom:',\n",
       " '🐡': ':blowfish:',\n",
       " '📘': ':blue_book:',\n",
       " '🔵': ':blue_circle:',\n",
       " '💙': ':blue_heart:',\n",
       " '🟦': ':blue_square:',\n",
       " '\\U0001fad0': ':blueberries:',\n",
       " '🐗': ':boar:',\n",
       " '💣': ':bomb:',\n",
       " '🦴': ':bone:',\n",
       " '🔖': ':bookmark:',\n",
       " '📑': ':bookmark_tabs:',\n",
       " '📚': ':books:',\n",
       " '\\U0001fa83': ':boomerang:',\n",
       " '🍾': ':bottle_with_popping_cork:',\n",
       " '💐': ':bouquet:',\n",
       " '🏹': ':bow_and_arrow:',\n",
       " '🥣': ':bowl_with_spoon:',\n",
       " '🎳': ':bowling:',\n",
       " '🥊': ':boxing_glove:',\n",
       " '👦': ':boy:',\n",
       " '👦🏿': ':boy_dark_skin_tone:',\n",
       " '👦🏻': ':boy_light_skin_tone:',\n",
       " '👦🏾': ':boy_medium-dark_skin_tone:',\n",
       " '👦🏼': ':boy_medium-light_skin_tone:',\n",
       " '👦🏽': ':boy_medium_skin_tone:',\n",
       " '🧠': ':brain:',\n",
       " '🍞': ':bread:',\n",
       " '🤱': ':breast-feeding:',\n",
       " '🤱🏿': ':breast-feeding_dark_skin_tone:',\n",
       " '🤱🏻': ':breast-feeding_light_skin_tone:',\n",
       " '🤱🏾': ':breast-feeding_medium-dark_skin_tone:',\n",
       " '🤱🏼': ':breast-feeding_medium-light_skin_tone:',\n",
       " '🤱🏽': ':breast-feeding_medium_skin_tone:',\n",
       " '🧱': ':brick:',\n",
       " '🌉': ':bridge_at_night:',\n",
       " '💼': ':briefcase:',\n",
       " '🩲': ':briefs:',\n",
       " '🔆': ':bright_button:',\n",
       " '🥦': ':broccoli:',\n",
       " '💔': ':broken_heart:',\n",
       " '🧹': ':broom:',\n",
       " '🟤': ':brown_circle:',\n",
       " '🤎': ':brown_heart:',\n",
       " '🟫': ':brown_square:',\n",
       " '\\U0001f9cb': ':bubble_tea:',\n",
       " '\\U0001faa3': ':bucket:',\n",
       " '🐛': ':bug:',\n",
       " '🏗': ':building_construction:',\n",
       " '🚅': ':bullet_train:',\n",
       " '🎯': ':bullseye:',\n",
       " '🌯': ':burrito:',\n",
       " '🚌': ':bus:',\n",
       " '🚏': ':bus_stop:',\n",
       " '👤': ':bust_in_silhouette:',\n",
       " '👥': ':busts_in_silhouette:',\n",
       " '🧈': ':butter:',\n",
       " '🦋': ':butterfly:',\n",
       " '🌵': ':cactus:',\n",
       " '📅': ':calendar:',\n",
       " '🤙': ':call_me_hand:',\n",
       " '🤙🏿': ':call_me_hand_dark_skin_tone:',\n",
       " '🤙🏻': ':call_me_hand_light_skin_tone:',\n",
       " '🤙🏾': ':call_me_hand_medium-dark_skin_tone:',\n",
       " '🤙🏼': ':call_me_hand_medium-light_skin_tone:',\n",
       " '🤙🏽': ':call_me_hand_medium_skin_tone:',\n",
       " '🐪': ':camel:',\n",
       " '📷': ':camera:',\n",
       " '📸': ':camera_with_flash:',\n",
       " '🏕': ':camping:',\n",
       " '🕯': ':candle:',\n",
       " '🍬': ':candy:',\n",
       " '🥫': ':canned_food:',\n",
       " '🛶': ':canoe:',\n",
       " '🗃': ':card_file_box:',\n",
       " '📇': ':card_index:',\n",
       " '🗂': ':card_index_dividers:',\n",
       " '🎠': ':carousel_horse:',\n",
       " '🎏': ':carp_streamer:',\n",
       " '\\U0001fa9a': ':carpentry_saw:',\n",
       " '🥕': ':carrot:',\n",
       " '🏰': ':castle:',\n",
       " '🐈': ':cat:',\n",
       " '🐱': ':cat_face:',\n",
       " '😹': ':cat_with_tears_of_joy:',\n",
       " '😼': ':cat_with_wry_smile:',\n",
       " '⛓': ':chains:',\n",
       " '🪑': ':chair:',\n",
       " '📉': ':chart_decreasing:',\n",
       " '📈': ':chart_increasing:',\n",
       " '💹': ':chart_increasing_with_yen:',\n",
       " '☑': ':check_box_with_check:',\n",
       " '✔': ':check_mark:',\n",
       " '✅': ':check_mark_button:',\n",
       " '🧀': ':cheese_wedge:',\n",
       " '🏁': ':chequered_flag:',\n",
       " '🍒': ':cherries:',\n",
       " '🌸': ':cherry_blossom:',\n",
       " '♟': ':chess_pawn:',\n",
       " '🌰': ':chestnut:',\n",
       " '🐔': ':chicken:',\n",
       " '🧒': ':child:',\n",
       " '🧒🏿': ':child_dark_skin_tone:',\n",
       " '🧒🏻': ':child_light_skin_tone:',\n",
       " '🧒🏾': ':child_medium-dark_skin_tone:',\n",
       " '🧒🏼': ':child_medium-light_skin_tone:',\n",
       " '🧒🏽': ':child_medium_skin_tone:',\n",
       " '🚸': ':children_crossing:',\n",
       " '🐿': ':chipmunk:',\n",
       " '🍫': ':chocolate_bar:',\n",
       " '🥢': ':chopsticks:',\n",
       " '⛪': ':church:',\n",
       " '🚬': ':cigarette:',\n",
       " '🎦': ':cinema:',\n",
       " 'Ⓜ': ':circled_M:',\n",
       " '🎪': ':circus_tent:',\n",
       " '🏙': ':cityscape:',\n",
       " '🌆': ':cityscape_at_dusk:',\n",
       " '🗜': ':clamp:',\n",
       " '🎬': ':clapper_board:',\n",
       " '👏': ':clapping_hands:',\n",
       " '👏🏿': ':clapping_hands_dark_skin_tone:',\n",
       " '👏🏻': ':clapping_hands_light_skin_tone:',\n",
       " '👏🏾': ':clapping_hands_medium-dark_skin_tone:',\n",
       " '👏🏼': ':clapping_hands_medium-light_skin_tone:',\n",
       " '👏🏽': ':clapping_hands_medium_skin_tone:',\n",
       " '🏛': ':classical_building:',\n",
       " '🍻': ':clinking_beer_mugs:',\n",
       " '🥂': ':clinking_glasses:',\n",
       " '📋': ':clipboard:',\n",
       " '🔃': ':clockwise_vertical_arrows:',\n",
       " '📕': ':closed_book:',\n",
       " '📪': ':closed_mailbox_with_lowered_flag:',\n",
       " '📫': ':closed_mailbox_with_raised_flag:',\n",
       " '🌂': ':closed_umbrella:',\n",
       " '☁': ':cloud:',\n",
       " '🌩': ':cloud_with_lightning:',\n",
       " '⛈': ':cloud_with_lightning_and_rain:',\n",
       " '🌧': ':cloud_with_rain:',\n",
       " '🌨': ':cloud_with_snow:',\n",
       " '🤡': ':clown_face:',\n",
       " '♣': ':club_suit:',\n",
       " '👝': ':clutch_bag:',\n",
       " '🧥': ':coat:',\n",
       " '\\U0001fab3': ':cockroach:',\n",
       " '🍸': ':cocktail_glass:',\n",
       " '🥥': ':coconut:',\n",
       " '⚰': ':coffin:',\n",
       " '\\U0001fa99': ':coin:',\n",
       " '🥶': ':cold_face:',\n",
       " '💥': ':collision:',\n",
       " '☄': ':comet:',\n",
       " '🧭': ':compass:',\n",
       " '💽': ':computer_disk:',\n",
       " '🖱': ':computer_mouse:',\n",
       " '🎊': ':confetti_ball:',\n",
       " '😖': ':confounded_face:',\n",
       " '😕': ':confused_face:',\n",
       " '🚧': ':construction:',\n",
       " '👷': ':construction_worker:',\n",
       " '👷🏿': ':construction_worker_dark_skin_tone:',\n",
       " '👷🏻': ':construction_worker_light_skin_tone:',\n",
       " '👷🏾': ':construction_worker_medium-dark_skin_tone:',\n",
       " '👷🏼': ':construction_worker_medium-light_skin_tone:',\n",
       " '👷🏽': ':construction_worker_medium_skin_tone:',\n",
       " '🎛': ':control_knobs:',\n",
       " '🏪': ':convenience_store:',\n",
       " '🧑\\u200d🍳': ':cook:',\n",
       " '🧑🏿\\u200d🍳': ':cook_dark_skin_tone:',\n",
       " '🧑🏻\\u200d🍳': ':cook_light_skin_tone:',\n",
       " '🧑🏾\\u200d🍳': ':cook_medium-dark_skin_tone:',\n",
       " '🧑🏼\\u200d🍳': ':cook_medium-light_skin_tone:',\n",
       " '🧑🏽\\u200d🍳': ':cook_medium_skin_tone:',\n",
       " '🍚': ':cooked_rice:',\n",
       " '🍪': ':cookie:',\n",
       " '🍳': ':cooking:',\n",
       " '©': ':copyright:',\n",
       " '🛋': ':couch_and_lamp:',\n",
       " '🔄': ':counterclockwise_arrows_button:',\n",
       " '💑': ':couple_with_heart:',\n",
       " '💑🏿': ':couple_with_heart_dark_skin_tone:',\n",
       " '💑🏻': ':couple_with_heart_light_skin_tone:',\n",
       " '👨\\u200d❤️\\u200d👨': ':couple_with_heart_man_man:',\n",
       " '👨🏿\\u200d❤️\\u200d👨🏿': ':couple_with_heart_man_man_dark_skin_tone:',\n",
       " '👨🏿\\u200d❤️\\u200d👨🏻': ':couple_with_heart_man_man_dark_skin_tone_light_skin_tone:',\n",
       " '👨🏿\\u200d❤️\\u200d👨🏾': ':couple_with_heart_man_man_dark_skin_tone_medium-dark_skin_tone:',\n",
       " '👨🏿\\u200d❤️\\u200d👨🏼': ':couple_with_heart_man_man_dark_skin_tone_medium-light_skin_tone:',\n",
       " '👨🏿\\u200d❤️\\u200d👨🏽': ':couple_with_heart_man_man_dark_skin_tone_medium_skin_tone:',\n",
       " '👨🏻\\u200d❤️\\u200d👨🏻': ':couple_with_heart_man_man_light_skin_tone:',\n",
       " '👨🏻\\u200d❤️\\u200d👨🏿': ':couple_with_heart_man_man_light_skin_tone_dark_skin_tone:',\n",
       " '👨🏻\\u200d❤️\\u200d👨🏾': ':couple_with_heart_man_man_light_skin_tone_medium-dark_skin_tone:',\n",
       " '👨🏻\\u200d❤️\\u200d👨🏼': ':couple_with_heart_man_man_light_skin_tone_medium-light_skin_tone:',\n",
       " '👨🏻\\u200d❤️\\u200d👨🏽': ':couple_with_heart_man_man_light_skin_tone_medium_skin_tone:',\n",
       " '👨🏾\\u200d❤️\\u200d👨🏾': ':couple_with_heart_man_man_medium-dark_skin_tone:',\n",
       " '👨🏾\\u200d❤️\\u200d👨🏿': ':couple_with_heart_man_man_medium-dark_skin_tone_dark_skin_tone:',\n",
       " '👨🏾\\u200d❤️\\u200d👨🏻': ':couple_with_heart_man_man_medium-dark_skin_tone_light_skin_tone:',\n",
       " '👨🏾\\u200d❤️\\u200d👨🏼': ':couple_with_heart_man_man_medium-dark_skin_tone_medium-light_skin_tone:',\n",
       " '👨🏾\\u200d❤️\\u200d👨🏽': ':couple_with_heart_man_man_medium-dark_skin_tone_medium_skin_tone:',\n",
       " '👨🏼\\u200d❤️\\u200d👨🏼': ':couple_with_heart_man_man_medium-light_skin_tone:',\n",
       " '👨🏼\\u200d❤️\\u200d👨🏿': ':couple_with_heart_man_man_medium-light_skin_tone_dark_skin_tone:',\n",
       " '👨🏼\\u200d❤️\\u200d👨🏻': ':couple_with_heart_man_man_medium-light_skin_tone_light_skin_tone:',\n",
       " '👨🏼\\u200d❤️\\u200d👨🏾': ':couple_with_heart_man_man_medium-light_skin_tone_medium-dark_skin_tone:',\n",
       " '👨🏼\\u200d❤️\\u200d👨🏽': ':couple_with_heart_man_man_medium-light_skin_tone_medium_skin_tone:',\n",
       " '👨🏽\\u200d❤️\\u200d👨🏽': ':couple_with_heart_man_man_medium_skin_tone:',\n",
       " '👨🏽\\u200d❤️\\u200d👨🏿': ':couple_with_heart_man_man_medium_skin_tone_dark_skin_tone:',\n",
       " '👨🏽\\u200d❤️\\u200d👨🏻': ':couple_with_heart_man_man_medium_skin_tone_light_skin_tone:',\n",
       " '👨🏽\\u200d❤️\\u200d👨🏾': ':couple_with_heart_man_man_medium_skin_tone_medium-dark_skin_tone:',\n",
       " '👨🏽\\u200d❤️\\u200d👨🏼': ':couple_with_heart_man_man_medium_skin_tone_medium-light_skin_tone:',\n",
       " '💑🏾': ':couple_with_heart_medium-dark_skin_tone:',\n",
       " '💑🏼': ':couple_with_heart_medium-light_skin_tone:',\n",
       " '💑🏽': ':couple_with_heart_medium_skin_tone:',\n",
       " '🧑🏿\\u200d❤️\\u200d🧑🏻': ':couple_with_heart_person_person_dark_skin_tone_light_skin_tone:',\n",
       " '🧑🏿\\u200d❤️\\u200d🧑🏾': ':couple_with_heart_person_person_dark_skin_tone_medium-dark_skin_tone:',\n",
       " '🧑🏿\\u200d❤️\\u200d🧑🏼': ':couple_with_heart_person_person_dark_skin_tone_medium-light_skin_tone:',\n",
       " '🧑🏿\\u200d❤️\\u200d🧑🏽': ':couple_with_heart_person_person_dark_skin_tone_medium_skin_tone:',\n",
       " '🧑🏻\\u200d❤️\\u200d🧑🏿': ':couple_with_heart_person_person_light_skin_tone_dark_skin_tone:',\n",
       " '🧑🏻\\u200d❤️\\u200d🧑🏾': ':couple_with_heart_person_person_light_skin_tone_medium-dark_skin_tone:',\n",
       " '🧑🏻\\u200d❤️\\u200d🧑🏼': ':couple_with_heart_person_person_light_skin_tone_medium-light_skin_tone:',\n",
       " '🧑🏻\\u200d❤️\\u200d🧑🏽': ':couple_with_heart_person_person_light_skin_tone_medium_skin_tone:',\n",
       " '🧑🏾\\u200d❤️\\u200d🧑🏿': ':couple_with_heart_person_person_medium-dark_skin_tone_dark_skin_tone:',\n",
       " '🧑🏾\\u200d❤️\\u200d🧑🏻': ':couple_with_heart_person_person_medium-dark_skin_tone_light_skin_tone:',\n",
       " '🧑🏾\\u200d❤️\\u200d🧑🏼': ':couple_with_heart_person_person_medium-dark_skin_tone_medium-light_skin_tone:',\n",
       " '🧑🏾\\u200d❤️\\u200d🧑🏽': ':couple_with_heart_person_person_medium-dark_skin_tone_medium_skin_tone:',\n",
       " '🧑🏼\\u200d❤️\\u200d🧑🏿': ':couple_with_heart_person_person_medium-light_skin_tone_dark_skin_tone:',\n",
       " '🧑🏼\\u200d❤️\\u200d🧑🏻': ':couple_with_heart_person_person_medium-light_skin_tone_light_skin_tone:',\n",
       " '🧑🏼\\u200d❤️\\u200d🧑🏾': ':couple_with_heart_person_person_medium-light_skin_tone_medium-dark_skin_tone:',\n",
       " '🧑🏼\\u200d❤️\\u200d🧑🏽': ':couple_with_heart_person_person_medium-light_skin_tone_medium_skin_tone:',\n",
       " '🧑🏽\\u200d❤️\\u200d🧑🏿': ':couple_with_heart_person_person_medium_skin_tone_dark_skin_tone:',\n",
       " '🧑🏽\\u200d❤️\\u200d🧑🏻': ':couple_with_heart_person_person_medium_skin_tone_light_skin_tone:',\n",
       " '🧑🏽\\u200d❤️\\u200d🧑🏾': ':couple_with_heart_person_person_medium_skin_tone_medium-dark_skin_tone:',\n",
       " '🧑🏽\\u200d❤️\\u200d🧑🏼': ':couple_with_heart_person_person_medium_skin_tone_medium-light_skin_tone:',\n",
       " '👩\\u200d❤️\\u200d👨': ':couple_with_heart_woman_man:',\n",
       " '👩🏿\\u200d❤️\\u200d👨🏿': ':couple_with_heart_woman_man_dark_skin_tone:',\n",
       " '👩🏿\\u200d❤️\\u200d👨🏻': ':couple_with_heart_woman_man_dark_skin_tone_light_skin_tone:',\n",
       " '👩🏿\\u200d❤️\\u200d👨🏾': ':couple_with_heart_woman_man_dark_skin_tone_medium-dark_skin_tone:',\n",
       " '👩🏿\\u200d❤️\\u200d👨🏼': ':couple_with_heart_woman_man_dark_skin_tone_medium-light_skin_tone:',\n",
       " '👩🏿\\u200d❤️\\u200d👨🏽': ':couple_with_heart_woman_man_dark_skin_tone_medium_skin_tone:',\n",
       " '👩🏻\\u200d❤️\\u200d👨🏻': ':couple_with_heart_woman_man_light_skin_tone:',\n",
       " '👩🏻\\u200d❤️\\u200d👨🏿': ':couple_with_heart_woman_man_light_skin_tone_dark_skin_tone:',\n",
       " '👩🏻\\u200d❤️\\u200d👨🏾': ':couple_with_heart_woman_man_light_skin_tone_medium-dark_skin_tone:',\n",
       " '👩🏻\\u200d❤️\\u200d👨🏼': ':couple_with_heart_woman_man_light_skin_tone_medium-light_skin_tone:',\n",
       " '👩🏻\\u200d❤️\\u200d👨🏽': ':couple_with_heart_woman_man_light_skin_tone_medium_skin_tone:',\n",
       " '👩🏾\\u200d❤️\\u200d👨🏾': ':couple_with_heart_woman_man_medium-dark_skin_tone:',\n",
       " '👩🏾\\u200d❤️\\u200d👨🏿': ':couple_with_heart_woman_man_medium-dark_skin_tone_dark_skin_tone:',\n",
       " '👩🏾\\u200d❤️\\u200d👨🏻': ':couple_with_heart_woman_man_medium-dark_skin_tone_light_skin_tone:',\n",
       " '👩🏾\\u200d❤️\\u200d👨🏼': ':couple_with_heart_woman_man_medium-dark_skin_tone_medium-light_skin_tone:',\n",
       " '👩🏾\\u200d❤️\\u200d👨🏽': ':couple_with_heart_woman_man_medium-dark_skin_tone_medium_skin_tone:',\n",
       " '👩🏼\\u200d❤️\\u200d👨🏼': ':couple_with_heart_woman_man_medium-light_skin_tone:',\n",
       " '👩🏼\\u200d❤️\\u200d👨🏿': ':couple_with_heart_woman_man_medium-light_skin_tone_dark_skin_tone:',\n",
       " '👩🏼\\u200d❤️\\u200d👨🏻': ':couple_with_heart_woman_man_medium-light_skin_tone_light_skin_tone:',\n",
       " '👩🏼\\u200d❤️\\u200d👨🏾': ':couple_with_heart_woman_man_medium-light_skin_tone_medium-dark_skin_tone:',\n",
       " '👩🏼\\u200d❤️\\u200d👨🏽': ':couple_with_heart_woman_man_medium-light_skin_tone_medium_skin_tone:',\n",
       " '👩🏽\\u200d❤️\\u200d👨🏽': ':couple_with_heart_woman_man_medium_skin_tone:',\n",
       " '👩🏽\\u200d❤️\\u200d👨🏿': ':couple_with_heart_woman_man_medium_skin_tone_dark_skin_tone:',\n",
       " '👩🏽\\u200d❤️\\u200d👨🏻': ':couple_with_heart_woman_man_medium_skin_tone_light_skin_tone:',\n",
       " '👩🏽\\u200d❤️\\u200d👨🏾': ':couple_with_heart_woman_man_medium_skin_tone_medium-dark_skin_tone:',\n",
       " '👩🏽\\u200d❤️\\u200d👨🏼': ':couple_with_heart_woman_man_medium_skin_tone_medium-light_skin_tone:',\n",
       " '👩\\u200d❤️\\u200d👩': ':couple_with_heart_woman_woman:',\n",
       " '👩🏿\\u200d❤️\\u200d👩🏿': ':couple_with_heart_woman_woman_dark_skin_tone:',\n",
       " '👩🏿\\u200d❤️\\u200d👩🏻': ':couple_with_heart_woman_woman_dark_skin_tone_light_skin_tone:',\n",
       " '👩🏿\\u200d❤️\\u200d👩🏾': ':couple_with_heart_woman_woman_dark_skin_tone_medium-dark_skin_tone:',\n",
       " '👩🏿\\u200d❤️\\u200d👩🏼': ':couple_with_heart_woman_woman_dark_skin_tone_medium-light_skin_tone:',\n",
       " '👩🏿\\u200d❤️\\u200d👩🏽': ':couple_with_heart_woman_woman_dark_skin_tone_medium_skin_tone:',\n",
       " '👩🏻\\u200d❤️\\u200d👩🏻': ':couple_with_heart_woman_woman_light_skin_tone:',\n",
       " '👩🏻\\u200d❤️\\u200d👩🏿': ':couple_with_heart_woman_woman_light_skin_tone_dark_skin_tone:',\n",
       " '👩🏻\\u200d❤️\\u200d👩🏾': ':couple_with_heart_woman_woman_light_skin_tone_medium-dark_skin_tone:',\n",
       " '👩🏻\\u200d❤️\\u200d👩🏼': ':couple_with_heart_woman_woman_light_skin_tone_medium-light_skin_tone:',\n",
       " '👩🏻\\u200d❤️\\u200d👩🏽': ':couple_with_heart_woman_woman_light_skin_tone_medium_skin_tone:',\n",
       " '👩🏾\\u200d❤️\\u200d👩🏾': ':couple_with_heart_woman_woman_medium-dark_skin_tone:',\n",
       " '👩🏾\\u200d❤️\\u200d👩🏿': ':couple_with_heart_woman_woman_medium-dark_skin_tone_dark_skin_tone:',\n",
       " '👩🏾\\u200d❤️\\u200d👩🏻': ':couple_with_heart_woman_woman_medium-dark_skin_tone_light_skin_tone:',\n",
       " '👩🏾\\u200d❤️\\u200d👩🏼': ':couple_with_heart_woman_woman_medium-dark_skin_tone_medium-light_skin_tone:',\n",
       " '👩🏾\\u200d❤️\\u200d👩🏽': ':couple_with_heart_woman_woman_medium-dark_skin_tone_medium_skin_tone:',\n",
       " '👩🏼\\u200d❤️\\u200d👩🏼': ':couple_with_heart_woman_woman_medium-light_skin_tone:',\n",
       " '👩🏼\\u200d❤️\\u200d👩🏿': ':couple_with_heart_woman_woman_medium-light_skin_tone_dark_skin_tone:',\n",
       " '👩🏼\\u200d❤️\\u200d👩🏻': ':couple_with_heart_woman_woman_medium-light_skin_tone_light_skin_tone:',\n",
       " '👩🏼\\u200d❤️\\u200d👩🏾': ':couple_with_heart_woman_woman_medium-light_skin_tone_medium-dark_skin_tone:',\n",
       " '👩🏼\\u200d❤️\\u200d👩🏽': ':couple_with_heart_woman_woman_medium-light_skin_tone_medium_skin_tone:',\n",
       " '👩🏽\\u200d❤️\\u200d👩🏽': ':couple_with_heart_woman_woman_medium_skin_tone:',\n",
       " '👩🏽\\u200d❤️\\u200d👩🏿': ':couple_with_heart_woman_woman_medium_skin_tone_dark_skin_tone:',\n",
       " '👩🏽\\u200d❤️\\u200d👩🏻': ':couple_with_heart_woman_woman_medium_skin_tone_light_skin_tone:',\n",
       " '👩🏽\\u200d❤️\\u200d👩🏾': ':couple_with_heart_woman_woman_medium_skin_tone_medium-dark_skin_tone:',\n",
       " '👩🏽\\u200d❤️\\u200d👩🏼': ':couple_with_heart_woman_woman_medium_skin_tone_medium-light_skin_tone:',\n",
       " '🐄': ':cow:',\n",
       " '🐮': ':cow_face:',\n",
       " '🤠': ':cowboy_hat_face:',\n",
       " '🦀': ':crab:',\n",
       " '🖍': ':crayon:',\n",
       " '💳': ':credit_card:',\n",
       " '🌙': ':crescent_moon:',\n",
       " '🦗': ':cricket:',\n",
       " '🏏': ':cricket_game:',\n",
       " '🐊': ':crocodile:',\n",
       " '🥐': ':croissant:',\n",
       " '❌': ':cross_mark:',\n",
       " '❎': ':cross_mark_button:',\n",
       " '🤞': ':crossed_fingers:',\n",
       " '🤞🏿': ':crossed_fingers_dark_skin_tone:',\n",
       " '🤞🏻': ':crossed_fingers_light_skin_tone:',\n",
       " '🤞🏾': ':crossed_fingers_medium-dark_skin_tone:',\n",
       " '🤞🏼': ':crossed_fingers_medium-light_skin_tone:',\n",
       " '🤞🏽': ':crossed_fingers_medium_skin_tone:',\n",
       " '🎌': ':crossed_flags:',\n",
       " '⚔': ':crossed_swords:',\n",
       " '👑': ':crown:',\n",
       " '😿': ':crying_cat:',\n",
       " '😢': ':crying_face:',\n",
       " '🔮': ':crystal_ball:',\n",
       " '🥒': ':cucumber:',\n",
       " '🥤': ':cup_with_straw:',\n",
       " '🧁': ':cupcake:',\n",
       " '🥌': ':curling_stone:',\n",
       " '🦱': ':curly_hair:',\n",
       " '➰': ':curly_loop:',\n",
       " '💱': ':currency_exchange:',\n",
       " '🍛': ':curry_rice:',\n",
       " '🍮': ':custard:',\n",
       " '🛃': ':customs:',\n",
       " '🥩': ':cut_of_meat:',\n",
       " '🌀': ':cyclone:',\n",
       " '🗡': ':dagger:',\n",
       " '🍡': ':dango:',\n",
       " '🏿': ':dark_skin_tone:',\n",
       " '💨': ':dashing_away:',\n",
       " '🧏\\u200d♂️': ':deaf_man:',\n",
       " '🧏🏿\\u200d♂️': ':deaf_man_dark_skin_tone:',\n",
       " '🧏🏻\\u200d♂️': ':deaf_man_light_skin_tone:',\n",
       " '🧏🏾\\u200d♂️': ':deaf_man_medium-dark_skin_tone:',\n",
       " '🧏🏼\\u200d♂️': ':deaf_man_medium-light_skin_tone:',\n",
       " '🧏🏽\\u200d♂️': ':deaf_man_medium_skin_tone:',\n",
       " '🧏': ':deaf_person:',\n",
       " '🧏🏿': ':deaf_person_dark_skin_tone:',\n",
       " '🧏🏻': ':deaf_person_light_skin_tone:',\n",
       " '🧏🏾': ':deaf_person_medium-dark_skin_tone:',\n",
       " '🧏🏼': ':deaf_person_medium-light_skin_tone:',\n",
       " '🧏🏽': ':deaf_person_medium_skin_tone:',\n",
       " '🧏\\u200d♀️': ':deaf_woman:',\n",
       " '🧏🏿\\u200d♀️': ':deaf_woman_dark_skin_tone:',\n",
       " '🧏🏻\\u200d♀️': ':deaf_woman_light_skin_tone:',\n",
       " '🧏🏾\\u200d♀️': ':deaf_woman_medium-dark_skin_tone:',\n",
       " '🧏🏼\\u200d♀️': ':deaf_woman_medium-light_skin_tone:',\n",
       " '🧏🏽\\u200d♀️': ':deaf_woman_medium_skin_tone:',\n",
       " '🌳': ':deciduous_tree:',\n",
       " '🦌': ':deer:',\n",
       " '🚚': ':delivery_truck:',\n",
       " '🏬': ':department_store:',\n",
       " '🏚': ':derelict_house:',\n",
       " '🏜': ':desert:',\n",
       " '🏝': ':desert_island:',\n",
       " '🖥': ':desktop_computer:',\n",
       " '🕵': ':detective:',\n",
       " '🕵🏿': ':detective_dark_skin_tone:',\n",
       " '🕵🏻': ':detective_light_skin_tone:',\n",
       " '🕵🏾': ':detective_medium-dark_skin_tone:',\n",
       " '🕵🏼': ':detective_medium-light_skin_tone:',\n",
       " '🕵🏽': ':detective_medium_skin_tone:',\n",
       " '♦': ':diamond_suit:',\n",
       " '💠': ':diamond_with_a_dot:',\n",
       " '🔅': ':dim_button:',\n",
       " '😞': ':disappointed_face:',\n",
       " '\\U0001f978': ':disguised_face:',\n",
       " '➗': ':divide:',\n",
       " '🤿': ':diving_mask:',\n",
       " '🪔': ':diya_lamp:',\n",
       " '💫': ':dizzy:',\n",
       " '🧬': ':dna:',\n",
       " '\\U0001f9a4': ':dodo:',\n",
       " '🐕': ':dog:',\n",
       " '🐶': ':dog_face:',\n",
       " '💵': ':dollar_banknote:',\n",
       " '🐬': ':dolphin:',\n",
       " '🚪': ':door:',\n",
       " '🔯': ':dotted_six-pointed_star:',\n",
       " '➿': ':double_curly_loop:',\n",
       " '‼': ':double_exclamation_mark:',\n",
       " '🍩': ':doughnut:',\n",
       " '🕊': ':dove:',\n",
       " '↙': ':down-left_arrow:',\n",
       " '↘': ':down-right_arrow:',\n",
       " '⬇': ':down_arrow:',\n",
       " '😓': ':downcast_face_with_sweat:',\n",
       " '🔽': ':downwards_button:',\n",
       " '🐉': ':dragon:',\n",
       " '🐲': ':dragon_face:',\n",
       " '👗': ':dress:',\n",
       " '🤤': ':drooling_face:',\n",
       " '🩸': ':drop_of_blood:',\n",
       " '💧': ':droplet:',\n",
       " '🥁': ':drum:',\n",
       " '🦆': ':duck:',\n",
       " '🥟': ':dumpling:',\n",
       " '📀': ':dvd:',\n",
       " '📧': ':e-mail:',\n",
       " '🦅': ':eagle:',\n",
       " '👂': ':ear:',\n",
       " '👂🏿': ':ear_dark_skin_tone:',\n",
       " '👂🏻': ':ear_light_skin_tone:',\n",
       " '👂🏾': ':ear_medium-dark_skin_tone:',\n",
       " '👂🏼': ':ear_medium-light_skin_tone:',\n",
       " '👂🏽': ':ear_medium_skin_tone:',\n",
       " '🌽': ':ear_of_corn:',\n",
       " '🦻': ':ear_with_hearing_aid:',\n",
       " '🦻🏿': ':ear_with_hearing_aid_dark_skin_tone:',\n",
       " '🦻🏻': ':ear_with_hearing_aid_light_skin_tone:',\n",
       " '🦻🏾': ':ear_with_hearing_aid_medium-dark_skin_tone:',\n",
       " '🦻🏼': ':ear_with_hearing_aid_medium-light_skin_tone:',\n",
       " '🦻🏽': ':ear_with_hearing_aid_medium_skin_tone:',\n",
       " '🥚': ':egg:',\n",
       " '🍆': ':eggplant:',\n",
       " '✴': ':eight-pointed_star:',\n",
       " '✳': ':eight-spoked_asterisk:',\n",
       " '🕣': ':eight-thirty:',\n",
       " '🕗': ':eight_o’clock:',\n",
       " '⏏': ':eject_button:',\n",
       " '🔌': ':electric_plug:',\n",
       " '🐘': ':elephant:',\n",
       " '\\U0001f6d7': ':elevator:',\n",
       " '🕦': ':eleven-thirty:',\n",
       " '🕚': ':eleven_o’clock:',\n",
       " '🧝': ':elf:',\n",
       " '🧝🏿': ':elf_dark_skin_tone:',\n",
       " '🧝🏻': ':elf_light_skin_tone:',\n",
       " '🧝🏾': ':elf_medium-dark_skin_tone:',\n",
       " '🧝🏼': ':elf_medium-light_skin_tone:',\n",
       " '🧝🏽': ':elf_medium_skin_tone:',\n",
       " '✉': ':envelope:',\n",
       " '📩': ':envelope_with_arrow:',\n",
       " '💶': ':euro_banknote:',\n",
       " '🌲': ':evergreen_tree:',\n",
       " '🐑': ':ewe:',\n",
       " '⁉': ':exclamation_question_mark:',\n",
       " '🤯': ':exploding_head:',\n",
       " '😑': ':expressionless_face:',\n",
       " '👁': ':eye:',\n",
       " '👁️\\u200d🗨️': ':eye_in_speech_bubble:',\n",
       " '👀': ':eyes:',\n",
       " '😘': ':face_blowing_a_kiss:',\n",
       " '😮\\u200d💨': ':face_exhaling:',\n",
       " '😶\\u200d🌫️': ':face_in_clouds:',\n",
       " '😋': ':face_savoring_food:',\n",
       " '😱': ':face_screaming_in_fear:',\n",
       " '🤮': ':face_vomiting:',\n",
       " '🤭': ':face_with_hand_over_mouth:',\n",
       " '🤕': ':face_with_head-bandage:',\n",
       " '😷': ':face_with_medical_mask:',\n",
       " '🧐': ':face_with_monocle:',\n",
       " '😮': ':face_with_open_mouth:',\n",
       " '🤨': ':face_with_raised_eyebrow:',\n",
       " '🙄': ':face_with_rolling_eyes:',\n",
       " '😵\\u200d💫': ':face_with_spiral_eyes:',\n",
       " '😤': ':face_with_steam_from_nose:',\n",
       " '🤬': ':face_with_symbols_on_mouth:',\n",
       " '😂': ':face_with_tears_of_joy:',\n",
       " '🤒': ':face_with_thermometer:',\n",
       " '😛': ':face_with_tongue:',\n",
       " '😶': ':face_without_mouth:',\n",
       " '🏭': ':factory:',\n",
       " '🧑\\u200d🏭': ':factory_worker:',\n",
       " '🧑🏿\\u200d🏭': ':factory_worker_dark_skin_tone:',\n",
       " '🧑🏻\\u200d🏭': ':factory_worker_light_skin_tone:',\n",
       " '🧑🏾\\u200d🏭': ':factory_worker_medium-dark_skin_tone:',\n",
       " '🧑🏼\\u200d🏭': ':factory_worker_medium-light_skin_tone:',\n",
       " '🧑🏽\\u200d🏭': ':factory_worker_medium_skin_tone:',\n",
       " '🧚': ':fairy:',\n",
       " '🧚🏿': ':fairy_dark_skin_tone:',\n",
       " '🧚🏻': ':fairy_light_skin_tone:',\n",
       " '🧚🏾': ':fairy_medium-dark_skin_tone:',\n",
       " '🧚🏼': ':fairy_medium-light_skin_tone:',\n",
       " '🧚🏽': ':fairy_medium_skin_tone:',\n",
       " '🧆': ':falafel:',\n",
       " '🍂': ':fallen_leaf:',\n",
       " '👪': ':family:',\n",
       " '👨\\u200d👦': ':family_man_boy:',\n",
       " '👨\\u200d👦\\u200d👦': ':family_man_boy_boy:',\n",
       " '👨\\u200d👧': ':family_man_girl:',\n",
       " '👨\\u200d👧\\u200d👦': ':family_man_girl_boy:',\n",
       " '👨\\u200d👧\\u200d👧': ':family_man_girl_girl:',\n",
       " '👨\\u200d👨\\u200d👦': ':family_man_man_boy:',\n",
       " '👨\\u200d👨\\u200d👦\\u200d👦': ':family_man_man_boy_boy:',\n",
       " '👨\\u200d👨\\u200d👧': ':family_man_man_girl:',\n",
       " '👨\\u200d👨\\u200d👧\\u200d👦': ':family_man_man_girl_boy:',\n",
       " '👨\\u200d👨\\u200d👧\\u200d👧': ':family_man_man_girl_girl:',\n",
       " '👨\\u200d👩\\u200d👦': ':family_man_woman_boy:',\n",
       " '👨\\u200d👩\\u200d👦\\u200d👦': ':family_man_woman_boy_boy:',\n",
       " '👨\\u200d👩\\u200d👧': ':family_man_woman_girl:',\n",
       " '👨\\u200d👩\\u200d👧\\u200d👦': ':family_man_woman_girl_boy:',\n",
       " '👨\\u200d👩\\u200d👧\\u200d👧': ':family_man_woman_girl_girl:',\n",
       " '👩\\u200d👦': ':family_woman_boy:',\n",
       " '👩\\u200d👦\\u200d👦': ':family_woman_boy_boy:',\n",
       " '👩\\u200d👧': ':family_woman_girl:',\n",
       " '👩\\u200d👧\\u200d👦': ':family_woman_girl_boy:',\n",
       " '👩\\u200d👧\\u200d👧': ':family_woman_girl_girl:',\n",
       " '👩\\u200d👩\\u200d👦': ':family_woman_woman_boy:',\n",
       " '👩\\u200d👩\\u200d👦\\u200d👦': ':family_woman_woman_boy_boy:',\n",
       " '👩\\u200d👩\\u200d👧': ':family_woman_woman_girl:',\n",
       " '👩\\u200d👩\\u200d👧\\u200d👦': ':family_woman_woman_girl_boy:',\n",
       " '👩\\u200d👩\\u200d👧\\u200d👧': ':family_woman_woman_girl_girl:',\n",
       " '🧑\\u200d🌾': ':farmer:',\n",
       " '🧑🏿\\u200d🌾': ':farmer_dark_skin_tone:',\n",
       " '🧑🏻\\u200d🌾': ':farmer_light_skin_tone:',\n",
       " '🧑🏾\\u200d🌾': ':farmer_medium-dark_skin_tone:',\n",
       " '🧑🏼\\u200d🌾': ':farmer_medium-light_skin_tone:',\n",
       " '🧑🏽\\u200d🌾': ':farmer_medium_skin_tone:',\n",
       " '⏩': ':fast-forward_button:',\n",
       " '⏬': ':fast_down_button:',\n",
       " '⏪': ':fast_reverse_button:',\n",
       " '⏫': ':fast_up_button:',\n",
       " '📠': ':fax_machine:',\n",
       " '😨': ':fearful_face:',\n",
       " '\\U0001fab6': ':feather:',\n",
       " '♀': ':female_sign:',\n",
       " '🎡': ':ferris_wheel:',\n",
       " '⛴': ':ferry:',\n",
       " '🏑': ':field_hockey:',\n",
       " '🗄': ':file_cabinet:',\n",
       " '📁': ':file_folder:',\n",
       " '🎞': ':film_frames:',\n",
       " '📽': ':film_projector:',\n",
       " '🔥': ':fire:',\n",
       " '🚒': ':fire_engine:',\n",
       " '🧯': ':fire_extinguisher:',\n",
       " '🧨': ':firecracker:',\n",
       " '🧑\\u200d🚒': ':firefighter:',\n",
       " ...}"
      ]
     },
     "execution_count": 63,
     "metadata": {},
     "output_type": "execute_result"
    }
   ],
   "source": [
    "emoji.UNICODE_EMOJI['en']"
   ]
  },
  {
   "cell_type": "code",
   "execution_count": 64,
   "metadata": {},
   "outputs": [
    {
     "data": {
      "text/html": [
       "<div>\n",
       "<style scoped>\n",
       "    .dataframe tbody tr th:only-of-type {\n",
       "        vertical-align: middle;\n",
       "    }\n",
       "\n",
       "    .dataframe tbody tr th {\n",
       "        vertical-align: top;\n",
       "    }\n",
       "\n",
       "    .dataframe thead th {\n",
       "        text-align: right;\n",
       "    }\n",
       "</style>\n",
       "<table border=\"1\" class=\"dataframe\">\n",
       "  <thead>\n",
       "    <tr style=\"text-align: right;\">\n",
       "      <th></th>\n",
       "      <th>tweets</th>\n",
       "      <th>date</th>\n",
       "      <th>city</th>\n",
       "      <th>user_location</th>\n",
       "      <th>id</th>\n",
       "      <th>link</th>\n",
       "      <th>texto_limpio</th>\n",
       "      <th>links</th>\n",
       "      <th>hashtags</th>\n",
       "      <th>mentions</th>\n",
       "      <th>emojis</th>\n",
       "    </tr>\n",
       "  </thead>\n",
       "  <tbody>\n",
       "    <tr>\n",
       "      <th>0</th>\n",
       "      <td>Duque si hizo algo por Colombia: \\n\\nDuque hun...</td>\n",
       "      <td>2021-05-20 06:18:58</td>\n",
       "      <td>Cali</td>\n",
       "      <td>Colombia</td>\n",
       "      <td>1395262756799004672</td>\n",
       "      <td>https://twitter.com/i/web/stuatus/139526275679...</td>\n",
       "      <td>Duque si hizo algo por Colombia: \\n\\nDuque hun...</td>\n",
       "      <td>[]</td>\n",
       "      <td>[#PrimeraLinea]</td>\n",
       "      <td>[]</td>\n",
       "      <td>[]</td>\n",
       "    </tr>\n",
       "    <tr>\n",
       "      <th>1</th>\n",
       "      <td>@GobiernoBTA @andresidarragaf Que horror! No s...</td>\n",
       "      <td>2021-05-20 06:08:06</td>\n",
       "      <td>Cali</td>\n",
       "      <td>Bogotá, D.C., Colombia</td>\n",
       "      <td>1395260023643705348</td>\n",
       "      <td>https://twitter.com/i/web/stuatus/139526002364...</td>\n",
       "      <td>Que horror! No se cansan de mentir? Lo vimos...</td>\n",
       "      <td>[]</td>\n",
       "      <td>[]</td>\n",
       "      <td>[@GobiernoBTA, @andresidarragaf]</td>\n",
       "      <td>[]</td>\n",
       "    </tr>\n",
       "    <tr>\n",
       "      <th>2</th>\n",
       "      <td>Hoy en la multitudinaria movilización en Cali ...</td>\n",
       "      <td>2021-05-20 06:02:42</td>\n",
       "      <td>Cali</td>\n",
       "      <td>Cali, Valle del Cauca</td>\n",
       "      <td>1395258664051691522</td>\n",
       "      <td>https://twitter.com/i/web/stuatus/139525866405...</td>\n",
       "      <td>Hoy en la multitudinaria movilización en Cali ...</td>\n",
       "      <td>[]</td>\n",
       "      <td>[]</td>\n",
       "      <td>[]</td>\n",
       "      <td>[]</td>\n",
       "    </tr>\n",
       "    <tr>\n",
       "      <th>3</th>\n",
       "      <td>@VickyDavilaH @AlvaroUribeVel @IvanDuque esto ...</td>\n",
       "      <td>2021-05-20 06:01:12</td>\n",
       "      <td>Cali</td>\n",
       "      <td>Pradera, Colombia</td>\n",
       "      <td>1395258285477990400</td>\n",
       "      <td>https://twitter.com/i/web/stuatus/139525828547...</td>\n",
       "      <td>esto pasa cuando publicas los asesinatos pe...</td>\n",
       "      <td>[https://t.co/DtC9Nv1654]</td>\n",
       "      <td>[]</td>\n",
       "      <td>[@VickyDavilaH, @AlvaroUribeVel, @IvanDuque]</td>\n",
       "      <td>[]</td>\n",
       "    </tr>\n",
       "    <tr>\n",
       "      <th>4</th>\n",
       "      <td>Portal de las Américas, anoche entre 10 y 10:3...</td>\n",
       "      <td>2021-05-20 05:56:58</td>\n",
       "      <td>Cali</td>\n",
       "      <td>Bogotá, D.C., Colombia</td>\n",
       "      <td>1395257220267495426</td>\n",
       "      <td>https://twitter.com/i/web/stuatus/139525722026...</td>\n",
       "      <td>Portal de las Américas, anoche entre 10 y 10:3...</td>\n",
       "      <td>[https://t.co/vSqmzddwtq]</td>\n",
       "      <td>[]</td>\n",
       "      <td>[]</td>\n",
       "      <td>[]</td>\n",
       "    </tr>\n",
       "  </tbody>\n",
       "</table>\n",
       "</div>"
      ],
      "text/plain": [
       "                                              tweets                date  \\\n",
       "0  Duque si hizo algo por Colombia: \\n\\nDuque hun... 2021-05-20 06:18:58   \n",
       "1  @GobiernoBTA @andresidarragaf Que horror! No s... 2021-05-20 06:08:06   \n",
       "2  Hoy en la multitudinaria movilización en Cali ... 2021-05-20 06:02:42   \n",
       "3  @VickyDavilaH @AlvaroUribeVel @IvanDuque esto ... 2021-05-20 06:01:12   \n",
       "4  Portal de las Américas, anoche entre 10 y 10:3... 2021-05-20 05:56:58   \n",
       "\n",
       "   city           user_location                   id  \\\n",
       "0  Cali                Colombia  1395262756799004672   \n",
       "1  Cali  Bogotá, D.C., Colombia  1395260023643705348   \n",
       "2  Cali   Cali, Valle del Cauca  1395258664051691522   \n",
       "3  Cali       Pradera, Colombia  1395258285477990400   \n",
       "4  Cali  Bogotá, D.C., Colombia  1395257220267495426   \n",
       "\n",
       "                                                link  \\\n",
       "0  https://twitter.com/i/web/stuatus/139526275679...   \n",
       "1  https://twitter.com/i/web/stuatus/139526002364...   \n",
       "2  https://twitter.com/i/web/stuatus/139525866405...   \n",
       "3  https://twitter.com/i/web/stuatus/139525828547...   \n",
       "4  https://twitter.com/i/web/stuatus/139525722026...   \n",
       "\n",
       "                                        texto_limpio  \\\n",
       "0  Duque si hizo algo por Colombia: \\n\\nDuque hun...   \n",
       "1    Que horror! No se cansan de mentir? Lo vimos...   \n",
       "2  Hoy en la multitudinaria movilización en Cali ...   \n",
       "3     esto pasa cuando publicas los asesinatos pe...   \n",
       "4  Portal de las Américas, anoche entre 10 y 10:3...   \n",
       "\n",
       "                       links         hashtags  \\\n",
       "0                         []  [#PrimeraLinea]   \n",
       "1                         []               []   \n",
       "2                         []               []   \n",
       "3  [https://t.co/DtC9Nv1654]               []   \n",
       "4  [https://t.co/vSqmzddwtq]               []   \n",
       "\n",
       "                                       mentions emojis  \n",
       "0                                            []     []  \n",
       "1              [@GobiernoBTA, @andresidarragaf]     []  \n",
       "2                                            []     []  \n",
       "3  [@VickyDavilaH, @AlvaroUribeVel, @IvanDuque]     []  \n",
       "4                                            []     []  "
      ]
     },
     "execution_count": 64,
     "metadata": {},
     "output_type": "execute_result"
    }
   ],
   "source": [
    "data['emojis'] = data['texto_limpio'].apply(lambda text: get_emojis(text))\n",
    "data.head()"
   ]
  },
  {
   "cell_type": "code",
   "execution_count": 67,
   "metadata": {},
   "outputs": [],
   "source": [
    "import plotly.io as pio\n",
    "import plotly.express as px\n",
    "import plotly.graph_objs as go\n",
    "from plotly.offline import download_plotlyjs, init_notebook_mode, plot, iplot"
   ]
  },
  {
   "cell_type": "code",
   "execution_count": 68,
   "metadata": {},
   "outputs": [
    {
     "data": {
      "text/html": [
       "        <script type=\"text/javascript\">\n",
       "        window.PlotlyConfig = {MathJaxConfig: 'local'};\n",
       "        if (window.MathJax) {MathJax.Hub.Config({SVG: {font: \"STIX-Web\"}});}\n",
       "        if (typeof require !== 'undefined') {\n",
       "        require.undef(\"plotly\");\n",
       "        requirejs.config({\n",
       "            paths: {\n",
       "                'plotly': ['https://cdn.plot.ly/plotly-latest.min']\n",
       "            }\n",
       "        });\n",
       "        require(['plotly'], function(Plotly) {\n",
       "            window._Plotly = Plotly;\n",
       "        });\n",
       "        }\n",
       "        </script>\n",
       "        "
      ]
     },
     "metadata": {},
     "output_type": "display_data"
    }
   ],
   "source": [
    "import matplotlib.pyplot as plt\n",
    "%matplotlib inline\n",
    "init_notebook_mode(connected=True)"
   ]
  },
  {
   "cell_type": "code",
   "execution_count": 65,
   "metadata": {},
   "outputs": [
    {
     "data": {
      "text/html": [
       "<div>\n",
       "<style scoped>\n",
       "    .dataframe tbody tr th:only-of-type {\n",
       "        vertical-align: middle;\n",
       "    }\n",
       "\n",
       "    .dataframe tbody tr th {\n",
       "        vertical-align: top;\n",
       "    }\n",
       "\n",
       "    .dataframe thead th {\n",
       "        text-align: right;\n",
       "    }\n",
       "</style>\n",
       "<table border=\"1\" class=\"dataframe\">\n",
       "  <thead>\n",
       "    <tr style=\"text-align: right;\">\n",
       "      <th></th>\n",
       "      <th>emoji</th>\n",
       "      <th>cnt</th>\n",
       "    </tr>\n",
       "  </thead>\n",
       "  <tbody>\n",
       "    <tr>\n",
       "      <th>20</th>\n",
       "      <td>🤣</td>\n",
       "      <td>15</td>\n",
       "    </tr>\n",
       "    <tr>\n",
       "      <th>29</th>\n",
       "      <td>😂</td>\n",
       "      <td>12</td>\n",
       "    </tr>\n",
       "    <tr>\n",
       "      <th>27</th>\n",
       "      <td>✅</td>\n",
       "      <td>9</td>\n",
       "    </tr>\n",
       "    <tr>\n",
       "      <th>4</th>\n",
       "      <td>🚨</td>\n",
       "      <td>8</td>\n",
       "    </tr>\n",
       "    <tr>\n",
       "      <th>19</th>\n",
       "      <td>😡</td>\n",
       "      <td>7</td>\n",
       "    </tr>\n",
       "  </tbody>\n",
       "</table>\n",
       "</div>"
      ],
      "text/plain": [
       "   emoji  cnt\n",
       "20     🤣   15\n",
       "29     😂   12\n",
       "27     ✅    9\n",
       "4      🚨    8\n",
       "19     😡    7"
      ]
     },
     "execution_count": 65,
     "metadata": {},
     "output_type": "execute_result"
    }
   ],
   "source": [
    "from collections import Counter\n",
    "\n",
    "temp_emojis = pd.DataFrame(list(zip(Counter(sum(data.emojis.values,[])).keys(),Counter(sum(data.emojis.values,[])).values())))\n",
    "temp_emojis.columns = ['emoji', 'cnt']\n",
    "temp_emojis.sort_values('cnt', ascending=False, inplace=True)\n",
    "temp_emojis.head()"
   ]
  },
  {
   "cell_type": "code",
   "execution_count": 69,
   "metadata": {},
   "outputs": [
    {
     "data": {
      "application/vnd.plotly.v1+json": {
       "config": {
        "linkText": "Export to plot.ly",
        "plotlyServerURL": "https://plot.ly",
        "showLink": false
       },
       "data": [
        {
         "type": "bar",
         "x": [
          "🤣",
          "😂",
          "✅",
          "🚨",
          "😡",
          "⚠️",
          "😩",
          "👇",
          "🐀",
          "◻️",
          "🔴",
          "👏🏻",
          "✊",
          "🙄",
          "😭"
         ],
         "y": [
          15,
          12,
          9,
          8,
          7,
          6,
          6,
          4,
          4,
          4,
          4,
          3,
          3,
          3,
          2
         ]
        }
       ],
       "layout": {
        "template": {
         "data": {
          "bar": [
           {
            "error_x": {
             "color": "#2a3f5f"
            },
            "error_y": {
             "color": "#2a3f5f"
            },
            "marker": {
             "line": {
              "color": "#E5ECF6",
              "width": 0.5
             }
            },
            "type": "bar"
           }
          ],
          "barpolar": [
           {
            "marker": {
             "line": {
              "color": "#E5ECF6",
              "width": 0.5
             }
            },
            "type": "barpolar"
           }
          ],
          "carpet": [
           {
            "aaxis": {
             "endlinecolor": "#2a3f5f",
             "gridcolor": "white",
             "linecolor": "white",
             "minorgridcolor": "white",
             "startlinecolor": "#2a3f5f"
            },
            "baxis": {
             "endlinecolor": "#2a3f5f",
             "gridcolor": "white",
             "linecolor": "white",
             "minorgridcolor": "white",
             "startlinecolor": "#2a3f5f"
            },
            "type": "carpet"
           }
          ],
          "choropleth": [
           {
            "colorbar": {
             "outlinewidth": 0,
             "ticks": ""
            },
            "type": "choropleth"
           }
          ],
          "contour": [
           {
            "colorbar": {
             "outlinewidth": 0,
             "ticks": ""
            },
            "colorscale": [
             [
              0,
              "#0d0887"
             ],
             [
              0.1111111111111111,
              "#46039f"
             ],
             [
              0.2222222222222222,
              "#7201a8"
             ],
             [
              0.3333333333333333,
              "#9c179e"
             ],
             [
              0.4444444444444444,
              "#bd3786"
             ],
             [
              0.5555555555555556,
              "#d8576b"
             ],
             [
              0.6666666666666666,
              "#ed7953"
             ],
             [
              0.7777777777777778,
              "#fb9f3a"
             ],
             [
              0.8888888888888888,
              "#fdca26"
             ],
             [
              1,
              "#f0f921"
             ]
            ],
            "type": "contour"
           }
          ],
          "contourcarpet": [
           {
            "colorbar": {
             "outlinewidth": 0,
             "ticks": ""
            },
            "type": "contourcarpet"
           }
          ],
          "heatmap": [
           {
            "colorbar": {
             "outlinewidth": 0,
             "ticks": ""
            },
            "colorscale": [
             [
              0,
              "#0d0887"
             ],
             [
              0.1111111111111111,
              "#46039f"
             ],
             [
              0.2222222222222222,
              "#7201a8"
             ],
             [
              0.3333333333333333,
              "#9c179e"
             ],
             [
              0.4444444444444444,
              "#bd3786"
             ],
             [
              0.5555555555555556,
              "#d8576b"
             ],
             [
              0.6666666666666666,
              "#ed7953"
             ],
             [
              0.7777777777777778,
              "#fb9f3a"
             ],
             [
              0.8888888888888888,
              "#fdca26"
             ],
             [
              1,
              "#f0f921"
             ]
            ],
            "type": "heatmap"
           }
          ],
          "heatmapgl": [
           {
            "colorbar": {
             "outlinewidth": 0,
             "ticks": ""
            },
            "colorscale": [
             [
              0,
              "#0d0887"
             ],
             [
              0.1111111111111111,
              "#46039f"
             ],
             [
              0.2222222222222222,
              "#7201a8"
             ],
             [
              0.3333333333333333,
              "#9c179e"
             ],
             [
              0.4444444444444444,
              "#bd3786"
             ],
             [
              0.5555555555555556,
              "#d8576b"
             ],
             [
              0.6666666666666666,
              "#ed7953"
             ],
             [
              0.7777777777777778,
              "#fb9f3a"
             ],
             [
              0.8888888888888888,
              "#fdca26"
             ],
             [
              1,
              "#f0f921"
             ]
            ],
            "type": "heatmapgl"
           }
          ],
          "histogram": [
           {
            "marker": {
             "colorbar": {
              "outlinewidth": 0,
              "ticks": ""
             }
            },
            "type": "histogram"
           }
          ],
          "histogram2d": [
           {
            "colorbar": {
             "outlinewidth": 0,
             "ticks": ""
            },
            "colorscale": [
             [
              0,
              "#0d0887"
             ],
             [
              0.1111111111111111,
              "#46039f"
             ],
             [
              0.2222222222222222,
              "#7201a8"
             ],
             [
              0.3333333333333333,
              "#9c179e"
             ],
             [
              0.4444444444444444,
              "#bd3786"
             ],
             [
              0.5555555555555556,
              "#d8576b"
             ],
             [
              0.6666666666666666,
              "#ed7953"
             ],
             [
              0.7777777777777778,
              "#fb9f3a"
             ],
             [
              0.8888888888888888,
              "#fdca26"
             ],
             [
              1,
              "#f0f921"
             ]
            ],
            "type": "histogram2d"
           }
          ],
          "histogram2dcontour": [
           {
            "colorbar": {
             "outlinewidth": 0,
             "ticks": ""
            },
            "colorscale": [
             [
              0,
              "#0d0887"
             ],
             [
              0.1111111111111111,
              "#46039f"
             ],
             [
              0.2222222222222222,
              "#7201a8"
             ],
             [
              0.3333333333333333,
              "#9c179e"
             ],
             [
              0.4444444444444444,
              "#bd3786"
             ],
             [
              0.5555555555555556,
              "#d8576b"
             ],
             [
              0.6666666666666666,
              "#ed7953"
             ],
             [
              0.7777777777777778,
              "#fb9f3a"
             ],
             [
              0.8888888888888888,
              "#fdca26"
             ],
             [
              1,
              "#f0f921"
             ]
            ],
            "type": "histogram2dcontour"
           }
          ],
          "mesh3d": [
           {
            "colorbar": {
             "outlinewidth": 0,
             "ticks": ""
            },
            "type": "mesh3d"
           }
          ],
          "parcoords": [
           {
            "line": {
             "colorbar": {
              "outlinewidth": 0,
              "ticks": ""
             }
            },
            "type": "parcoords"
           }
          ],
          "pie": [
           {
            "automargin": true,
            "type": "pie"
           }
          ],
          "scatter": [
           {
            "marker": {
             "colorbar": {
              "outlinewidth": 0,
              "ticks": ""
             }
            },
            "type": "scatter"
           }
          ],
          "scatter3d": [
           {
            "line": {
             "colorbar": {
              "outlinewidth": 0,
              "ticks": ""
             }
            },
            "marker": {
             "colorbar": {
              "outlinewidth": 0,
              "ticks": ""
             }
            },
            "type": "scatter3d"
           }
          ],
          "scattercarpet": [
           {
            "marker": {
             "colorbar": {
              "outlinewidth": 0,
              "ticks": ""
             }
            },
            "type": "scattercarpet"
           }
          ],
          "scattergeo": [
           {
            "marker": {
             "colorbar": {
              "outlinewidth": 0,
              "ticks": ""
             }
            },
            "type": "scattergeo"
           }
          ],
          "scattergl": [
           {
            "marker": {
             "colorbar": {
              "outlinewidth": 0,
              "ticks": ""
             }
            },
            "type": "scattergl"
           }
          ],
          "scattermapbox": [
           {
            "marker": {
             "colorbar": {
              "outlinewidth": 0,
              "ticks": ""
             }
            },
            "type": "scattermapbox"
           }
          ],
          "scatterpolar": [
           {
            "marker": {
             "colorbar": {
              "outlinewidth": 0,
              "ticks": ""
             }
            },
            "type": "scatterpolar"
           }
          ],
          "scatterpolargl": [
           {
            "marker": {
             "colorbar": {
              "outlinewidth": 0,
              "ticks": ""
             }
            },
            "type": "scatterpolargl"
           }
          ],
          "scatterternary": [
           {
            "marker": {
             "colorbar": {
              "outlinewidth": 0,
              "ticks": ""
             }
            },
            "type": "scatterternary"
           }
          ],
          "surface": [
           {
            "colorbar": {
             "outlinewidth": 0,
             "ticks": ""
            },
            "colorscale": [
             [
              0,
              "#0d0887"
             ],
             [
              0.1111111111111111,
              "#46039f"
             ],
             [
              0.2222222222222222,
              "#7201a8"
             ],
             [
              0.3333333333333333,
              "#9c179e"
             ],
             [
              0.4444444444444444,
              "#bd3786"
             ],
             [
              0.5555555555555556,
              "#d8576b"
             ],
             [
              0.6666666666666666,
              "#ed7953"
             ],
             [
              0.7777777777777778,
              "#fb9f3a"
             ],
             [
              0.8888888888888888,
              "#fdca26"
             ],
             [
              1,
              "#f0f921"
             ]
            ],
            "type": "surface"
           }
          ],
          "table": [
           {
            "cells": {
             "fill": {
              "color": "#EBF0F8"
             },
             "line": {
              "color": "white"
             }
            },
            "header": {
             "fill": {
              "color": "#C8D4E3"
             },
             "line": {
              "color": "white"
             }
            },
            "type": "table"
           }
          ]
         },
         "layout": {
          "annotationdefaults": {
           "arrowcolor": "#2a3f5f",
           "arrowhead": 0,
           "arrowwidth": 1
          },
          "autotypenumbers": "strict",
          "coloraxis": {
           "colorbar": {
            "outlinewidth": 0,
            "ticks": ""
           }
          },
          "colorscale": {
           "diverging": [
            [
             0,
             "#8e0152"
            ],
            [
             0.1,
             "#c51b7d"
            ],
            [
             0.2,
             "#de77ae"
            ],
            [
             0.3,
             "#f1b6da"
            ],
            [
             0.4,
             "#fde0ef"
            ],
            [
             0.5,
             "#f7f7f7"
            ],
            [
             0.6,
             "#e6f5d0"
            ],
            [
             0.7,
             "#b8e186"
            ],
            [
             0.8,
             "#7fbc41"
            ],
            [
             0.9,
             "#4d9221"
            ],
            [
             1,
             "#276419"
            ]
           ],
           "sequential": [
            [
             0,
             "#0d0887"
            ],
            [
             0.1111111111111111,
             "#46039f"
            ],
            [
             0.2222222222222222,
             "#7201a8"
            ],
            [
             0.3333333333333333,
             "#9c179e"
            ],
            [
             0.4444444444444444,
             "#bd3786"
            ],
            [
             0.5555555555555556,
             "#d8576b"
            ],
            [
             0.6666666666666666,
             "#ed7953"
            ],
            [
             0.7777777777777778,
             "#fb9f3a"
            ],
            [
             0.8888888888888888,
             "#fdca26"
            ],
            [
             1,
             "#f0f921"
            ]
           ],
           "sequentialminus": [
            [
             0,
             "#0d0887"
            ],
            [
             0.1111111111111111,
             "#46039f"
            ],
            [
             0.2222222222222222,
             "#7201a8"
            ],
            [
             0.3333333333333333,
             "#9c179e"
            ],
            [
             0.4444444444444444,
             "#bd3786"
            ],
            [
             0.5555555555555556,
             "#d8576b"
            ],
            [
             0.6666666666666666,
             "#ed7953"
            ],
            [
             0.7777777777777778,
             "#fb9f3a"
            ],
            [
             0.8888888888888888,
             "#fdca26"
            ],
            [
             1,
             "#f0f921"
            ]
           ]
          },
          "colorway": [
           "#636efa",
           "#EF553B",
           "#00cc96",
           "#ab63fa",
           "#FFA15A",
           "#19d3f3",
           "#FF6692",
           "#B6E880",
           "#FF97FF",
           "#FECB52"
          ],
          "font": {
           "color": "#2a3f5f"
          },
          "geo": {
           "bgcolor": "white",
           "lakecolor": "white",
           "landcolor": "#E5ECF6",
           "showlakes": true,
           "showland": true,
           "subunitcolor": "white"
          },
          "hoverlabel": {
           "align": "left"
          },
          "hovermode": "closest",
          "mapbox": {
           "style": "light"
          },
          "paper_bgcolor": "white",
          "plot_bgcolor": "#E5ECF6",
          "polar": {
           "angularaxis": {
            "gridcolor": "white",
            "linecolor": "white",
            "ticks": ""
           },
           "bgcolor": "#E5ECF6",
           "radialaxis": {
            "gridcolor": "white",
            "linecolor": "white",
            "ticks": ""
           }
          },
          "scene": {
           "xaxis": {
            "backgroundcolor": "#E5ECF6",
            "gridcolor": "white",
            "gridwidth": 2,
            "linecolor": "white",
            "showbackground": true,
            "ticks": "",
            "zerolinecolor": "white"
           },
           "yaxis": {
            "backgroundcolor": "#E5ECF6",
            "gridcolor": "white",
            "gridwidth": 2,
            "linecolor": "white",
            "showbackground": true,
            "ticks": "",
            "zerolinecolor": "white"
           },
           "zaxis": {
            "backgroundcolor": "#E5ECF6",
            "gridcolor": "white",
            "gridwidth": 2,
            "linecolor": "white",
            "showbackground": true,
            "ticks": "",
            "zerolinecolor": "white"
           }
          },
          "shapedefaults": {
           "line": {
            "color": "#2a3f5f"
           }
          },
          "ternary": {
           "aaxis": {
            "gridcolor": "white",
            "linecolor": "white",
            "ticks": ""
           },
           "baxis": {
            "gridcolor": "white",
            "linecolor": "white",
            "ticks": ""
           },
           "bgcolor": "#E5ECF6",
           "caxis": {
            "gridcolor": "white",
            "linecolor": "white",
            "ticks": ""
           }
          },
          "title": {
           "x": 0.05
          },
          "xaxis": {
           "automargin": true,
           "gridcolor": "white",
           "linecolor": "white",
           "ticks": "",
           "title": {
            "standoff": 15
           },
           "zerolinecolor": "white",
           "zerolinewidth": 2
          },
          "yaxis": {
           "automargin": true,
           "gridcolor": "white",
           "linecolor": "white",
           "ticks": "",
           "title": {
            "standoff": 15
           },
           "zerolinecolor": "white",
           "zerolinewidth": 2
          }
         }
        },
        "title": {
         "text": "Emojis más usados"
        }
       }
      },
      "text/html": [
       "<div>                            <div id=\"3c0531da-46cd-4ac9-add9-b2c33f0de6dd\" class=\"plotly-graph-div\" style=\"height:525px; width:100%;\"></div>            <script type=\"text/javascript\">                require([\"plotly\"], function(Plotly) {                    window.PLOTLYENV=window.PLOTLYENV || {};                                    if (document.getElementById(\"3c0531da-46cd-4ac9-add9-b2c33f0de6dd\")) {                    Plotly.newPlot(                        \"3c0531da-46cd-4ac9-add9-b2c33f0de6dd\",                        [{\"type\": \"bar\", \"x\": [\"\\ud83e\\udd23\", \"\\ud83d\\ude02\", \"\\u2705\", \"\\ud83d\\udea8\", \"\\ud83d\\ude21\", \"\\u26a0\\ufe0f\", \"\\ud83d\\ude29\", \"\\ud83d\\udc47\", \"\\ud83d\\udc00\", \"\\u25fb\\ufe0f\", \"\\ud83d\\udd34\", \"\\ud83d\\udc4f\\ud83c\\udffb\", \"\\u270a\", \"\\ud83d\\ude44\", \"\\ud83d\\ude2d\"], \"y\": [15, 12, 9, 8, 7, 6, 6, 4, 4, 4, 4, 3, 3, 3, 2]}],                        {\"template\": {\"data\": {\"bar\": [{\"error_x\": {\"color\": \"#2a3f5f\"}, \"error_y\": {\"color\": \"#2a3f5f\"}, \"marker\": {\"line\": {\"color\": \"#E5ECF6\", \"width\": 0.5}}, \"type\": \"bar\"}], \"barpolar\": [{\"marker\": {\"line\": {\"color\": \"#E5ECF6\", \"width\": 0.5}}, \"type\": \"barpolar\"}], \"carpet\": [{\"aaxis\": {\"endlinecolor\": \"#2a3f5f\", \"gridcolor\": \"white\", \"linecolor\": \"white\", \"minorgridcolor\": \"white\", \"startlinecolor\": \"#2a3f5f\"}, \"baxis\": {\"endlinecolor\": \"#2a3f5f\", \"gridcolor\": \"white\", \"linecolor\": \"white\", \"minorgridcolor\": \"white\", \"startlinecolor\": \"#2a3f5f\"}, \"type\": \"carpet\"}], \"choropleth\": [{\"colorbar\": {\"outlinewidth\": 0, \"ticks\": \"\"}, \"type\": \"choropleth\"}], \"contour\": [{\"colorbar\": {\"outlinewidth\": 0, \"ticks\": \"\"}, \"colorscale\": [[0.0, \"#0d0887\"], [0.1111111111111111, \"#46039f\"], [0.2222222222222222, \"#7201a8\"], [0.3333333333333333, \"#9c179e\"], [0.4444444444444444, \"#bd3786\"], [0.5555555555555556, \"#d8576b\"], [0.6666666666666666, \"#ed7953\"], [0.7777777777777778, \"#fb9f3a\"], [0.8888888888888888, \"#fdca26\"], [1.0, \"#f0f921\"]], \"type\": \"contour\"}], \"contourcarpet\": [{\"colorbar\": {\"outlinewidth\": 0, \"ticks\": \"\"}, \"type\": \"contourcarpet\"}], \"heatmap\": [{\"colorbar\": {\"outlinewidth\": 0, \"ticks\": \"\"}, \"colorscale\": [[0.0, \"#0d0887\"], [0.1111111111111111, \"#46039f\"], [0.2222222222222222, \"#7201a8\"], [0.3333333333333333, \"#9c179e\"], [0.4444444444444444, \"#bd3786\"], [0.5555555555555556, \"#d8576b\"], [0.6666666666666666, \"#ed7953\"], [0.7777777777777778, \"#fb9f3a\"], [0.8888888888888888, \"#fdca26\"], [1.0, \"#f0f921\"]], \"type\": \"heatmap\"}], \"heatmapgl\": [{\"colorbar\": {\"outlinewidth\": 0, \"ticks\": \"\"}, \"colorscale\": [[0.0, \"#0d0887\"], [0.1111111111111111, \"#46039f\"], [0.2222222222222222, \"#7201a8\"], [0.3333333333333333, \"#9c179e\"], [0.4444444444444444, \"#bd3786\"], [0.5555555555555556, \"#d8576b\"], [0.6666666666666666, \"#ed7953\"], [0.7777777777777778, \"#fb9f3a\"], [0.8888888888888888, \"#fdca26\"], [1.0, \"#f0f921\"]], \"type\": \"heatmapgl\"}], \"histogram\": [{\"marker\": {\"colorbar\": {\"outlinewidth\": 0, \"ticks\": \"\"}}, \"type\": \"histogram\"}], \"histogram2d\": [{\"colorbar\": {\"outlinewidth\": 0, \"ticks\": \"\"}, \"colorscale\": [[0.0, \"#0d0887\"], [0.1111111111111111, \"#46039f\"], [0.2222222222222222, \"#7201a8\"], [0.3333333333333333, \"#9c179e\"], [0.4444444444444444, \"#bd3786\"], [0.5555555555555556, \"#d8576b\"], [0.6666666666666666, \"#ed7953\"], [0.7777777777777778, \"#fb9f3a\"], [0.8888888888888888, \"#fdca26\"], [1.0, \"#f0f921\"]], \"type\": \"histogram2d\"}], \"histogram2dcontour\": [{\"colorbar\": {\"outlinewidth\": 0, \"ticks\": \"\"}, \"colorscale\": [[0.0, \"#0d0887\"], [0.1111111111111111, \"#46039f\"], [0.2222222222222222, \"#7201a8\"], [0.3333333333333333, \"#9c179e\"], [0.4444444444444444, \"#bd3786\"], [0.5555555555555556, \"#d8576b\"], [0.6666666666666666, \"#ed7953\"], [0.7777777777777778, \"#fb9f3a\"], [0.8888888888888888, \"#fdca26\"], [1.0, \"#f0f921\"]], \"type\": \"histogram2dcontour\"}], \"mesh3d\": [{\"colorbar\": {\"outlinewidth\": 0, \"ticks\": \"\"}, \"type\": \"mesh3d\"}], \"parcoords\": [{\"line\": {\"colorbar\": {\"outlinewidth\": 0, \"ticks\": \"\"}}, \"type\": \"parcoords\"}], \"pie\": [{\"automargin\": true, \"type\": \"pie\"}], \"scatter\": [{\"marker\": {\"colorbar\": {\"outlinewidth\": 0, \"ticks\": \"\"}}, \"type\": \"scatter\"}], \"scatter3d\": [{\"line\": {\"colorbar\": {\"outlinewidth\": 0, \"ticks\": \"\"}}, \"marker\": {\"colorbar\": {\"outlinewidth\": 0, \"ticks\": \"\"}}, \"type\": \"scatter3d\"}], \"scattercarpet\": [{\"marker\": {\"colorbar\": {\"outlinewidth\": 0, \"ticks\": \"\"}}, \"type\": \"scattercarpet\"}], \"scattergeo\": [{\"marker\": {\"colorbar\": {\"outlinewidth\": 0, \"ticks\": \"\"}}, \"type\": \"scattergeo\"}], \"scattergl\": [{\"marker\": {\"colorbar\": {\"outlinewidth\": 0, \"ticks\": \"\"}}, \"type\": \"scattergl\"}], \"scattermapbox\": [{\"marker\": {\"colorbar\": {\"outlinewidth\": 0, \"ticks\": \"\"}}, \"type\": \"scattermapbox\"}], \"scatterpolar\": [{\"marker\": {\"colorbar\": {\"outlinewidth\": 0, \"ticks\": \"\"}}, \"type\": \"scatterpolar\"}], \"scatterpolargl\": [{\"marker\": {\"colorbar\": {\"outlinewidth\": 0, \"ticks\": \"\"}}, \"type\": \"scatterpolargl\"}], \"scatterternary\": [{\"marker\": {\"colorbar\": {\"outlinewidth\": 0, \"ticks\": \"\"}}, \"type\": \"scatterternary\"}], \"surface\": [{\"colorbar\": {\"outlinewidth\": 0, \"ticks\": \"\"}, \"colorscale\": [[0.0, \"#0d0887\"], [0.1111111111111111, \"#46039f\"], [0.2222222222222222, \"#7201a8\"], [0.3333333333333333, \"#9c179e\"], [0.4444444444444444, \"#bd3786\"], [0.5555555555555556, \"#d8576b\"], [0.6666666666666666, \"#ed7953\"], [0.7777777777777778, \"#fb9f3a\"], [0.8888888888888888, \"#fdca26\"], [1.0, \"#f0f921\"]], \"type\": \"surface\"}], \"table\": [{\"cells\": {\"fill\": {\"color\": \"#EBF0F8\"}, \"line\": {\"color\": \"white\"}}, \"header\": {\"fill\": {\"color\": \"#C8D4E3\"}, \"line\": {\"color\": \"white\"}}, \"type\": \"table\"}]}, \"layout\": {\"annotationdefaults\": {\"arrowcolor\": \"#2a3f5f\", \"arrowhead\": 0, \"arrowwidth\": 1}, \"autotypenumbers\": \"strict\", \"coloraxis\": {\"colorbar\": {\"outlinewidth\": 0, \"ticks\": \"\"}}, \"colorscale\": {\"diverging\": [[0, \"#8e0152\"], [0.1, \"#c51b7d\"], [0.2, \"#de77ae\"], [0.3, \"#f1b6da\"], [0.4, \"#fde0ef\"], [0.5, \"#f7f7f7\"], [0.6, \"#e6f5d0\"], [0.7, \"#b8e186\"], [0.8, \"#7fbc41\"], [0.9, \"#4d9221\"], [1, \"#276419\"]], \"sequential\": [[0.0, \"#0d0887\"], [0.1111111111111111, \"#46039f\"], [0.2222222222222222, \"#7201a8\"], [0.3333333333333333, \"#9c179e\"], [0.4444444444444444, \"#bd3786\"], [0.5555555555555556, \"#d8576b\"], [0.6666666666666666, \"#ed7953\"], [0.7777777777777778, \"#fb9f3a\"], [0.8888888888888888, \"#fdca26\"], [1.0, \"#f0f921\"]], \"sequentialminus\": [[0.0, \"#0d0887\"], [0.1111111111111111, \"#46039f\"], [0.2222222222222222, \"#7201a8\"], [0.3333333333333333, \"#9c179e\"], [0.4444444444444444, \"#bd3786\"], [0.5555555555555556, \"#d8576b\"], [0.6666666666666666, \"#ed7953\"], [0.7777777777777778, \"#fb9f3a\"], [0.8888888888888888, \"#fdca26\"], [1.0, \"#f0f921\"]]}, \"colorway\": [\"#636efa\", \"#EF553B\", \"#00cc96\", \"#ab63fa\", \"#FFA15A\", \"#19d3f3\", \"#FF6692\", \"#B6E880\", \"#FF97FF\", \"#FECB52\"], \"font\": {\"color\": \"#2a3f5f\"}, \"geo\": {\"bgcolor\": \"white\", \"lakecolor\": \"white\", \"landcolor\": \"#E5ECF6\", \"showlakes\": true, \"showland\": true, \"subunitcolor\": \"white\"}, \"hoverlabel\": {\"align\": \"left\"}, \"hovermode\": \"closest\", \"mapbox\": {\"style\": \"light\"}, \"paper_bgcolor\": \"white\", \"plot_bgcolor\": \"#E5ECF6\", \"polar\": {\"angularaxis\": {\"gridcolor\": \"white\", \"linecolor\": \"white\", \"ticks\": \"\"}, \"bgcolor\": \"#E5ECF6\", \"radialaxis\": {\"gridcolor\": \"white\", \"linecolor\": \"white\", \"ticks\": \"\"}}, \"scene\": {\"xaxis\": {\"backgroundcolor\": \"#E5ECF6\", \"gridcolor\": \"white\", \"gridwidth\": 2, \"linecolor\": \"white\", \"showbackground\": true, \"ticks\": \"\", \"zerolinecolor\": \"white\"}, \"yaxis\": {\"backgroundcolor\": \"#E5ECF6\", \"gridcolor\": \"white\", \"gridwidth\": 2, \"linecolor\": \"white\", \"showbackground\": true, \"ticks\": \"\", \"zerolinecolor\": \"white\"}, \"zaxis\": {\"backgroundcolor\": \"#E5ECF6\", \"gridcolor\": \"white\", \"gridwidth\": 2, \"linecolor\": \"white\", \"showbackground\": true, \"ticks\": \"\", \"zerolinecolor\": \"white\"}}, \"shapedefaults\": {\"line\": {\"color\": \"#2a3f5f\"}}, \"ternary\": {\"aaxis\": {\"gridcolor\": \"white\", \"linecolor\": \"white\", \"ticks\": \"\"}, \"baxis\": {\"gridcolor\": \"white\", \"linecolor\": \"white\", \"ticks\": \"\"}, \"bgcolor\": \"#E5ECF6\", \"caxis\": {\"gridcolor\": \"white\", \"linecolor\": \"white\", \"ticks\": \"\"}}, \"title\": {\"x\": 0.05}, \"xaxis\": {\"automargin\": true, \"gridcolor\": \"white\", \"linecolor\": \"white\", \"ticks\": \"\", \"title\": {\"standoff\": 15}, \"zerolinecolor\": \"white\", \"zerolinewidth\": 2}, \"yaxis\": {\"automargin\": true, \"gridcolor\": \"white\", \"linecolor\": \"white\", \"ticks\": \"\", \"title\": {\"standoff\": 15}, \"zerolinecolor\": \"white\", \"zerolinewidth\": 2}}}, \"title\": {\"text\": \"Emojis m\\u00e1s usados\"}},                        {\"responsive\": true}                    ).then(function(){\n",
       "                            \n",
       "var gd = document.getElementById('3c0531da-46cd-4ac9-add9-b2c33f0de6dd');\n",
       "var x = new MutationObserver(function (mutations, observer) {{\n",
       "        var display = window.getComputedStyle(gd).display;\n",
       "        if (!display || display === 'none') {{\n",
       "            console.log([gd, 'removed!']);\n",
       "            Plotly.purge(gd);\n",
       "            observer.disconnect();\n",
       "        }}\n",
       "}});\n",
       "\n",
       "// Listen for the removal of the full notebook cells\n",
       "var notebookContainer = gd.closest('#notebook-container');\n",
       "if (notebookContainer) {{\n",
       "    x.observe(notebookContainer, {childList: true});\n",
       "}}\n",
       "\n",
       "// Listen for the clearing of the current output cell\n",
       "var outputEl = gd.closest('.output');\n",
       "if (outputEl) {{\n",
       "    x.observe(outputEl, {childList: true});\n",
       "}}\n",
       "\n",
       "                        })                };                });            </script>        </div>"
      ]
     },
     "metadata": {},
     "output_type": "display_data"
    }
   ],
   "source": [
    "trace = go.Bar(x=temp_emojis.emoji.values[:15],\n",
    "               y=temp_emojis.cnt.values[:15])\n",
    "\n",
    "layout = go.Layout(title='Emojis más usados')\n",
    "\n",
    "fig = go.Figure(data=[trace], layout=layout)\n",
    "iplot(fig)"
   ]
  }
 ],
 "metadata": {
  "kernelspec": {
   "display_name": "Python 3",
   "language": "python",
   "name": "python3"
  },
  "language_info": {
   "codemirror_mode": {
    "name": "ipython",
    "version": 3
   },
   "file_extension": ".py",
   "mimetype": "text/x-python",
   "name": "python",
   "nbconvert_exporter": "python",
   "pygments_lexer": "ipython3",
   "version": "3.8.8"
  }
 },
 "nbformat": 4,
 "nbformat_minor": 2
}
