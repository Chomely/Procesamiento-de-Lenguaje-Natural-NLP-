{
 "cells": [
  {
   "cell_type": "markdown",
   "metadata": {},
   "source": [
    "<img src='https://encrypted-tbn0.gstatic.com/images?q=tbn%3AANd9GcQ-VfNtOyJbsaxu43Kztf_cv1mgBG6ZIQZEVw&usqp=CAU'>\n",
    "\n",
    "# Procesamiento de Lenguaje Natural\n",
    "\n",
    "## Taller #12: Análisis de sentimiento\n",
    "`Fecha de entrega: Mayo 27, 2021 (Antes del inicio de la próxima clase).`\n",
    "\n",
    "`Modo de entrega: Subir link de GitHub al aula virtual.`"
   ]
  },
  {
   "cell_type": "markdown",
   "metadata": {},
   "source": [
    "###  `[25 pts]` Punto 1: Hacer análisis de sentimiento de los datos del anterior taller\n",
    "- Columna con el puntaje numérico del sentimiento\n",
    "- Pueden usar cualquiera de las librerias vistas en clase"
   ]
  },
  {
   "cell_type": "code",
   "execution_count": 1,
   "metadata": {},
   "outputs": [],
   "source": [
    "import pandas as pd"
   ]
  },
  {
   "cell_type": "code",
   "execution_count": 2,
   "metadata": {},
   "outputs": [
    {
     "data": {
      "text/html": [
       "<div>\n",
       "<style scoped>\n",
       "    .dataframe tbody tr th:only-of-type {\n",
       "        vertical-align: middle;\n",
       "    }\n",
       "\n",
       "    .dataframe tbody tr th {\n",
       "        vertical-align: top;\n",
       "    }\n",
       "\n",
       "    .dataframe thead th {\n",
       "        text-align: right;\n",
       "    }\n",
       "</style>\n",
       "<table border=\"1\" class=\"dataframe\">\n",
       "  <thead>\n",
       "    <tr style=\"text-align: right;\">\n",
       "      <th></th>\n",
       "      <th>tweets</th>\n",
       "      <th>date</th>\n",
       "      <th>city</th>\n",
       "      <th>user_location</th>\n",
       "      <th>id</th>\n",
       "      <th>link</th>\n",
       "    </tr>\n",
       "  </thead>\n",
       "  <tbody>\n",
       "    <tr>\n",
       "      <th>0</th>\n",
       "      <td>Duque si hizo algo por Colombia: \\n\\nDuque hun...</td>\n",
       "      <td>2021-05-20 06:18:58</td>\n",
       "      <td>Cali</td>\n",
       "      <td>Colombia</td>\n",
       "      <td>1395262756799004672</td>\n",
       "      <td>https://twitter.com/i/web/stuatus/139526275679...</td>\n",
       "    </tr>\n",
       "    <tr>\n",
       "      <th>1</th>\n",
       "      <td>@GobiernoBTA @andresidarragaf Que horror! No s...</td>\n",
       "      <td>2021-05-20 06:08:06</td>\n",
       "      <td>Cali</td>\n",
       "      <td>Bogotá, D.C., Colombia</td>\n",
       "      <td>1395260023643705348</td>\n",
       "      <td>https://twitter.com/i/web/stuatus/139526002364...</td>\n",
       "    </tr>\n",
       "    <tr>\n",
       "      <th>2</th>\n",
       "      <td>Hoy en la multitudinaria movilización en Cali ...</td>\n",
       "      <td>2021-05-20 06:02:42</td>\n",
       "      <td>Cali</td>\n",
       "      <td>Cali, Valle del Cauca</td>\n",
       "      <td>1395258664051691522</td>\n",
       "      <td>https://twitter.com/i/web/stuatus/139525866405...</td>\n",
       "    </tr>\n",
       "    <tr>\n",
       "      <th>3</th>\n",
       "      <td>@VickyDavilaH @AlvaroUribeVel @IvanDuque esto ...</td>\n",
       "      <td>2021-05-20 06:01:12</td>\n",
       "      <td>Cali</td>\n",
       "      <td>Pradera, Colombia</td>\n",
       "      <td>1395258285477990400</td>\n",
       "      <td>https://twitter.com/i/web/stuatus/139525828547...</td>\n",
       "    </tr>\n",
       "    <tr>\n",
       "      <th>4</th>\n",
       "      <td>Portal de las Américas, anoche entre 10 y 10:3...</td>\n",
       "      <td>2021-05-20 05:56:58</td>\n",
       "      <td>Cali</td>\n",
       "      <td>Bogotá, D.C., Colombia</td>\n",
       "      <td>1395257220267495426</td>\n",
       "      <td>https://twitter.com/i/web/stuatus/139525722026...</td>\n",
       "    </tr>\n",
       "  </tbody>\n",
       "</table>\n",
       "</div>"
      ],
      "text/plain": [
       "                                              tweets                 date  \\\n",
       "0  Duque si hizo algo por Colombia: \\n\\nDuque hun...  2021-05-20 06:18:58   \n",
       "1  @GobiernoBTA @andresidarragaf Que horror! No s...  2021-05-20 06:08:06   \n",
       "2  Hoy en la multitudinaria movilización en Cali ...  2021-05-20 06:02:42   \n",
       "3  @VickyDavilaH @AlvaroUribeVel @IvanDuque esto ...  2021-05-20 06:01:12   \n",
       "4  Portal de las Américas, anoche entre 10 y 10:3...  2021-05-20 05:56:58   \n",
       "\n",
       "   city           user_location                   id  \\\n",
       "0  Cali                Colombia  1395262756799004672   \n",
       "1  Cali  Bogotá, D.C., Colombia  1395260023643705348   \n",
       "2  Cali   Cali, Valle del Cauca  1395258664051691522   \n",
       "3  Cali       Pradera, Colombia  1395258285477990400   \n",
       "4  Cali  Bogotá, D.C., Colombia  1395257220267495426   \n",
       "\n",
       "                                                link  \n",
       "0  https://twitter.com/i/web/stuatus/139526275679...  \n",
       "1  https://twitter.com/i/web/stuatus/139526002364...  \n",
       "2  https://twitter.com/i/web/stuatus/139525866405...  \n",
       "3  https://twitter.com/i/web/stuatus/139525828547...  \n",
       "4  https://twitter.com/i/web/stuatus/139525722026...  "
      ]
     },
     "execution_count": 2,
     "metadata": {},
     "output_type": "execute_result"
    }
   ],
   "source": [
    "data = pd.read_csv(\"C:/Users/CHOMELY/Documents/1. Especialización Konrad Lorenz/1. Procesamiento de Lenguaje Natural (NLP)/Procesamiento-de-Lenguaje-Natural-NLP-/archivotwitter.csv\")\n",
    "data.head()"
   ]
  },
  {
   "cell_type": "code",
   "execution_count": 3,
   "metadata": {},
   "outputs": [],
   "source": [
    "import re"
   ]
  },
  {
   "cell_type": "code",
   "execution_count": 4,
   "metadata": {},
   "outputs": [],
   "source": [
    "pattern1 = '?P<pic>pic.twitter.com/[^\\s]+' #Patrones para los links, buscar palabras que tienen el patron\n",
    "pattern2 = '?P<url>https?://[^\\s]+'"
   ]
  },
  {
   "cell_type": "code",
   "execution_count": 14,
   "metadata": {},
   "outputs": [],
   "source": [
    "def text_clean(row):\n",
    "    text = row['tweets']\n",
    "    \n",
    "    links = [tuple(j for j in i if j)[-1] for i in re.findall(f\"({pattern1})|({pattern2})\",text)]\n",
    "    for link in links:\n",
    "        text = text.replace(link,\"\")\n",
    "    \n",
    "    hashtags = [interaction for interaction in text.split() if interaction.startswith(\"#\")] #Guarde las palabras que comienzan con un numeral\n",
    "    for hashtag in hashtags:\n",
    "        text = text.replace(hashtag, \"\")\n",
    "        \n",
    "    mentions = [interaction for interaction in text.split() if interaction.startswith(\"@\")]\n",
    "    for mention in mentions:\n",
    "        text = text.replace(mention, \"\")\n",
    "        \n",
    "    return text, links, hashtags, mentions"
   ]
  },
  {
   "cell_type": "code",
   "execution_count": 15,
   "metadata": {},
   "outputs": [
    {
     "data": {
      "text/html": [
       "<div>\n",
       "<style scoped>\n",
       "    .dataframe tbody tr th:only-of-type {\n",
       "        vertical-align: middle;\n",
       "    }\n",
       "\n",
       "    .dataframe tbody tr th {\n",
       "        vertical-align: top;\n",
       "    }\n",
       "\n",
       "    .dataframe thead th {\n",
       "        text-align: right;\n",
       "    }\n",
       "</style>\n",
       "<table border=\"1\" class=\"dataframe\">\n",
       "  <thead>\n",
       "    <tr style=\"text-align: right;\">\n",
       "      <th></th>\n",
       "      <th>tweets</th>\n",
       "      <th>date</th>\n",
       "      <th>city</th>\n",
       "      <th>user_location</th>\n",
       "      <th>id</th>\n",
       "      <th>link</th>\n",
       "      <th>texto_limpio</th>\n",
       "      <th>links</th>\n",
       "      <th>hashtags</th>\n",
       "      <th>mentions</th>\n",
       "    </tr>\n",
       "  </thead>\n",
       "  <tbody>\n",
       "    <tr>\n",
       "      <th>0</th>\n",
       "      <td>Duque si hizo algo por Colombia: \\n\\nDuque hun...</td>\n",
       "      <td>2021-05-20 06:18:58</td>\n",
       "      <td>Cali</td>\n",
       "      <td>Colombia</td>\n",
       "      <td>1395262756799004672</td>\n",
       "      <td>https://twitter.com/i/web/stuatus/139526275679...</td>\n",
       "      <td>Duque si hizo algo por Colombia: \\n\\nDuque hun...</td>\n",
       "      <td>[]</td>\n",
       "      <td>[#PrimeraLinea]</td>\n",
       "      <td>[]</td>\n",
       "    </tr>\n",
       "    <tr>\n",
       "      <th>1</th>\n",
       "      <td>@GobiernoBTA @andresidarragaf Que horror! No s...</td>\n",
       "      <td>2021-05-20 06:08:06</td>\n",
       "      <td>Cali</td>\n",
       "      <td>Bogotá, D.C., Colombia</td>\n",
       "      <td>1395260023643705348</td>\n",
       "      <td>https://twitter.com/i/web/stuatus/139526002364...</td>\n",
       "      <td>Que horror! No se cansan de mentir? Lo vimos...</td>\n",
       "      <td>[]</td>\n",
       "      <td>[]</td>\n",
       "      <td>[@GobiernoBTA, @andresidarragaf]</td>\n",
       "    </tr>\n",
       "    <tr>\n",
       "      <th>2</th>\n",
       "      <td>Hoy en la multitudinaria movilización en Cali ...</td>\n",
       "      <td>2021-05-20 06:02:42</td>\n",
       "      <td>Cali</td>\n",
       "      <td>Cali, Valle del Cauca</td>\n",
       "      <td>1395258664051691522</td>\n",
       "      <td>https://twitter.com/i/web/stuatus/139525866405...</td>\n",
       "      <td>Hoy en la multitudinaria movilización en Cali ...</td>\n",
       "      <td>[]</td>\n",
       "      <td>[]</td>\n",
       "      <td>[]</td>\n",
       "    </tr>\n",
       "    <tr>\n",
       "      <th>3</th>\n",
       "      <td>@VickyDavilaH @AlvaroUribeVel @IvanDuque esto ...</td>\n",
       "      <td>2021-05-20 06:01:12</td>\n",
       "      <td>Cali</td>\n",
       "      <td>Pradera, Colombia</td>\n",
       "      <td>1395258285477990400</td>\n",
       "      <td>https://twitter.com/i/web/stuatus/139525828547...</td>\n",
       "      <td>esto pasa cuando publicas los asesinatos pe...</td>\n",
       "      <td>[https://t.co/DtC9Nv1654]</td>\n",
       "      <td>[]</td>\n",
       "      <td>[@VickyDavilaH, @AlvaroUribeVel, @IvanDuque]</td>\n",
       "    </tr>\n",
       "    <tr>\n",
       "      <th>4</th>\n",
       "      <td>Portal de las Américas, anoche entre 10 y 10:3...</td>\n",
       "      <td>2021-05-20 05:56:58</td>\n",
       "      <td>Cali</td>\n",
       "      <td>Bogotá, D.C., Colombia</td>\n",
       "      <td>1395257220267495426</td>\n",
       "      <td>https://twitter.com/i/web/stuatus/139525722026...</td>\n",
       "      <td>Portal de las Américas, anoche entre 10 y 10:3...</td>\n",
       "      <td>[https://t.co/vSqmzddwtq]</td>\n",
       "      <td>[]</td>\n",
       "      <td>[]</td>\n",
       "    </tr>\n",
       "    <tr>\n",
       "      <th>...</th>\n",
       "      <td>...</td>\n",
       "      <td>...</td>\n",
       "      <td>...</td>\n",
       "      <td>...</td>\n",
       "      <td>...</td>\n",
       "      <td>...</td>\n",
       "      <td>...</td>\n",
       "      <td>...</td>\n",
       "      <td>...</td>\n",
       "      <td>...</td>\n",
       "    </tr>\n",
       "    <tr>\n",
       "      <th>495</th>\n",
       "      <td>Lo único que demuestra es que nuestros militar...</td>\n",
       "      <td>2021-05-18 17:55:16</td>\n",
       "      <td>Cali</td>\n",
       "      <td>Colombia</td>\n",
       "      <td>1394713210356436993</td>\n",
       "      <td>https://twitter.com/i/web/stuatus/139471321035...</td>\n",
       "      <td>Lo único que demuestra es que nuestros militar...</td>\n",
       "      <td>[https://t.co/KUnIHAzaTM]</td>\n",
       "      <td>[]</td>\n",
       "      <td>[]</td>\n",
       "    </tr>\n",
       "    <tr>\n",
       "      <th>496</th>\n",
       "      <td>@elespectador Que es fake, al igual que los 50...</td>\n",
       "      <td>2021-05-18 17:52:32</td>\n",
       "      <td>Cali</td>\n",
       "      <td>Colombia</td>\n",
       "      <td>1394712521085530112</td>\n",
       "      <td>https://twitter.com/i/web/stuatus/139471252108...</td>\n",
       "      <td>Que es fake, al igual que los 50 muertos, des...</td>\n",
       "      <td>[]</td>\n",
       "      <td>[]</td>\n",
       "      <td>[@elespectador]</td>\n",
       "    </tr>\n",
       "    <tr>\n",
       "      <th>497</th>\n",
       "      <td>La policía va a comprar 720 Biblias en cuero p...</td>\n",
       "      <td>2021-05-18 17:50:56</td>\n",
       "      <td>Cali</td>\n",
       "      <td>Colombia</td>\n",
       "      <td>1394712117845110788</td>\n",
       "      <td>https://twitter.com/i/web/stuatus/139471211784...</td>\n",
       "      <td>La policía va a comprar 720 Biblias en cuero p...</td>\n",
       "      <td>[]</td>\n",
       "      <td>[]</td>\n",
       "      <td>[]</td>\n",
       "    </tr>\n",
       "    <tr>\n",
       "      <th>498</th>\n",
       "      <td>La Policía y el ESMAD dificultan que la movili...</td>\n",
       "      <td>2021-05-18 17:50:01</td>\n",
       "      <td>Cali</td>\n",
       "      <td>Colombia</td>\n",
       "      <td>1394711890627080193</td>\n",
       "      <td>https://twitter.com/i/web/stuatus/139471189062...</td>\n",
       "      <td>La Policía y el ESMAD dificultan que la movili...</td>\n",
       "      <td>[https://t.co/pi5TCFt6Uy]</td>\n",
       "      <td>[#ParoNacional18M]</td>\n",
       "      <td>[]</td>\n",
       "    </tr>\n",
       "    <tr>\n",
       "      <th>499</th>\n",
       "      <td>Sí, el uniformado se llama Jhon Morales y es p...</td>\n",
       "      <td>2021-05-18 17:44:00</td>\n",
       "      <td>Cali</td>\n",
       "      <td>Colombia</td>\n",
       "      <td>1394710373907972100</td>\n",
       "      <td>https://twitter.com/i/web/stuatus/139471037390...</td>\n",
       "      <td>Sí, el uniformado se llama Jhon Morales y es p...</td>\n",
       "      <td>[https://t.co/XsS87caPAA]</td>\n",
       "      <td>[]</td>\n",
       "      <td>[]</td>\n",
       "    </tr>\n",
       "  </tbody>\n",
       "</table>\n",
       "<p>500 rows × 10 columns</p>\n",
       "</div>"
      ],
      "text/plain": [
       "                                                tweets                 date  \\\n",
       "0    Duque si hizo algo por Colombia: \\n\\nDuque hun...  2021-05-20 06:18:58   \n",
       "1    @GobiernoBTA @andresidarragaf Que horror! No s...  2021-05-20 06:08:06   \n",
       "2    Hoy en la multitudinaria movilización en Cali ...  2021-05-20 06:02:42   \n",
       "3    @VickyDavilaH @AlvaroUribeVel @IvanDuque esto ...  2021-05-20 06:01:12   \n",
       "4    Portal de las Américas, anoche entre 10 y 10:3...  2021-05-20 05:56:58   \n",
       "..                                                 ...                  ...   \n",
       "495  Lo único que demuestra es que nuestros militar...  2021-05-18 17:55:16   \n",
       "496  @elespectador Que es fake, al igual que los 50...  2021-05-18 17:52:32   \n",
       "497  La policía va a comprar 720 Biblias en cuero p...  2021-05-18 17:50:56   \n",
       "498  La Policía y el ESMAD dificultan que la movili...  2021-05-18 17:50:01   \n",
       "499  Sí, el uniformado se llama Jhon Morales y es p...  2021-05-18 17:44:00   \n",
       "\n",
       "     city           user_location                   id  \\\n",
       "0    Cali                Colombia  1395262756799004672   \n",
       "1    Cali  Bogotá, D.C., Colombia  1395260023643705348   \n",
       "2    Cali   Cali, Valle del Cauca  1395258664051691522   \n",
       "3    Cali       Pradera, Colombia  1395258285477990400   \n",
       "4    Cali  Bogotá, D.C., Colombia  1395257220267495426   \n",
       "..    ...                     ...                  ...   \n",
       "495  Cali                Colombia  1394713210356436993   \n",
       "496  Cali                Colombia  1394712521085530112   \n",
       "497  Cali                Colombia  1394712117845110788   \n",
       "498  Cali                Colombia  1394711890627080193   \n",
       "499  Cali                Colombia  1394710373907972100   \n",
       "\n",
       "                                                  link  \\\n",
       "0    https://twitter.com/i/web/stuatus/139526275679...   \n",
       "1    https://twitter.com/i/web/stuatus/139526002364...   \n",
       "2    https://twitter.com/i/web/stuatus/139525866405...   \n",
       "3    https://twitter.com/i/web/stuatus/139525828547...   \n",
       "4    https://twitter.com/i/web/stuatus/139525722026...   \n",
       "..                                                 ...   \n",
       "495  https://twitter.com/i/web/stuatus/139471321035...   \n",
       "496  https://twitter.com/i/web/stuatus/139471252108...   \n",
       "497  https://twitter.com/i/web/stuatus/139471211784...   \n",
       "498  https://twitter.com/i/web/stuatus/139471189062...   \n",
       "499  https://twitter.com/i/web/stuatus/139471037390...   \n",
       "\n",
       "                                          texto_limpio  \\\n",
       "0    Duque si hizo algo por Colombia: \\n\\nDuque hun...   \n",
       "1      Que horror! No se cansan de mentir? Lo vimos...   \n",
       "2    Hoy en la multitudinaria movilización en Cali ...   \n",
       "3       esto pasa cuando publicas los asesinatos pe...   \n",
       "4    Portal de las Américas, anoche entre 10 y 10:3...   \n",
       "..                                                 ...   \n",
       "495  Lo único que demuestra es que nuestros militar...   \n",
       "496   Que es fake, al igual que los 50 muertos, des...   \n",
       "497  La policía va a comprar 720 Biblias en cuero p...   \n",
       "498  La Policía y el ESMAD dificultan que la movili...   \n",
       "499  Sí, el uniformado se llama Jhon Morales y es p...   \n",
       "\n",
       "                         links            hashtags  \\\n",
       "0                           []     [#PrimeraLinea]   \n",
       "1                           []                  []   \n",
       "2                           []                  []   \n",
       "3    [https://t.co/DtC9Nv1654]                  []   \n",
       "4    [https://t.co/vSqmzddwtq]                  []   \n",
       "..                         ...                 ...   \n",
       "495  [https://t.co/KUnIHAzaTM]                  []   \n",
       "496                         []                  []   \n",
       "497                         []                  []   \n",
       "498  [https://t.co/pi5TCFt6Uy]  [#ParoNacional18M]   \n",
       "499  [https://t.co/XsS87caPAA]                  []   \n",
       "\n",
       "                                         mentions  \n",
       "0                                              []  \n",
       "1                [@GobiernoBTA, @andresidarragaf]  \n",
       "2                                              []  \n",
       "3    [@VickyDavilaH, @AlvaroUribeVel, @IvanDuque]  \n",
       "4                                              []  \n",
       "..                                            ...  \n",
       "495                                            []  \n",
       "496                               [@elespectador]  \n",
       "497                                            []  \n",
       "498                                            []  \n",
       "499                                            []  \n",
       "\n",
       "[500 rows x 10 columns]"
      ]
     },
     "execution_count": 15,
     "metadata": {},
     "output_type": "execute_result"
    }
   ],
   "source": [
    "data[['texto_limpio', 'links', 'hashtags', 'mentions']] = data.apply(text_clean, axis=1, result_type='expand')\n",
    "data"
   ]
  },
  {
   "cell_type": "code",
   "execution_count": 25,
   "metadata": {},
   "outputs": [
    {
     "name": "stdout",
     "output_type": "stream",
     "text": [
      "Hello World! \n"
     ]
    }
   ],
   "source": [
    "from google_trans_new import google_translator  \n",
    "  \n",
    "translator = google_translator()  \n",
    "translate_text = translator.translate('Hola mundo!', lang_src='es', lang_tgt='en')  \n",
    "print(translate_text)"
   ]
  },
  {
   "cell_type": "code",
   "execution_count": 27,
   "metadata": {},
   "outputs": [
    {
     "data": {
      "text/html": [
       "<div>\n",
       "<style scoped>\n",
       "    .dataframe tbody tr th:only-of-type {\n",
       "        vertical-align: middle;\n",
       "    }\n",
       "\n",
       "    .dataframe tbody tr th {\n",
       "        vertical-align: top;\n",
       "    }\n",
       "\n",
       "    .dataframe thead th {\n",
       "        text-align: right;\n",
       "    }\n",
       "</style>\n",
       "<table border=\"1\" class=\"dataframe\">\n",
       "  <thead>\n",
       "    <tr style=\"text-align: right;\">\n",
       "      <th></th>\n",
       "      <th>tweets</th>\n",
       "      <th>date</th>\n",
       "      <th>city</th>\n",
       "      <th>user_location</th>\n",
       "      <th>id</th>\n",
       "      <th>link</th>\n",
       "      <th>texto_limpio</th>\n",
       "      <th>links</th>\n",
       "      <th>hashtags</th>\n",
       "      <th>mentions</th>\n",
       "      <th>Text</th>\n",
       "    </tr>\n",
       "  </thead>\n",
       "  <tbody>\n",
       "    <tr>\n",
       "      <th>0</th>\n",
       "      <td>Duque si hizo algo por Colombia: \\n\\nDuque hun...</td>\n",
       "      <td>2021-05-20 06:18:58</td>\n",
       "      <td>Cali</td>\n",
       "      <td>Colombia</td>\n",
       "      <td>1395262756799004672</td>\n",
       "      <td>https://twitter.com/i/web/stuatus/139526275679...</td>\n",
       "      <td>Duque si hizo algo por Colombia: \\n\\nDuque hun...</td>\n",
       "      <td>[]</td>\n",
       "      <td>[#PrimeraLinea]</td>\n",
       "      <td>[]</td>\n",
       "      <td>Duke if he did something for Colombia:  Duke s...</td>\n",
       "    </tr>\n",
       "    <tr>\n",
       "      <th>1</th>\n",
       "      <td>@GobiernoBTA @andresidarragaf Que horror! No s...</td>\n",
       "      <td>2021-05-20 06:08:06</td>\n",
       "      <td>Cali</td>\n",
       "      <td>Bogotá, D.C., Colombia</td>\n",
       "      <td>1395260023643705348</td>\n",
       "      <td>https://twitter.com/i/web/stuatus/139526002364...</td>\n",
       "      <td>Que horror! No se cansan de mentir? Lo vimos...</td>\n",
       "      <td>[]</td>\n",
       "      <td>[]</td>\n",
       "      <td>[@GobiernoBTA, @andresidarragaf]</td>\n",
       "      <td>How awful! Do not get tired of lying? We saw m...</td>\n",
       "    </tr>\n",
       "    <tr>\n",
       "      <th>2</th>\n",
       "      <td>Hoy en la multitudinaria movilización en Cali ...</td>\n",
       "      <td>2021-05-20 06:02:42</td>\n",
       "      <td>Cali</td>\n",
       "      <td>Cali, Valle del Cauca</td>\n",
       "      <td>1395258664051691522</td>\n",
       "      <td>https://twitter.com/i/web/stuatus/139525866405...</td>\n",
       "      <td>Hoy en la multitudinaria movilización en Cali ...</td>\n",
       "      <td>[]</td>\n",
       "      <td>[]</td>\n",
       "      <td>[]</td>\n",
       "      <td>Today in the multitudinarian mobilization in C...</td>\n",
       "    </tr>\n",
       "    <tr>\n",
       "      <th>3</th>\n",
       "      <td>@VickyDavilaH @AlvaroUribeVel @IvanDuque esto ...</td>\n",
       "      <td>2021-05-20 06:01:12</td>\n",
       "      <td>Cali</td>\n",
       "      <td>Pradera, Colombia</td>\n",
       "      <td>1395258285477990400</td>\n",
       "      <td>https://twitter.com/i/web/stuatus/139525828547...</td>\n",
       "      <td>esto pasa cuando publicas los asesinatos pe...</td>\n",
       "      <td>[https://t.co/DtC9Nv1654]</td>\n",
       "      <td>[]</td>\n",
       "      <td>[@VickyDavilaH, @AlvaroUribeVel, @IvanDuque]</td>\n",
       "      <td>This happens when you publish the murders perp...</td>\n",
       "    </tr>\n",
       "    <tr>\n",
       "      <th>4</th>\n",
       "      <td>Portal de las Américas, anoche entre 10 y 10:3...</td>\n",
       "      <td>2021-05-20 05:56:58</td>\n",
       "      <td>Cali</td>\n",
       "      <td>Bogotá, D.C., Colombia</td>\n",
       "      <td>1395257220267495426</td>\n",
       "      <td>https://twitter.com/i/web/stuatus/139525722026...</td>\n",
       "      <td>Portal de las Américas, anoche entre 10 y 10:3...</td>\n",
       "      <td>[https://t.co/vSqmzddwtq]</td>\n",
       "      <td>[]</td>\n",
       "      <td>[]</td>\n",
       "      <td>Portal of the Americas, last night between 10 ...</td>\n",
       "    </tr>\n",
       "    <tr>\n",
       "      <th>...</th>\n",
       "      <td>...</td>\n",
       "      <td>...</td>\n",
       "      <td>...</td>\n",
       "      <td>...</td>\n",
       "      <td>...</td>\n",
       "      <td>...</td>\n",
       "      <td>...</td>\n",
       "      <td>...</td>\n",
       "      <td>...</td>\n",
       "      <td>...</td>\n",
       "      <td>...</td>\n",
       "    </tr>\n",
       "    <tr>\n",
       "      <th>495</th>\n",
       "      <td>Lo único que demuestra es que nuestros militar...</td>\n",
       "      <td>2021-05-18 17:55:16</td>\n",
       "      <td>Cali</td>\n",
       "      <td>Colombia</td>\n",
       "      <td>1394713210356436993</td>\n",
       "      <td>https://twitter.com/i/web/stuatus/139471321035...</td>\n",
       "      <td>Lo único que demuestra es que nuestros militar...</td>\n",
       "      <td>[https://t.co/KUnIHAzaTM]</td>\n",
       "      <td>[]</td>\n",
       "      <td>[]</td>\n",
       "      <td>The only thing that shows is that our military...</td>\n",
       "    </tr>\n",
       "    <tr>\n",
       "      <th>496</th>\n",
       "      <td>@elespectador Que es fake, al igual que los 50...</td>\n",
       "      <td>2021-05-18 17:52:32</td>\n",
       "      <td>Cali</td>\n",
       "      <td>Colombia</td>\n",
       "      <td>1394712521085530112</td>\n",
       "      <td>https://twitter.com/i/web/stuatus/139471252108...</td>\n",
       "      <td>Que es fake, al igual que los 50 muertos, des...</td>\n",
       "      <td>[]</td>\n",
       "      <td>[]</td>\n",
       "      <td>[@elespectador]</td>\n",
       "      <td>Which is Fake, as well as the 50 dead, disappe...</td>\n",
       "    </tr>\n",
       "    <tr>\n",
       "      <th>497</th>\n",
       "      <td>La policía va a comprar 720 Biblias en cuero p...</td>\n",
       "      <td>2021-05-18 17:50:56</td>\n",
       "      <td>Cali</td>\n",
       "      <td>Colombia</td>\n",
       "      <td>1394712117845110788</td>\n",
       "      <td>https://twitter.com/i/web/stuatus/139471211784...</td>\n",
       "      <td>La policía va a comprar 720 Biblias en cuero p...</td>\n",
       "      <td>[]</td>\n",
       "      <td>[]</td>\n",
       "      <td>[]</td>\n",
       "      <td>The police are going to buy 720 Bibles in leat...</td>\n",
       "    </tr>\n",
       "    <tr>\n",
       "      <th>498</th>\n",
       "      <td>La Policía y el ESMAD dificultan que la movili...</td>\n",
       "      <td>2021-05-18 17:50:01</td>\n",
       "      <td>Cali</td>\n",
       "      <td>Colombia</td>\n",
       "      <td>1394711890627080193</td>\n",
       "      <td>https://twitter.com/i/web/stuatus/139471189062...</td>\n",
       "      <td>La Policía y el ESMAD dificultan que la movili...</td>\n",
       "      <td>[https://t.co/pi5TCFt6Uy]</td>\n",
       "      <td>[#ParoNacional18M]</td>\n",
       "      <td>[]</td>\n",
       "      <td>Police and ESMAD make it difficult for the mob...</td>\n",
       "    </tr>\n",
       "    <tr>\n",
       "      <th>499</th>\n",
       "      <td>Sí, el uniformado se llama Jhon Morales y es p...</td>\n",
       "      <td>2021-05-18 17:44:00</td>\n",
       "      <td>Cali</td>\n",
       "      <td>Colombia</td>\n",
       "      <td>1394710373907972100</td>\n",
       "      <td>https://twitter.com/i/web/stuatus/139471037390...</td>\n",
       "      <td>Sí, el uniformado se llama Jhon Morales y es p...</td>\n",
       "      <td>[https://t.co/XsS87caPAA]</td>\n",
       "      <td>[]</td>\n",
       "      <td>[]</td>\n",
       "      <td>Yes, the uniformed is called Jhon Morales and ...</td>\n",
       "    </tr>\n",
       "  </tbody>\n",
       "</table>\n",
       "<p>500 rows × 11 columns</p>\n",
       "</div>"
      ],
      "text/plain": [
       "                                                tweets                 date  \\\n",
       "0    Duque si hizo algo por Colombia: \\n\\nDuque hun...  2021-05-20 06:18:58   \n",
       "1    @GobiernoBTA @andresidarragaf Que horror! No s...  2021-05-20 06:08:06   \n",
       "2    Hoy en la multitudinaria movilización en Cali ...  2021-05-20 06:02:42   \n",
       "3    @VickyDavilaH @AlvaroUribeVel @IvanDuque esto ...  2021-05-20 06:01:12   \n",
       "4    Portal de las Américas, anoche entre 10 y 10:3...  2021-05-20 05:56:58   \n",
       "..                                                 ...                  ...   \n",
       "495  Lo único que demuestra es que nuestros militar...  2021-05-18 17:55:16   \n",
       "496  @elespectador Que es fake, al igual que los 50...  2021-05-18 17:52:32   \n",
       "497  La policía va a comprar 720 Biblias en cuero p...  2021-05-18 17:50:56   \n",
       "498  La Policía y el ESMAD dificultan que la movili...  2021-05-18 17:50:01   \n",
       "499  Sí, el uniformado se llama Jhon Morales y es p...  2021-05-18 17:44:00   \n",
       "\n",
       "     city           user_location                   id  \\\n",
       "0    Cali                Colombia  1395262756799004672   \n",
       "1    Cali  Bogotá, D.C., Colombia  1395260023643705348   \n",
       "2    Cali   Cali, Valle del Cauca  1395258664051691522   \n",
       "3    Cali       Pradera, Colombia  1395258285477990400   \n",
       "4    Cali  Bogotá, D.C., Colombia  1395257220267495426   \n",
       "..    ...                     ...                  ...   \n",
       "495  Cali                Colombia  1394713210356436993   \n",
       "496  Cali                Colombia  1394712521085530112   \n",
       "497  Cali                Colombia  1394712117845110788   \n",
       "498  Cali                Colombia  1394711890627080193   \n",
       "499  Cali                Colombia  1394710373907972100   \n",
       "\n",
       "                                                  link  \\\n",
       "0    https://twitter.com/i/web/stuatus/139526275679...   \n",
       "1    https://twitter.com/i/web/stuatus/139526002364...   \n",
       "2    https://twitter.com/i/web/stuatus/139525866405...   \n",
       "3    https://twitter.com/i/web/stuatus/139525828547...   \n",
       "4    https://twitter.com/i/web/stuatus/139525722026...   \n",
       "..                                                 ...   \n",
       "495  https://twitter.com/i/web/stuatus/139471321035...   \n",
       "496  https://twitter.com/i/web/stuatus/139471252108...   \n",
       "497  https://twitter.com/i/web/stuatus/139471211784...   \n",
       "498  https://twitter.com/i/web/stuatus/139471189062...   \n",
       "499  https://twitter.com/i/web/stuatus/139471037390...   \n",
       "\n",
       "                                          texto_limpio  \\\n",
       "0    Duque si hizo algo por Colombia: \\n\\nDuque hun...   \n",
       "1      Que horror! No se cansan de mentir? Lo vimos...   \n",
       "2    Hoy en la multitudinaria movilización en Cali ...   \n",
       "3       esto pasa cuando publicas los asesinatos pe...   \n",
       "4    Portal de las Américas, anoche entre 10 y 10:3...   \n",
       "..                                                 ...   \n",
       "495  Lo único que demuestra es que nuestros militar...   \n",
       "496   Que es fake, al igual que los 50 muertos, des...   \n",
       "497  La policía va a comprar 720 Biblias en cuero p...   \n",
       "498  La Policía y el ESMAD dificultan que la movili...   \n",
       "499  Sí, el uniformado se llama Jhon Morales y es p...   \n",
       "\n",
       "                         links            hashtags  \\\n",
       "0                           []     [#PrimeraLinea]   \n",
       "1                           []                  []   \n",
       "2                           []                  []   \n",
       "3    [https://t.co/DtC9Nv1654]                  []   \n",
       "4    [https://t.co/vSqmzddwtq]                  []   \n",
       "..                         ...                 ...   \n",
       "495  [https://t.co/KUnIHAzaTM]                  []   \n",
       "496                         []                  []   \n",
       "497                         []                  []   \n",
       "498  [https://t.co/pi5TCFt6Uy]  [#ParoNacional18M]   \n",
       "499  [https://t.co/XsS87caPAA]                  []   \n",
       "\n",
       "                                         mentions  \\\n",
       "0                                              []   \n",
       "1                [@GobiernoBTA, @andresidarragaf]   \n",
       "2                                              []   \n",
       "3    [@VickyDavilaH, @AlvaroUribeVel, @IvanDuque]   \n",
       "4                                              []   \n",
       "..                                            ...   \n",
       "495                                            []   \n",
       "496                               [@elespectador]   \n",
       "497                                            []   \n",
       "498                                            []   \n",
       "499                                            []   \n",
       "\n",
       "                                                  Text  \n",
       "0    Duke if he did something for Colombia:  Duke s...  \n",
       "1    How awful! Do not get tired of lying? We saw m...  \n",
       "2    Today in the multitudinarian mobilization in C...  \n",
       "3    This happens when you publish the murders perp...  \n",
       "4    Portal of the Americas, last night between 10 ...  \n",
       "..                                                 ...  \n",
       "495  The only thing that shows is that our military...  \n",
       "496  Which is Fake, as well as the 50 dead, disappe...  \n",
       "497  The police are going to buy 720 Bibles in leat...  \n",
       "498  Police and ESMAD make it difficult for the mob...  \n",
       "499  Yes, the uniformed is called Jhon Morales and ...  \n",
       "\n",
       "[500 rows x 11 columns]"
      ]
     },
     "execution_count": 27,
     "metadata": {},
     "output_type": "execute_result"
    }
   ],
   "source": [
    "data['Text'] = data['texto_limpio'].apply(lambda x: translator.translate(x,lang_src='es', lang_tgt='en'))\n",
    "data"
   ]
  },
  {
   "cell_type": "code",
   "execution_count": 31,
   "metadata": {},
   "outputs": [],
   "source": [
    "from textblob import TextBlob "
   ]
  },
  {
   "cell_type": "code",
   "execution_count": 32,
   "metadata": {},
   "outputs": [],
   "source": [
    "from vaderSentiment.vaderSentiment import SentimentIntensityAnalyzer\n",
    "\n",
    "vader = SentimentIntensityAnalyzer()"
   ]
  },
  {
   "cell_type": "code",
   "execution_count": 34,
   "metadata": {},
   "outputs": [
    {
     "data": {
      "text/html": [
       "<div>\n",
       "<style scoped>\n",
       "    .dataframe tbody tr th:only-of-type {\n",
       "        vertical-align: middle;\n",
       "    }\n",
       "\n",
       "    .dataframe tbody tr th {\n",
       "        vertical-align: top;\n",
       "    }\n",
       "\n",
       "    .dataframe thead th {\n",
       "        text-align: right;\n",
       "    }\n",
       "</style>\n",
       "<table border=\"1\" class=\"dataframe\">\n",
       "  <thead>\n",
       "    <tr style=\"text-align: right;\">\n",
       "      <th></th>\n",
       "      <th>tweets</th>\n",
       "      <th>date</th>\n",
       "      <th>city</th>\n",
       "      <th>user_location</th>\n",
       "      <th>id</th>\n",
       "      <th>link</th>\n",
       "      <th>texto_limpio</th>\n",
       "      <th>links</th>\n",
       "      <th>hashtags</th>\n",
       "      <th>mentions</th>\n",
       "      <th>Text</th>\n",
       "      <th>sentimiento_vader</th>\n",
       "      <th>sentimiento_textblob</th>\n",
       "    </tr>\n",
       "  </thead>\n",
       "  <tbody>\n",
       "    <tr>\n",
       "      <th>0</th>\n",
       "      <td>Duque si hizo algo por Colombia: \\n\\nDuque hun...</td>\n",
       "      <td>2021-05-20 06:18:58</td>\n",
       "      <td>Cali</td>\n",
       "      <td>Colombia</td>\n",
       "      <td>1395262756799004672</td>\n",
       "      <td>https://twitter.com/i/web/stuatus/139526275679...</td>\n",
       "      <td>Duque si hizo algo por Colombia: \\n\\nDuque hun...</td>\n",
       "      <td>[]</td>\n",
       "      <td>[#PrimeraLinea]</td>\n",
       "      <td>[]</td>\n",
       "      <td>Duke if he did something for Colombia:  Duke s...</td>\n",
       "      <td>0.5106</td>\n",
       "      <td>0.075000</td>\n",
       "    </tr>\n",
       "    <tr>\n",
       "      <th>1</th>\n",
       "      <td>@GobiernoBTA @andresidarragaf Que horror! No s...</td>\n",
       "      <td>2021-05-20 06:08:06</td>\n",
       "      <td>Cali</td>\n",
       "      <td>Bogotá, D.C., Colombia</td>\n",
       "      <td>1395260023643705348</td>\n",
       "      <td>https://twitter.com/i/web/stuatus/139526002364...</td>\n",
       "      <td>Que horror! No se cansan de mentir? Lo vimos...</td>\n",
       "      <td>[]</td>\n",
       "      <td>[]</td>\n",
       "      <td>[@GobiernoBTA, @andresidarragaf]</td>\n",
       "      <td>How awful! Do not get tired of lying? We saw m...</td>\n",
       "      <td>-0.8007</td>\n",
       "      <td>-0.168939</td>\n",
       "    </tr>\n",
       "    <tr>\n",
       "      <th>2</th>\n",
       "      <td>Hoy en la multitudinaria movilización en Cali ...</td>\n",
       "      <td>2021-05-20 06:02:42</td>\n",
       "      <td>Cali</td>\n",
       "      <td>Cali, Valle del Cauca</td>\n",
       "      <td>1395258664051691522</td>\n",
       "      <td>https://twitter.com/i/web/stuatus/139525866405...</td>\n",
       "      <td>Hoy en la multitudinaria movilización en Cali ...</td>\n",
       "      <td>[]</td>\n",
       "      <td>[]</td>\n",
       "      <td>[]</td>\n",
       "      <td>Today in the multitudinarian mobilization in C...</td>\n",
       "      <td>-0.6182</td>\n",
       "      <td>0.225000</td>\n",
       "    </tr>\n",
       "    <tr>\n",
       "      <th>3</th>\n",
       "      <td>@VickyDavilaH @AlvaroUribeVel @IvanDuque esto ...</td>\n",
       "      <td>2021-05-20 06:01:12</td>\n",
       "      <td>Cali</td>\n",
       "      <td>Pradera, Colombia</td>\n",
       "      <td>1395258285477990400</td>\n",
       "      <td>https://twitter.com/i/web/stuatus/139525828547...</td>\n",
       "      <td>esto pasa cuando publicas los asesinatos pe...</td>\n",
       "      <td>[https://t.co/DtC9Nv1654]</td>\n",
       "      <td>[]</td>\n",
       "      <td>[@VickyDavilaH, @AlvaroUribeVel, @IvanDuque]</td>\n",
       "      <td>This happens when you publish the murders perp...</td>\n",
       "      <td>0.1739</td>\n",
       "      <td>1.000000</td>\n",
       "    </tr>\n",
       "    <tr>\n",
       "      <th>4</th>\n",
       "      <td>Portal de las Américas, anoche entre 10 y 10:3...</td>\n",
       "      <td>2021-05-20 05:56:58</td>\n",
       "      <td>Cali</td>\n",
       "      <td>Bogotá, D.C., Colombia</td>\n",
       "      <td>1395257220267495426</td>\n",
       "      <td>https://twitter.com/i/web/stuatus/139525722026...</td>\n",
       "      <td>Portal de las Américas, anoche entre 10 y 10:3...</td>\n",
       "      <td>[https://t.co/vSqmzddwtq]</td>\n",
       "      <td>[]</td>\n",
       "      <td>[]</td>\n",
       "      <td>Portal of the Americas, last night between 10 ...</td>\n",
       "      <td>-0.9022</td>\n",
       "      <td>-0.166667</td>\n",
       "    </tr>\n",
       "  </tbody>\n",
       "</table>\n",
       "</div>"
      ],
      "text/plain": [
       "                                              tweets                 date  \\\n",
       "0  Duque si hizo algo por Colombia: \\n\\nDuque hun...  2021-05-20 06:18:58   \n",
       "1  @GobiernoBTA @andresidarragaf Que horror! No s...  2021-05-20 06:08:06   \n",
       "2  Hoy en la multitudinaria movilización en Cali ...  2021-05-20 06:02:42   \n",
       "3  @VickyDavilaH @AlvaroUribeVel @IvanDuque esto ...  2021-05-20 06:01:12   \n",
       "4  Portal de las Américas, anoche entre 10 y 10:3...  2021-05-20 05:56:58   \n",
       "\n",
       "   city           user_location                   id  \\\n",
       "0  Cali                Colombia  1395262756799004672   \n",
       "1  Cali  Bogotá, D.C., Colombia  1395260023643705348   \n",
       "2  Cali   Cali, Valle del Cauca  1395258664051691522   \n",
       "3  Cali       Pradera, Colombia  1395258285477990400   \n",
       "4  Cali  Bogotá, D.C., Colombia  1395257220267495426   \n",
       "\n",
       "                                                link  \\\n",
       "0  https://twitter.com/i/web/stuatus/139526275679...   \n",
       "1  https://twitter.com/i/web/stuatus/139526002364...   \n",
       "2  https://twitter.com/i/web/stuatus/139525866405...   \n",
       "3  https://twitter.com/i/web/stuatus/139525828547...   \n",
       "4  https://twitter.com/i/web/stuatus/139525722026...   \n",
       "\n",
       "                                        texto_limpio  \\\n",
       "0  Duque si hizo algo por Colombia: \\n\\nDuque hun...   \n",
       "1    Que horror! No se cansan de mentir? Lo vimos...   \n",
       "2  Hoy en la multitudinaria movilización en Cali ...   \n",
       "3     esto pasa cuando publicas los asesinatos pe...   \n",
       "4  Portal de las Américas, anoche entre 10 y 10:3...   \n",
       "\n",
       "                       links         hashtags  \\\n",
       "0                         []  [#PrimeraLinea]   \n",
       "1                         []               []   \n",
       "2                         []               []   \n",
       "3  [https://t.co/DtC9Nv1654]               []   \n",
       "4  [https://t.co/vSqmzddwtq]               []   \n",
       "\n",
       "                                       mentions  \\\n",
       "0                                            []   \n",
       "1              [@GobiernoBTA, @andresidarragaf]   \n",
       "2                                            []   \n",
       "3  [@VickyDavilaH, @AlvaroUribeVel, @IvanDuque]   \n",
       "4                                            []   \n",
       "\n",
       "                                                Text  sentimiento_vader  \\\n",
       "0  Duke if he did something for Colombia:  Duke s...             0.5106   \n",
       "1  How awful! Do not get tired of lying? We saw m...            -0.8007   \n",
       "2  Today in the multitudinarian mobilization in C...            -0.6182   \n",
       "3  This happens when you publish the murders perp...             0.1739   \n",
       "4  Portal of the Americas, last night between 10 ...            -0.9022   \n",
       "\n",
       "   sentimiento_textblob  \n",
       "0              0.075000  \n",
       "1             -0.168939  \n",
       "2              0.225000  \n",
       "3              1.000000  \n",
       "4             -0.166667  "
      ]
     },
     "execution_count": 34,
     "metadata": {},
     "output_type": "execute_result"
    }
   ],
   "source": [
    "data['sentimiento_vader'] = data['Text'].apply(lambda valor: vader.polarity_scores(valor)['compound'])\n",
    "data['sentimiento_textblob'] = data['Text'].apply(lambda valor: TextBlob(valor).sentiment.polarity)\n",
    "data.head()"
   ]
  },
  {
   "cell_type": "code",
   "execution_count": 36,
   "metadata": {},
   "outputs": [
    {
     "data": {
      "text/html": [
       "<div>\n",
       "<style scoped>\n",
       "    .dataframe tbody tr th:only-of-type {\n",
       "        vertical-align: middle;\n",
       "    }\n",
       "\n",
       "    .dataframe tbody tr th {\n",
       "        vertical-align: top;\n",
       "    }\n",
       "\n",
       "    .dataframe thead th {\n",
       "        text-align: right;\n",
       "    }\n",
       "</style>\n",
       "<table border=\"1\" class=\"dataframe\">\n",
       "  <thead>\n",
       "    <tr style=\"text-align: right;\">\n",
       "      <th></th>\n",
       "      <th>Text</th>\n",
       "      <th>sentimiento_vader</th>\n",
       "    </tr>\n",
       "  </thead>\n",
       "  <tbody>\n",
       "    <tr>\n",
       "      <th>467</th>\n",
       "      <td>It is unacceptable that in 20 days of unemployment the police and the ESMAD have murdered more than 50 young people and not happy with that now violates women. That is unacceptable! Ah, thanks to his criminal political party we are as we are.  Assassins !!</td>\n",
       "      <td>-0.9600</td>\n",
       "    </tr>\n",
       "    <tr>\n",
       "      <th>50</th>\n",
       "      <td>The ESMAD assaulted the trails that moved peacefully, again provocation of the police to justify the repression, murders, violations, disappearances and other violations of the HDH, criminal humanity police officers.</td>\n",
       "      <td>-0.9501</td>\n",
       "    </tr>\n",
       "    <tr>\n",
       "      <th>398</th>\n",
       "      <td>\"@Claudialopez has completely terrified this sector of the South, has become the field of war and portal of the Americas in the SMAD and Police Barracks where they have tortured and retained people in an illegal way\" thus describe the situation living neighboring Portal Americas</td>\n",
       "      <td>-0.9459</td>\n",
       "    </tr>\n",
       "    <tr>\n",
       "      <th>451</th>\n",
       "      <td>That is not like that. The police and the ESMAD are violent and seek any detail to vilely attack the people, they shoot people when they are already returning to their homes after peaceful protests. The Esmad and the police are our enemies, they hate the people</td>\n",
       "      <td>-0.9443</td>\n",
       "    </tr>\n",
       "    <tr>\n",
       "      <th>33</th>\n",
       "      <td>And stop justifying the abuses and murders of the ESMAD and the police just because in the Mayor of Petro there were also, they are killing people, this is not petro or any other politician.  Leave the pendejada too.</td>\n",
       "      <td>-0.9371</td>\n",
       "    </tr>\n",
       "    <tr>\n",
       "      <th>...</th>\n",
       "      <td>...</td>\n",
       "      <td>...</td>\n",
       "    </tr>\n",
       "    <tr>\n",
       "      <th>139</th>\n",
       "      <td>Boys for the houses, do not give them the pleasure of running more blood tonight .. Esmad and police are thirsty and are hunting like dogs without muzzle ...  Cuid  Tomorrow ✊💙❤️</td>\n",
       "      <td>0.8860</td>\n",
       "    </tr>\n",
       "    <tr>\n",
       "      <th>141</th>\n",
       "      <td>Dr. Lombana told him that, as was predictable, not to do the Esquad, from the police the marches in Cali were peaceful. A party full of joy, starring an empowered citizenship. I was in Loma dignity until 7pm.</td>\n",
       "      <td>0.9081</td>\n",
       "    </tr>\n",
       "    <tr>\n",
       "      <th>473</th>\n",
       "      <td>Hahahaha hahahaha hahahaha hahahaha hahahaha. Now they blame the esmad. 😂😂😂😂 How many petroños are injured by themselves and they say it was the police. 😂😂😂 That sounded like an empty coconut. Hahahaha hahahaha hahahaha</td>\n",
       "      <td>0.9423</td>\n",
       "    </tr>\n",
       "    <tr>\n",
       "      <th>226</th>\n",
       "      <td>In these marches there was never ESMAD, nor excessive use of force. The right to protest was respected. Even, we sat down with the police to talk about the benefits of the peace agreement, well and also to take red while taking care of us in the camp for peace.</td>\n",
       "      <td>0.9595</td>\n",
       "    </tr>\n",
       "    <tr>\n",
       "      <th>165</th>\n",
       "      <td>🤣🤣🤣🤣🤣🤣🤣🤣🤣 That was the oppressive state .... 🤣🤣🤣🤣🤣  Now if, seriously: still, Petro and Company want to eliminate Esmad, police ....</td>\n",
       "      <td>0.9910</td>\n",
       "    </tr>\n",
       "  </tbody>\n",
       "</table>\n",
       "<p>500 rows × 2 columns</p>\n",
       "</div>"
      ],
      "text/plain": [
       "                                                                                                                                                                                                                                                                                         Text  \\\n",
       "467                         It is unacceptable that in 20 days of unemployment the police and the ESMAD have murdered more than 50 young people and not happy with that now violates women. That is unacceptable! Ah, thanks to his criminal political party we are as we are.  Assassins !!    \n",
       "50                                                                  The ESMAD assaulted the trails that moved peacefully, again provocation of the police to justify the repression, murders, violations, disappearances and other violations of the HDH, criminal humanity police officers.    \n",
       "398  \"@Claudialopez has completely terrified this sector of the South, has become the field of war and portal of the Americas in the SMAD and Police Barracks where they have tortured and retained people in an illegal way\" thus describe the situation living neighboring Portal Americas    \n",
       "451                    That is not like that. The police and the ESMAD are violent and seek any detail to vilely attack the people, they shoot people when they are already returning to their homes after peaceful protests. The Esmad and the police are our enemies, they hate the people    \n",
       "33                                                                  And stop justifying the abuses and murders of the ESMAD and the police just because in the Mayor of Petro there were also, they are killing people, this is not petro or any other politician.  Leave the pendejada too.    \n",
       "..                                                                                                                                                                                                                                                                                        ...   \n",
       "139                                                                                                       Boys for the houses, do not give them the pleasure of running more blood tonight .. Esmad and police are thirsty and are hunting like dogs without muzzle ...  Cuid  Tomorrow ✊💙❤️    \n",
       "141                                                                         Dr. Lombana told him that, as was predictable, not to do the Esquad, from the police the marches in Cali were peaceful. A party full of joy, starring an empowered citizenship. I was in Loma dignity until 7pm.    \n",
       "473                                                              Hahahaha hahahaha hahahaha hahahaha hahahaha. Now they blame the esmad. 😂😂😂😂 How many petroños are injured by themselves and they say it was the police. 😂😂😂 That sounded like an empty coconut. Hahahaha hahahaha hahahaha    \n",
       "226                    In these marches there was never ESMAD, nor excessive use of force. The right to protest was respected. Even, we sat down with the police to talk about the benefits of the peace agreement, well and also to take red while taking care of us in the camp for peace.    \n",
       "165                                                                                                                                                     🤣🤣🤣🤣🤣🤣🤣🤣🤣 That was the oppressive state .... 🤣🤣🤣🤣🤣  Now if, seriously: still, Petro and Company want to eliminate Esmad, police ....    \n",
       "\n",
       "     sentimiento_vader  \n",
       "467            -0.9600  \n",
       "50             -0.9501  \n",
       "398            -0.9459  \n",
       "451            -0.9443  \n",
       "33             -0.9371  \n",
       "..                 ...  \n",
       "139             0.8860  \n",
       "141             0.9081  \n",
       "473             0.9423  \n",
       "226             0.9595  \n",
       "165             0.9910  \n",
       "\n",
       "[500 rows x 2 columns]"
      ]
     },
     "execution_count": 36,
     "metadata": {},
     "output_type": "execute_result"
    }
   ],
   "source": [
    "pd.set_option('display.max_colwidth', None)\n",
    "data[['Text', 'sentimiento_vader']].sort_values('sentimiento_vader')"
   ]
  },
  {
   "cell_type": "code",
   "execution_count": 37,
   "metadata": {},
   "outputs": [
    {
     "data": {
      "text/html": [
       "<div>\n",
       "<style scoped>\n",
       "    .dataframe tbody tr th:only-of-type {\n",
       "        vertical-align: middle;\n",
       "    }\n",
       "\n",
       "    .dataframe tbody tr th {\n",
       "        vertical-align: top;\n",
       "    }\n",
       "\n",
       "    .dataframe thead th {\n",
       "        text-align: right;\n",
       "    }\n",
       "</style>\n",
       "<table border=\"1\" class=\"dataframe\">\n",
       "  <thead>\n",
       "    <tr style=\"text-align: right;\">\n",
       "      <th></th>\n",
       "      <th>Text</th>\n",
       "      <th>sentimiento_vader</th>\n",
       "    </tr>\n",
       "  </thead>\n",
       "  <tbody>\n",
       "    <tr>\n",
       "      <th>139</th>\n",
       "      <td>Boys for the houses, do not give them the pleasure of running more blood tonight .. Esmad and police are thirsty and are hunting like dogs without muzzle ...  Cuid  Tomorrow ✊💙❤️</td>\n",
       "      <td>0.8860</td>\n",
       "    </tr>\n",
       "    <tr>\n",
       "      <th>141</th>\n",
       "      <td>Dr. Lombana told him that, as was predictable, not to do the Esquad, from the police the marches in Cali were peaceful. A party full of joy, starring an empowered citizenship. I was in Loma dignity until 7pm.</td>\n",
       "      <td>0.9081</td>\n",
       "    </tr>\n",
       "    <tr>\n",
       "      <th>473</th>\n",
       "      <td>Hahahaha hahahaha hahahaha hahahaha hahahaha. Now they blame the esmad. 😂😂😂😂 How many petroños are injured by themselves and they say it was the police. 😂😂😂 That sounded like an empty coconut. Hahahaha hahahaha hahahaha</td>\n",
       "      <td>0.9423</td>\n",
       "    </tr>\n",
       "    <tr>\n",
       "      <th>226</th>\n",
       "      <td>In these marches there was never ESMAD, nor excessive use of force. The right to protest was respected. Even, we sat down with the police to talk about the benefits of the peace agreement, well and also to take red while taking care of us in the camp for peace.</td>\n",
       "      <td>0.9595</td>\n",
       "    </tr>\n",
       "    <tr>\n",
       "      <th>165</th>\n",
       "      <td>🤣🤣🤣🤣🤣🤣🤣🤣🤣 That was the oppressive state .... 🤣🤣🤣🤣🤣  Now if, seriously: still, Petro and Company want to eliminate Esmad, police ....</td>\n",
       "      <td>0.9910</td>\n",
       "    </tr>\n",
       "  </tbody>\n",
       "</table>\n",
       "</div>"
      ],
      "text/plain": [
       "                                                                                                                                                                                                                                                                       Text  \\\n",
       "139                                                                                     Boys for the houses, do not give them the pleasure of running more blood tonight .. Esmad and police are thirsty and are hunting like dogs without muzzle ...  Cuid  Tomorrow ✊💙❤️    \n",
       "141                                                       Dr. Lombana told him that, as was predictable, not to do the Esquad, from the police the marches in Cali were peaceful. A party full of joy, starring an empowered citizenship. I was in Loma dignity until 7pm.    \n",
       "473                                            Hahahaha hahahaha hahahaha hahahaha hahahaha. Now they blame the esmad. 😂😂😂😂 How many petroños are injured by themselves and they say it was the police. 😂😂😂 That sounded like an empty coconut. Hahahaha hahahaha hahahaha    \n",
       "226  In these marches there was never ESMAD, nor excessive use of force. The right to protest was respected. Even, we sat down with the police to talk about the benefits of the peace agreement, well and also to take red while taking care of us in the camp for peace.    \n",
       "165                                                                                                                                   🤣🤣🤣🤣🤣🤣🤣🤣🤣 That was the oppressive state .... 🤣🤣🤣🤣🤣  Now if, seriously: still, Petro and Company want to eliminate Esmad, police ....    \n",
       "\n",
       "     sentimiento_vader  \n",
       "139             0.8860  \n",
       "141             0.9081  \n",
       "473             0.9423  \n",
       "226             0.9595  \n",
       "165             0.9910  "
      ]
     },
     "execution_count": 37,
     "metadata": {},
     "output_type": "execute_result"
    }
   ],
   "source": [
    "pd.set_option('display.max_colwidth', None)\n",
    "data[['Text', 'sentimiento_vader']].sort_values('sentimiento_vader').tail()"
   ]
  },
  {
   "cell_type": "code",
   "execution_count": null,
   "metadata": {},
   "outputs": [],
   "source": []
  },
  {
   "cell_type": "markdown",
   "metadata": {},
   "source": [
    " ### [25 pts] Punto 2: ¿Cuál es el tuit más positivo y más negativo?"
   ]
  },
  {
   "cell_type": "code",
   "execution_count": 38,
   "metadata": {},
   "outputs": [
    {
     "name": "stdout",
     "output_type": "stream",
     "text": [
      "TWEET MÁs POSITIVO: Muchachos pa' las casas, no les den el gusto de correr más sangre esta noche.. ESMAD y Policía están sedientos y están cazando como perros sin bozal...\n",
      "\n",
      "Cuídense\n",
      "\n",
      "Mañana ✊💙❤️\n",
      "\n",
      "\n",
      "\n",
      "\n",
      "\n",
      "\n",
      " \n",
      "******\n",
      "SENTIMIENTO: 0.886\n"
     ]
    }
   ],
   "source": [
    "print(f\"TWEET MÁs POSITIVO: {data.loc[139,'texto_limpio']} \")\n",
    "print(f\"******\")\n",
    "print(f\"SENTIMIENTO: {data.loc[139,'sentimiento_vader']}\")"
   ]
  },
  {
   "cell_type": "code",
   "execution_count": 39,
   "metadata": {},
   "outputs": [
    {
     "name": "stdout",
     "output_type": "stream",
     "text": [
      "TWEET MÁs NEGATIVO:  Es inaceptable que en 20 días de paro la Policía y el Esmad hayan ASESINADO a más de 50 jóvenes y no contentos con eso ahora violan mujeres. ESO SI ES INACEPTABLE!! Ah, gracias a su criminal partido político estamos como estamos. \n",
      "ASESINOS!! \n",
      "******\n",
      "SENTIMIENTO: -0.96\n"
     ]
    }
   ],
   "source": [
    "print(f\"TWEET MÁs NEGATIVO: {data.loc[467,'texto_limpio']} \")\n",
    "print(f\"******\")\n",
    "print(f\"SENTIMIENTO: {data.loc[467,'sentimiento_vader']}\")"
   ]
  },
  {
   "cell_type": "markdown",
   "metadata": {},
   "source": [
    "###  `[10 pts]` Punto 3: ¿Cuántos tuits positivos/negativos hay en sus datos?"
   ]
  },
  {
   "cell_type": "code",
   "execution_count": 53,
   "metadata": {},
   "outputs": [],
   "source": [
    "lst = data['sentimiento_vader'].tolist()"
   ]
  },
  {
   "cell_type": "code",
   "execution_count": 56,
   "metadata": {},
   "outputs": [
    {
     "data": {
      "text/plain": [
       "500"
      ]
     },
     "execution_count": 56,
     "metadata": {},
     "output_type": "execute_result"
    }
   ],
   "source": [
    "len(lst)"
   ]
  },
  {
   "cell_type": "code",
   "execution_count": 62,
   "metadata": {},
   "outputs": [
    {
     "name": "stdout",
     "output_type": "stream",
     "text": [
      "Positivos:  169\n",
      "Negativos:  331\n"
     ]
    }
   ],
   "source": [
    "pos_count, neg_count= 0, 0\n",
    "\n",
    "for num in lst:\n",
    "    if num >= 0:\n",
    "        pos_count += 1\n",
    "    else:\n",
    "        neg_count += 1\n",
    "          \n",
    "print(\"Positivos: \", pos_count)\n",
    "print(\"Negativos: \", neg_count)\n"
   ]
  },
  {
   "cell_type": "markdown",
   "metadata": {},
   "source": [
    "###  `[5 pts]` : Punto 4: Una visualización sobre sus datos"
   ]
  },
  {
   "cell_type": "code",
   "execution_count": 75,
   "metadata": {},
   "outputs": [
    {
     "data": {
      "application/vnd.plotly.v1+json": {
       "config": {
        "plotlyServerURL": "https://plot.ly"
       },
       "data": [
        {
         "alignmentgroup": "True",
         "bingroup": "x",
         "hovertemplate": "sentimiento_vader=%{x}<br>count=%{y}<extra></extra>",
         "legendgroup": "",
         "marker": {
          "color": "#636efa"
         },
         "name": "",
         "offsetgroup": "",
         "orientation": "v",
         "showlegend": false,
         "type": "histogram",
         "x": [
          0.5106,
          -0.8007,
          -0.6182,
          0.1739,
          -0.9022,
          -0.5152,
          -0.4425,
          -0.3968,
          -0.4767,
          0.2962,
          0.1625,
          0.0258,
          -0.4767,
          -0.25,
          -0.6124,
          -0.4767,
          -0.8594,
          -0.936,
          -0.7351,
          -0.8074,
          0.3818,
          -0.7269,
          -0.891,
          0,
          0.4574,
          0,
          -0.4767,
          -0.5267,
          0.2732,
          -0.34,
          -0.5267,
          -0.5106,
          0.0772,
          -0.9371,
          -0.4767,
          0.3182,
          -0.7236,
          0,
          -0.2732,
          -0.5106,
          -0.7625,
          -0.3682,
          0.0772,
          0,
          -0.0258,
          -0.8469,
          -0.8325,
          0.128,
          0.0258,
          -0.5457,
          -0.9501,
          -0.2023,
          0,
          -0.6662,
          -0.8555,
          -0.6486,
          -0.296,
          -0.4588,
          -0.6369,
          -0.3751,
          0,
          0.4404,
          -0.6249,
          0.2263,
          -0.6908,
          -0.6288,
          -0.8979,
          -0.9041,
          -0.3348,
          -0.6486,
          0.0258,
          0,
          0.4404,
          0.0387,
          -0.926,
          -0.836,
          -0.0341,
          -0.7783,
          -0.6486,
          -0.7832,
          0.6991,
          -0.4926,
          -0.1154,
          -0.8741,
          0.0258,
          -0.128,
          -0.4019,
          -0.7269,
          -0.7003,
          0.5399,
          -0.6623,
          0.6184,
          0.1695,
          -0.7241,
          -0.3612,
          -0.9287,
          -0.5106,
          -0.8294,
          -0.9186,
          -0.5255,
          -0.5617,
          -0.1027,
          -0.6892,
          -0.6874,
          -0.6908,
          -0.8681,
          -0.6696,
          0.4946,
          -0.2023,
          -0.69,
          -0.4404,
          -0.3204,
          -0.7236,
          0.3365,
          0,
          -0.7351,
          -0.5499,
          -0.0772,
          -0.8713,
          0.126,
          -0.9325,
          -0.9009,
          0.7946,
          -0.0516,
          -0.684,
          -0.8384,
          0,
          -0.926,
          -0.5606,
          0.0772,
          -0.7964,
          -0.8395,
          -0.7506,
          0.0762,
          -0.807,
          -0.128,
          0.4404,
          0.1986,
          -0.7396,
          0.886,
          0,
          0.9081,
          0,
          0.4939,
          -0.6249,
          0.5106,
          -0.8423,
          -0.7003,
          -0.4588,
          0.2732,
          -0.8658,
          -0.7783,
          0.1431,
          0.2023,
          -0.701,
          -0.8834,
          -0.7319,
          -0.6635,
          0,
          -0.2263,
          -0.1779,
          -0.2023,
          -0.5719,
          -0.4019,
          0.8809,
          0.991,
          -0.5994,
          -0.0833,
          0.1184,
          0.68,
          -0.743,
          -0.296,
          0.4228,
          -0.8591,
          -0.0516,
          0.3384,
          0.8586,
          0.4228,
          -0.7184,
          -0.8625,
          -0.4243,
          -0.8442,
          -0.0258,
          0.7783,
          -0.0258,
          0.1531,
          -0.8402,
          -0.7717,
          -0.1586,
          -0.024,
          -0.836,
          0,
          -0.6124,
          0.4576,
          -0.5784,
          -0.2165,
          -0.5994,
          -0.5994,
          -0.4767,
          -0.9287,
          -0.8074,
          -0.6908,
          0.2556,
          -0.4019,
          0.3525,
          -0.5267,
          0,
          0,
          0.128,
          0.7088,
          -0.7579,
          -0.6597,
          0,
          0,
          0.6705,
          0.5267,
          0.7306,
          -0.6904,
          0,
          -0.7861,
          0.1779,
          -0.5574,
          0.783,
          -0.836,
          -0.1027,
          -0.5423,
          0.9595,
          0.34,
          0.3612,
          0.6705,
          0.4199,
          0.4902,
          0.4404,
          -0.296,
          -0.743,
          0.1326,
          0.2796,
          0,
          -0.7269,
          0,
          -0.1779,
          -0.6124,
          0.4939,
          -0.4779,
          0,
          -0.6124,
          0.3561,
          -0.9128,
          0.4767,
          -0.228,
          -0.1779,
          -0.8271,
          0,
          -0.0572,
          -0.7771,
          -0.3595,
          -0.8225,
          0.6515,
          0.0258,
          -0.743,
          0,
          -0.8553,
          0.8675,
          -0.743,
          -0.2263,
          -0.0857,
          -0.926,
          0.6486,
          -0.8858,
          -0.5994,
          -0.0772,
          -0.8617,
          -0.2263,
          0.2057,
          -0.5472,
          -0.8346,
          -0.6124,
          -0.4389,
          -0.7044,
          0.0762,
          -0.6456,
          -0.5719,
          0,
          -0.4588,
          -0.5411,
          -0.8151,
          -0.0036,
          -0.8906,
          0.4767,
          -0.7845,
          -0.3818,
          0,
          0.34,
          0.5886,
          -0.8519,
          -0.7783,
          -0.3182,
          0.1969,
          -0.5707,
          0.8271,
          -0.8271,
          0.3612,
          -0.703,
          -0.2023,
          -0.5719,
          -0.2584,
          -0.6705,
          -0.5766,
          -0.6887,
          -0.5423,
          0.3182,
          -0.5239,
          -0.8176,
          -0.91,
          -0.9274,
          -0.696,
          -0.5994,
          0.7366,
          0.128,
          -0.0516,
          -0.4588,
          -0.6902,
          0.4767,
          -0.6124,
          -0.7707,
          -0.8329,
          0,
          -0.7845,
          -0.8996,
          -0.8176,
          -0.836,
          0.7184,
          -0.5267,
          -0.9179,
          -0.2023,
          0.2937,
          0.4019,
          0,
          -0.0772,
          -0.607,
          0.5983,
          -0.8316,
          0,
          -0.3382,
          -0.1779,
          -0.7558,
          -0.5023,
          -0.9201,
          -0.5267,
          0.091,
          0,
          -0.8669,
          -0.6249,
          -0.6249,
          -0.6249,
          -0.6249,
          -0.6249,
          -0.6249,
          -0.6249,
          -0.5842,
          -0.2023,
          -0.5574,
          0,
          0.34,
          -0.4767,
          -0.4374,
          -0.17,
          -0.9287,
          -0.6369,
          -0.0516,
          -0.4939,
          0.6946,
          -0.0516,
          -0.4767,
          -0.4767,
          -0.5255,
          -0.8748,
          -0.7269,
          -0.8748,
          -0.8748,
          -0.8748,
          -0.8748,
          -0.8748,
          0.6652,
          0,
          -0.3786,
          -0.3252,
          -0.1154,
          0.765,
          -0.4784,
          -0.7096,
          0.2732,
          -0.6966,
          0.3871,
          0,
          -0.7897,
          -0.6369,
          0,
          -0.9459,
          0.5267,
          0,
          0,
          0,
          -0.25,
          0,
          -0.7506,
          0,
          -0.3612,
          -0.7845,
          -0.8466,
          -0.0557,
          0,
          0.25,
          -0.5574,
          -0.6249,
          -0.765,
          0,
          -0.4215,
          -0.4215,
          0.5106,
          -0.2263,
          -0.6808,
          -0.0516,
          0.5859,
          -0.2023,
          -0.5267,
          -0.1513,
          -0.7712,
          -0.25,
          -0.6694,
          -0.6705,
          0,
          -0.93,
          -0.34,
          -0.7906,
          -0.6384,
          0.1275,
          -0.3421,
          -0.6249,
          -0.8953,
          -0.6808,
          0.6369,
          -0.6486,
          0.7179,
          -0.4404,
          0.7964,
          0,
          -0.9268,
          0.7715,
          0.8807,
          0.6214,
          -0.9443,
          -0.25,
          -0.836,
          -0.6298,
          -0.8053,
          -0.4926,
          -0.4767,
          0,
          -0.8591,
          -0.6908,
          0.3802,
          -0.3291,
          0.5574,
          0.3412,
          0.2003,
          -0.0258,
          -0.96,
          -0.8151,
          -0.3935,
          0.2263,
          -0.4392,
          0.2263,
          0.9423,
          -0.5423,
          0.0258,
          -0.7684,
          0.2359,
          0,
          -0.5994,
          0.4404,
          -0.7717,
          0.5499,
          0.0516,
          -0.4767,
          0.3612,
          -0.3612,
          -0.7684,
          0.5574,
          -0.9287,
          -0.802,
          0.7351,
          0.09,
          -0.7299,
          -0.4404,
          0.1513,
          -0.802,
          -0.1027,
          -0.5267,
          -0.431
         ],
         "xaxis": "x",
         "yaxis": "y"
        }
       ],
       "layout": {
        "barmode": "relative",
        "legend": {
         "tracegroupgap": 0
        },
        "template": {
         "data": {
          "bar": [
           {
            "error_x": {
             "color": "#2a3f5f"
            },
            "error_y": {
             "color": "#2a3f5f"
            },
            "marker": {
             "line": {
              "color": "#E5ECF6",
              "width": 0.5
             }
            },
            "type": "bar"
           }
          ],
          "barpolar": [
           {
            "marker": {
             "line": {
              "color": "#E5ECF6",
              "width": 0.5
             }
            },
            "type": "barpolar"
           }
          ],
          "carpet": [
           {
            "aaxis": {
             "endlinecolor": "#2a3f5f",
             "gridcolor": "white",
             "linecolor": "white",
             "minorgridcolor": "white",
             "startlinecolor": "#2a3f5f"
            },
            "baxis": {
             "endlinecolor": "#2a3f5f",
             "gridcolor": "white",
             "linecolor": "white",
             "minorgridcolor": "white",
             "startlinecolor": "#2a3f5f"
            },
            "type": "carpet"
           }
          ],
          "choropleth": [
           {
            "colorbar": {
             "outlinewidth": 0,
             "ticks": ""
            },
            "type": "choropleth"
           }
          ],
          "contour": [
           {
            "colorbar": {
             "outlinewidth": 0,
             "ticks": ""
            },
            "colorscale": [
             [
              0,
              "#0d0887"
             ],
             [
              0.1111111111111111,
              "#46039f"
             ],
             [
              0.2222222222222222,
              "#7201a8"
             ],
             [
              0.3333333333333333,
              "#9c179e"
             ],
             [
              0.4444444444444444,
              "#bd3786"
             ],
             [
              0.5555555555555556,
              "#d8576b"
             ],
             [
              0.6666666666666666,
              "#ed7953"
             ],
             [
              0.7777777777777778,
              "#fb9f3a"
             ],
             [
              0.8888888888888888,
              "#fdca26"
             ],
             [
              1,
              "#f0f921"
             ]
            ],
            "type": "contour"
           }
          ],
          "contourcarpet": [
           {
            "colorbar": {
             "outlinewidth": 0,
             "ticks": ""
            },
            "type": "contourcarpet"
           }
          ],
          "heatmap": [
           {
            "colorbar": {
             "outlinewidth": 0,
             "ticks": ""
            },
            "colorscale": [
             [
              0,
              "#0d0887"
             ],
             [
              0.1111111111111111,
              "#46039f"
             ],
             [
              0.2222222222222222,
              "#7201a8"
             ],
             [
              0.3333333333333333,
              "#9c179e"
             ],
             [
              0.4444444444444444,
              "#bd3786"
             ],
             [
              0.5555555555555556,
              "#d8576b"
             ],
             [
              0.6666666666666666,
              "#ed7953"
             ],
             [
              0.7777777777777778,
              "#fb9f3a"
             ],
             [
              0.8888888888888888,
              "#fdca26"
             ],
             [
              1,
              "#f0f921"
             ]
            ],
            "type": "heatmap"
           }
          ],
          "heatmapgl": [
           {
            "colorbar": {
             "outlinewidth": 0,
             "ticks": ""
            },
            "colorscale": [
             [
              0,
              "#0d0887"
             ],
             [
              0.1111111111111111,
              "#46039f"
             ],
             [
              0.2222222222222222,
              "#7201a8"
             ],
             [
              0.3333333333333333,
              "#9c179e"
             ],
             [
              0.4444444444444444,
              "#bd3786"
             ],
             [
              0.5555555555555556,
              "#d8576b"
             ],
             [
              0.6666666666666666,
              "#ed7953"
             ],
             [
              0.7777777777777778,
              "#fb9f3a"
             ],
             [
              0.8888888888888888,
              "#fdca26"
             ],
             [
              1,
              "#f0f921"
             ]
            ],
            "type": "heatmapgl"
           }
          ],
          "histogram": [
           {
            "marker": {
             "colorbar": {
              "outlinewidth": 0,
              "ticks": ""
             }
            },
            "type": "histogram"
           }
          ],
          "histogram2d": [
           {
            "colorbar": {
             "outlinewidth": 0,
             "ticks": ""
            },
            "colorscale": [
             [
              0,
              "#0d0887"
             ],
             [
              0.1111111111111111,
              "#46039f"
             ],
             [
              0.2222222222222222,
              "#7201a8"
             ],
             [
              0.3333333333333333,
              "#9c179e"
             ],
             [
              0.4444444444444444,
              "#bd3786"
             ],
             [
              0.5555555555555556,
              "#d8576b"
             ],
             [
              0.6666666666666666,
              "#ed7953"
             ],
             [
              0.7777777777777778,
              "#fb9f3a"
             ],
             [
              0.8888888888888888,
              "#fdca26"
             ],
             [
              1,
              "#f0f921"
             ]
            ],
            "type": "histogram2d"
           }
          ],
          "histogram2dcontour": [
           {
            "colorbar": {
             "outlinewidth": 0,
             "ticks": ""
            },
            "colorscale": [
             [
              0,
              "#0d0887"
             ],
             [
              0.1111111111111111,
              "#46039f"
             ],
             [
              0.2222222222222222,
              "#7201a8"
             ],
             [
              0.3333333333333333,
              "#9c179e"
             ],
             [
              0.4444444444444444,
              "#bd3786"
             ],
             [
              0.5555555555555556,
              "#d8576b"
             ],
             [
              0.6666666666666666,
              "#ed7953"
             ],
             [
              0.7777777777777778,
              "#fb9f3a"
             ],
             [
              0.8888888888888888,
              "#fdca26"
             ],
             [
              1,
              "#f0f921"
             ]
            ],
            "type": "histogram2dcontour"
           }
          ],
          "mesh3d": [
           {
            "colorbar": {
             "outlinewidth": 0,
             "ticks": ""
            },
            "type": "mesh3d"
           }
          ],
          "parcoords": [
           {
            "line": {
             "colorbar": {
              "outlinewidth": 0,
              "ticks": ""
             }
            },
            "type": "parcoords"
           }
          ],
          "pie": [
           {
            "automargin": true,
            "type": "pie"
           }
          ],
          "scatter": [
           {
            "marker": {
             "colorbar": {
              "outlinewidth": 0,
              "ticks": ""
             }
            },
            "type": "scatter"
           }
          ],
          "scatter3d": [
           {
            "line": {
             "colorbar": {
              "outlinewidth": 0,
              "ticks": ""
             }
            },
            "marker": {
             "colorbar": {
              "outlinewidth": 0,
              "ticks": ""
             }
            },
            "type": "scatter3d"
           }
          ],
          "scattercarpet": [
           {
            "marker": {
             "colorbar": {
              "outlinewidth": 0,
              "ticks": ""
             }
            },
            "type": "scattercarpet"
           }
          ],
          "scattergeo": [
           {
            "marker": {
             "colorbar": {
              "outlinewidth": 0,
              "ticks": ""
             }
            },
            "type": "scattergeo"
           }
          ],
          "scattergl": [
           {
            "marker": {
             "colorbar": {
              "outlinewidth": 0,
              "ticks": ""
             }
            },
            "type": "scattergl"
           }
          ],
          "scattermapbox": [
           {
            "marker": {
             "colorbar": {
              "outlinewidth": 0,
              "ticks": ""
             }
            },
            "type": "scattermapbox"
           }
          ],
          "scatterpolar": [
           {
            "marker": {
             "colorbar": {
              "outlinewidth": 0,
              "ticks": ""
             }
            },
            "type": "scatterpolar"
           }
          ],
          "scatterpolargl": [
           {
            "marker": {
             "colorbar": {
              "outlinewidth": 0,
              "ticks": ""
             }
            },
            "type": "scatterpolargl"
           }
          ],
          "scatterternary": [
           {
            "marker": {
             "colorbar": {
              "outlinewidth": 0,
              "ticks": ""
             }
            },
            "type": "scatterternary"
           }
          ],
          "surface": [
           {
            "colorbar": {
             "outlinewidth": 0,
             "ticks": ""
            },
            "colorscale": [
             [
              0,
              "#0d0887"
             ],
             [
              0.1111111111111111,
              "#46039f"
             ],
             [
              0.2222222222222222,
              "#7201a8"
             ],
             [
              0.3333333333333333,
              "#9c179e"
             ],
             [
              0.4444444444444444,
              "#bd3786"
             ],
             [
              0.5555555555555556,
              "#d8576b"
             ],
             [
              0.6666666666666666,
              "#ed7953"
             ],
             [
              0.7777777777777778,
              "#fb9f3a"
             ],
             [
              0.8888888888888888,
              "#fdca26"
             ],
             [
              1,
              "#f0f921"
             ]
            ],
            "type": "surface"
           }
          ],
          "table": [
           {
            "cells": {
             "fill": {
              "color": "#EBF0F8"
             },
             "line": {
              "color": "white"
             }
            },
            "header": {
             "fill": {
              "color": "#C8D4E3"
             },
             "line": {
              "color": "white"
             }
            },
            "type": "table"
           }
          ]
         },
         "layout": {
          "annotationdefaults": {
           "arrowcolor": "#2a3f5f",
           "arrowhead": 0,
           "arrowwidth": 1
          },
          "autotypenumbers": "strict",
          "coloraxis": {
           "colorbar": {
            "outlinewidth": 0,
            "ticks": ""
           }
          },
          "colorscale": {
           "diverging": [
            [
             0,
             "#8e0152"
            ],
            [
             0.1,
             "#c51b7d"
            ],
            [
             0.2,
             "#de77ae"
            ],
            [
             0.3,
             "#f1b6da"
            ],
            [
             0.4,
             "#fde0ef"
            ],
            [
             0.5,
             "#f7f7f7"
            ],
            [
             0.6,
             "#e6f5d0"
            ],
            [
             0.7,
             "#b8e186"
            ],
            [
             0.8,
             "#7fbc41"
            ],
            [
             0.9,
             "#4d9221"
            ],
            [
             1,
             "#276419"
            ]
           ],
           "sequential": [
            [
             0,
             "#0d0887"
            ],
            [
             0.1111111111111111,
             "#46039f"
            ],
            [
             0.2222222222222222,
             "#7201a8"
            ],
            [
             0.3333333333333333,
             "#9c179e"
            ],
            [
             0.4444444444444444,
             "#bd3786"
            ],
            [
             0.5555555555555556,
             "#d8576b"
            ],
            [
             0.6666666666666666,
             "#ed7953"
            ],
            [
             0.7777777777777778,
             "#fb9f3a"
            ],
            [
             0.8888888888888888,
             "#fdca26"
            ],
            [
             1,
             "#f0f921"
            ]
           ],
           "sequentialminus": [
            [
             0,
             "#0d0887"
            ],
            [
             0.1111111111111111,
             "#46039f"
            ],
            [
             0.2222222222222222,
             "#7201a8"
            ],
            [
             0.3333333333333333,
             "#9c179e"
            ],
            [
             0.4444444444444444,
             "#bd3786"
            ],
            [
             0.5555555555555556,
             "#d8576b"
            ],
            [
             0.6666666666666666,
             "#ed7953"
            ],
            [
             0.7777777777777778,
             "#fb9f3a"
            ],
            [
             0.8888888888888888,
             "#fdca26"
            ],
            [
             1,
             "#f0f921"
            ]
           ]
          },
          "colorway": [
           "#636efa",
           "#EF553B",
           "#00cc96",
           "#ab63fa",
           "#FFA15A",
           "#19d3f3",
           "#FF6692",
           "#B6E880",
           "#FF97FF",
           "#FECB52"
          ],
          "font": {
           "color": "#2a3f5f"
          },
          "geo": {
           "bgcolor": "white",
           "lakecolor": "white",
           "landcolor": "#E5ECF6",
           "showlakes": true,
           "showland": true,
           "subunitcolor": "white"
          },
          "hoverlabel": {
           "align": "left"
          },
          "hovermode": "closest",
          "mapbox": {
           "style": "light"
          },
          "paper_bgcolor": "white",
          "plot_bgcolor": "#E5ECF6",
          "polar": {
           "angularaxis": {
            "gridcolor": "white",
            "linecolor": "white",
            "ticks": ""
           },
           "bgcolor": "#E5ECF6",
           "radialaxis": {
            "gridcolor": "white",
            "linecolor": "white",
            "ticks": ""
           }
          },
          "scene": {
           "xaxis": {
            "backgroundcolor": "#E5ECF6",
            "gridcolor": "white",
            "gridwidth": 2,
            "linecolor": "white",
            "showbackground": true,
            "ticks": "",
            "zerolinecolor": "white"
           },
           "yaxis": {
            "backgroundcolor": "#E5ECF6",
            "gridcolor": "white",
            "gridwidth": 2,
            "linecolor": "white",
            "showbackground": true,
            "ticks": "",
            "zerolinecolor": "white"
           },
           "zaxis": {
            "backgroundcolor": "#E5ECF6",
            "gridcolor": "white",
            "gridwidth": 2,
            "linecolor": "white",
            "showbackground": true,
            "ticks": "",
            "zerolinecolor": "white"
           }
          },
          "shapedefaults": {
           "line": {
            "color": "#2a3f5f"
           }
          },
          "ternary": {
           "aaxis": {
            "gridcolor": "white",
            "linecolor": "white",
            "ticks": ""
           },
           "baxis": {
            "gridcolor": "white",
            "linecolor": "white",
            "ticks": ""
           },
           "bgcolor": "#E5ECF6",
           "caxis": {
            "gridcolor": "white",
            "linecolor": "white",
            "ticks": ""
           }
          },
          "title": {
           "x": 0.05
          },
          "xaxis": {
           "automargin": true,
           "gridcolor": "white",
           "linecolor": "white",
           "ticks": "",
           "title": {
            "standoff": 15
           },
           "zerolinecolor": "white",
           "zerolinewidth": 2
          },
          "yaxis": {
           "automargin": true,
           "gridcolor": "white",
           "linecolor": "white",
           "ticks": "",
           "title": {
            "standoff": 15
           },
           "zerolinecolor": "white",
           "zerolinewidth": 2
          }
         }
        },
        "title": {
         "text": "Distribución sentiemientos vader"
        },
        "xaxis": {
         "anchor": "y",
         "domain": [
          0,
          1
         ],
         "title": {
          "text": "sentimiento_vader"
         }
        },
        "yaxis": {
         "anchor": "x",
         "domain": [
          0,
          1
         ],
         "title": {
          "text": "count"
         }
        }
       }
      },
      "text/html": [
       "<div>                            <div id=\"224eeeea-a449-4f23-b587-7dc0d35c743f\" class=\"plotly-graph-div\" style=\"height:525px; width:100%;\"></div>            <script type=\"text/javascript\">                require([\"plotly\"], function(Plotly) {                    window.PLOTLYENV=window.PLOTLYENV || {};                                    if (document.getElementById(\"224eeeea-a449-4f23-b587-7dc0d35c743f\")) {                    Plotly.newPlot(                        \"224eeeea-a449-4f23-b587-7dc0d35c743f\",                        [{\"alignmentgroup\": \"True\", \"bingroup\": \"x\", \"hovertemplate\": \"sentimiento_vader=%{x}<br>count=%{y}<extra></extra>\", \"legendgroup\": \"\", \"marker\": {\"color\": \"#636efa\"}, \"name\": \"\", \"offsetgroup\": \"\", \"orientation\": \"v\", \"showlegend\": false, \"type\": \"histogram\", \"x\": [0.5106, -0.8007, -0.6182, 0.1739, -0.9022, -0.5152, -0.4425, -0.3968, -0.4767, 0.2962, 0.1625, 0.0258, -0.4767, -0.25, -0.6124, -0.4767, -0.8594, -0.936, -0.7351, -0.8074, 0.3818, -0.7269, -0.891, 0.0, 0.4574, 0.0, -0.4767, -0.5267, 0.2732, -0.34, -0.5267, -0.5106, 0.0772, -0.9371, -0.4767, 0.3182, -0.7236, 0.0, -0.2732, -0.5106, -0.7625, -0.3682, 0.0772, 0.0, -0.0258, -0.8469, -0.8325, 0.128, 0.0258, -0.5457, -0.9501, -0.2023, 0.0, -0.6662, -0.8555, -0.6486, -0.296, -0.4588, -0.6369, -0.3751, 0.0, 0.4404, -0.6249, 0.2263, -0.6908, -0.6288, -0.8979, -0.9041, -0.3348, -0.6486, 0.0258, 0.0, 0.4404, 0.0387, -0.926, -0.836, -0.0341, -0.7783, -0.6486, -0.7832, 0.6991, -0.4926, -0.1154, -0.8741, 0.0258, -0.128, -0.4019, -0.7269, -0.7003, 0.5399, -0.6623, 0.6184, 0.1695, -0.7241, -0.3612, -0.9287, -0.5106, -0.8294, -0.9186, -0.5255, -0.5617, -0.1027, -0.6892, -0.6874, -0.6908, -0.8681, -0.6696, 0.4946, -0.2023, -0.69, -0.4404, -0.3204, -0.7236, 0.3365, 0.0, -0.7351, -0.5499, -0.0772, -0.8713, 0.126, -0.9325, -0.9009, 0.7946, -0.0516, -0.684, -0.8384, 0.0, -0.926, -0.5606, 0.0772, -0.7964, -0.8395, -0.7506, 0.0762, -0.807, -0.128, 0.4404, 0.1986, -0.7396, 0.886, 0.0, 0.9081, 0.0, 0.4939, -0.6249, 0.5106, -0.8423, -0.7003, -0.4588, 0.2732, -0.8658, -0.7783, 0.1431, 0.2023, -0.701, -0.8834, -0.7319, -0.6635, 0.0, -0.2263, -0.1779, -0.2023, -0.5719, -0.4019, 0.8809, 0.991, -0.5994, -0.0833, 0.1184, 0.68, -0.743, -0.296, 0.4228, -0.8591, -0.0516, 0.3384, 0.8586, 0.4228, -0.7184, -0.8625, -0.4243, -0.8442, -0.0258, 0.7783, -0.0258, 0.1531, -0.8402, -0.7717, -0.1586, -0.024, -0.836, 0.0, -0.6124, 0.4576, -0.5784, -0.2165, -0.5994, -0.5994, -0.4767, -0.9287, -0.8074, -0.6908, 0.2556, -0.4019, 0.3525, -0.5267, 0.0, 0.0, 0.128, 0.7088, -0.7579, -0.6597, 0.0, 0.0, 0.6705, 0.5267, 0.7306, -0.6904, 0.0, -0.7861, 0.1779, -0.5574, 0.783, -0.836, -0.1027, -0.5423, 0.9595, 0.34, 0.3612, 0.6705, 0.4199, 0.4902, 0.4404, -0.296, -0.743, 0.1326, 0.2796, 0.0, -0.7269, 0.0, -0.1779, -0.6124, 0.4939, -0.4779, 0.0, -0.6124, 0.3561, -0.9128, 0.4767, -0.228, -0.1779, -0.8271, 0.0, -0.0572, -0.7771, -0.3595, -0.8225, 0.6515, 0.0258, -0.743, 0.0, -0.8553, 0.8675, -0.743, -0.2263, -0.0857, -0.926, 0.6486, -0.8858, -0.5994, -0.0772, -0.8617, -0.2263, 0.2057, -0.5472, -0.8346, -0.6124, -0.4389, -0.7044, 0.0762, -0.6456, -0.5719, 0.0, -0.4588, -0.5411, -0.8151, -0.0036, -0.8906, 0.4767, -0.7845, -0.3818, 0.0, 0.34, 0.5886, -0.8519, -0.7783, -0.3182, 0.1969, -0.5707, 0.8271, -0.8271, 0.3612, -0.703, -0.2023, -0.5719, -0.2584, -0.6705, -0.5766, -0.6887, -0.5423, 0.3182, -0.5239, -0.8176, -0.91, -0.9274, -0.696, -0.5994, 0.7366, 0.128, -0.0516, -0.4588, -0.6902, 0.4767, -0.6124, -0.7707, -0.8329, 0.0, -0.7845, -0.8996, -0.8176, -0.836, 0.7184, -0.5267, -0.9179, -0.2023, 0.2937, 0.4019, 0.0, -0.0772, -0.607, 0.5983, -0.8316, 0.0, -0.3382, -0.1779, -0.7558, -0.5023, -0.9201, -0.5267, 0.091, 0.0, -0.8669, -0.6249, -0.6249, -0.6249, -0.6249, -0.6249, -0.6249, -0.6249, -0.5842, -0.2023, -0.5574, 0.0, 0.34, -0.4767, -0.4374, -0.17, -0.9287, -0.6369, -0.0516, -0.4939, 0.6946, -0.0516, -0.4767, -0.4767, -0.5255, -0.8748, -0.7269, -0.8748, -0.8748, -0.8748, -0.8748, -0.8748, 0.6652, 0.0, -0.3786, -0.3252, -0.1154, 0.765, -0.4784, -0.7096, 0.2732, -0.6966, 0.3871, 0.0, -0.7897, -0.6369, 0.0, -0.9459, 0.5267, 0.0, 0.0, 0.0, -0.25, 0.0, -0.7506, 0.0, -0.3612, -0.7845, -0.8466, -0.0557, 0.0, 0.25, -0.5574, -0.6249, -0.765, 0.0, -0.4215, -0.4215, 0.5106, -0.2263, -0.6808, -0.0516, 0.5859, -0.2023, -0.5267, -0.1513, -0.7712, -0.25, -0.6694, -0.6705, 0.0, -0.93, -0.34, -0.7906, -0.6384, 0.1275, -0.3421, -0.6249, -0.8953, -0.6808, 0.6369, -0.6486, 0.7179, -0.4404, 0.7964, 0.0, -0.9268, 0.7715, 0.8807, 0.6214, -0.9443, -0.25, -0.836, -0.6298, -0.8053, -0.4926, -0.4767, 0.0, -0.8591, -0.6908, 0.3802, -0.3291, 0.5574, 0.3412, 0.2003, -0.0258, -0.96, -0.8151, -0.3935, 0.2263, -0.4392, 0.2263, 0.9423, -0.5423, 0.0258, -0.7684, 0.2359, 0.0, -0.5994, 0.4404, -0.7717, 0.5499, 0.0516, -0.4767, 0.3612, -0.3612, -0.7684, 0.5574, -0.9287, -0.802, 0.7351, 0.09, -0.7299, -0.4404, 0.1513, -0.802, -0.1027, -0.5267, -0.431], \"xaxis\": \"x\", \"yaxis\": \"y\"}],                        {\"barmode\": \"relative\", \"legend\": {\"tracegroupgap\": 0}, \"template\": {\"data\": {\"bar\": [{\"error_x\": {\"color\": \"#2a3f5f\"}, \"error_y\": {\"color\": \"#2a3f5f\"}, \"marker\": {\"line\": {\"color\": \"#E5ECF6\", \"width\": 0.5}}, \"type\": \"bar\"}], \"barpolar\": [{\"marker\": {\"line\": {\"color\": \"#E5ECF6\", \"width\": 0.5}}, \"type\": \"barpolar\"}], \"carpet\": [{\"aaxis\": {\"endlinecolor\": \"#2a3f5f\", \"gridcolor\": \"white\", \"linecolor\": \"white\", \"minorgridcolor\": \"white\", \"startlinecolor\": \"#2a3f5f\"}, \"baxis\": {\"endlinecolor\": \"#2a3f5f\", \"gridcolor\": \"white\", \"linecolor\": \"white\", \"minorgridcolor\": \"white\", \"startlinecolor\": \"#2a3f5f\"}, \"type\": \"carpet\"}], \"choropleth\": [{\"colorbar\": {\"outlinewidth\": 0, \"ticks\": \"\"}, \"type\": \"choropleth\"}], \"contour\": [{\"colorbar\": {\"outlinewidth\": 0, \"ticks\": \"\"}, \"colorscale\": [[0.0, \"#0d0887\"], [0.1111111111111111, \"#46039f\"], [0.2222222222222222, \"#7201a8\"], [0.3333333333333333, \"#9c179e\"], [0.4444444444444444, \"#bd3786\"], [0.5555555555555556, \"#d8576b\"], [0.6666666666666666, \"#ed7953\"], [0.7777777777777778, \"#fb9f3a\"], [0.8888888888888888, \"#fdca26\"], [1.0, \"#f0f921\"]], \"type\": \"contour\"}], \"contourcarpet\": [{\"colorbar\": {\"outlinewidth\": 0, \"ticks\": \"\"}, \"type\": \"contourcarpet\"}], \"heatmap\": [{\"colorbar\": {\"outlinewidth\": 0, \"ticks\": \"\"}, \"colorscale\": [[0.0, \"#0d0887\"], [0.1111111111111111, \"#46039f\"], [0.2222222222222222, \"#7201a8\"], [0.3333333333333333, \"#9c179e\"], [0.4444444444444444, \"#bd3786\"], [0.5555555555555556, \"#d8576b\"], [0.6666666666666666, \"#ed7953\"], [0.7777777777777778, \"#fb9f3a\"], [0.8888888888888888, \"#fdca26\"], [1.0, \"#f0f921\"]], \"type\": \"heatmap\"}], \"heatmapgl\": [{\"colorbar\": {\"outlinewidth\": 0, \"ticks\": \"\"}, \"colorscale\": [[0.0, \"#0d0887\"], [0.1111111111111111, \"#46039f\"], [0.2222222222222222, \"#7201a8\"], [0.3333333333333333, \"#9c179e\"], [0.4444444444444444, \"#bd3786\"], [0.5555555555555556, \"#d8576b\"], [0.6666666666666666, \"#ed7953\"], [0.7777777777777778, \"#fb9f3a\"], [0.8888888888888888, \"#fdca26\"], [1.0, \"#f0f921\"]], \"type\": \"heatmapgl\"}], \"histogram\": [{\"marker\": {\"colorbar\": {\"outlinewidth\": 0, \"ticks\": \"\"}}, \"type\": \"histogram\"}], \"histogram2d\": [{\"colorbar\": {\"outlinewidth\": 0, \"ticks\": \"\"}, \"colorscale\": [[0.0, \"#0d0887\"], [0.1111111111111111, \"#46039f\"], [0.2222222222222222, \"#7201a8\"], [0.3333333333333333, \"#9c179e\"], [0.4444444444444444, \"#bd3786\"], [0.5555555555555556, \"#d8576b\"], [0.6666666666666666, \"#ed7953\"], [0.7777777777777778, \"#fb9f3a\"], [0.8888888888888888, \"#fdca26\"], [1.0, \"#f0f921\"]], \"type\": \"histogram2d\"}], \"histogram2dcontour\": [{\"colorbar\": {\"outlinewidth\": 0, \"ticks\": \"\"}, \"colorscale\": [[0.0, \"#0d0887\"], [0.1111111111111111, \"#46039f\"], [0.2222222222222222, \"#7201a8\"], [0.3333333333333333, \"#9c179e\"], [0.4444444444444444, \"#bd3786\"], [0.5555555555555556, \"#d8576b\"], [0.6666666666666666, \"#ed7953\"], [0.7777777777777778, \"#fb9f3a\"], [0.8888888888888888, \"#fdca26\"], [1.0, \"#f0f921\"]], \"type\": \"histogram2dcontour\"}], \"mesh3d\": [{\"colorbar\": {\"outlinewidth\": 0, \"ticks\": \"\"}, \"type\": \"mesh3d\"}], \"parcoords\": [{\"line\": {\"colorbar\": {\"outlinewidth\": 0, \"ticks\": \"\"}}, \"type\": \"parcoords\"}], \"pie\": [{\"automargin\": true, \"type\": \"pie\"}], \"scatter\": [{\"marker\": {\"colorbar\": {\"outlinewidth\": 0, \"ticks\": \"\"}}, \"type\": \"scatter\"}], \"scatter3d\": [{\"line\": {\"colorbar\": {\"outlinewidth\": 0, \"ticks\": \"\"}}, \"marker\": {\"colorbar\": {\"outlinewidth\": 0, \"ticks\": \"\"}}, \"type\": \"scatter3d\"}], \"scattercarpet\": [{\"marker\": {\"colorbar\": {\"outlinewidth\": 0, \"ticks\": \"\"}}, \"type\": \"scattercarpet\"}], \"scattergeo\": [{\"marker\": {\"colorbar\": {\"outlinewidth\": 0, \"ticks\": \"\"}}, \"type\": \"scattergeo\"}], \"scattergl\": [{\"marker\": {\"colorbar\": {\"outlinewidth\": 0, \"ticks\": \"\"}}, \"type\": \"scattergl\"}], \"scattermapbox\": [{\"marker\": {\"colorbar\": {\"outlinewidth\": 0, \"ticks\": \"\"}}, \"type\": \"scattermapbox\"}], \"scatterpolar\": [{\"marker\": {\"colorbar\": {\"outlinewidth\": 0, \"ticks\": \"\"}}, \"type\": \"scatterpolar\"}], \"scatterpolargl\": [{\"marker\": {\"colorbar\": {\"outlinewidth\": 0, \"ticks\": \"\"}}, \"type\": \"scatterpolargl\"}], \"scatterternary\": [{\"marker\": {\"colorbar\": {\"outlinewidth\": 0, \"ticks\": \"\"}}, \"type\": \"scatterternary\"}], \"surface\": [{\"colorbar\": {\"outlinewidth\": 0, \"ticks\": \"\"}, \"colorscale\": [[0.0, \"#0d0887\"], [0.1111111111111111, \"#46039f\"], [0.2222222222222222, \"#7201a8\"], [0.3333333333333333, \"#9c179e\"], [0.4444444444444444, \"#bd3786\"], [0.5555555555555556, \"#d8576b\"], [0.6666666666666666, \"#ed7953\"], [0.7777777777777778, \"#fb9f3a\"], [0.8888888888888888, \"#fdca26\"], [1.0, \"#f0f921\"]], \"type\": \"surface\"}], \"table\": [{\"cells\": {\"fill\": {\"color\": \"#EBF0F8\"}, \"line\": {\"color\": \"white\"}}, \"header\": {\"fill\": {\"color\": \"#C8D4E3\"}, \"line\": {\"color\": \"white\"}}, \"type\": \"table\"}]}, \"layout\": {\"annotationdefaults\": {\"arrowcolor\": \"#2a3f5f\", \"arrowhead\": 0, \"arrowwidth\": 1}, \"autotypenumbers\": \"strict\", \"coloraxis\": {\"colorbar\": {\"outlinewidth\": 0, \"ticks\": \"\"}}, \"colorscale\": {\"diverging\": [[0, \"#8e0152\"], [0.1, \"#c51b7d\"], [0.2, \"#de77ae\"], [0.3, \"#f1b6da\"], [0.4, \"#fde0ef\"], [0.5, \"#f7f7f7\"], [0.6, \"#e6f5d0\"], [0.7, \"#b8e186\"], [0.8, \"#7fbc41\"], [0.9, \"#4d9221\"], [1, \"#276419\"]], \"sequential\": [[0.0, \"#0d0887\"], [0.1111111111111111, \"#46039f\"], [0.2222222222222222, \"#7201a8\"], [0.3333333333333333, \"#9c179e\"], [0.4444444444444444, \"#bd3786\"], [0.5555555555555556, \"#d8576b\"], [0.6666666666666666, \"#ed7953\"], [0.7777777777777778, \"#fb9f3a\"], [0.8888888888888888, \"#fdca26\"], [1.0, \"#f0f921\"]], \"sequentialminus\": [[0.0, \"#0d0887\"], [0.1111111111111111, \"#46039f\"], [0.2222222222222222, \"#7201a8\"], [0.3333333333333333, \"#9c179e\"], [0.4444444444444444, \"#bd3786\"], [0.5555555555555556, \"#d8576b\"], [0.6666666666666666, \"#ed7953\"], [0.7777777777777778, \"#fb9f3a\"], [0.8888888888888888, \"#fdca26\"], [1.0, \"#f0f921\"]]}, \"colorway\": [\"#636efa\", \"#EF553B\", \"#00cc96\", \"#ab63fa\", \"#FFA15A\", \"#19d3f3\", \"#FF6692\", \"#B6E880\", \"#FF97FF\", \"#FECB52\"], \"font\": {\"color\": \"#2a3f5f\"}, \"geo\": {\"bgcolor\": \"white\", \"lakecolor\": \"white\", \"landcolor\": \"#E5ECF6\", \"showlakes\": true, \"showland\": true, \"subunitcolor\": \"white\"}, \"hoverlabel\": {\"align\": \"left\"}, \"hovermode\": \"closest\", \"mapbox\": {\"style\": \"light\"}, \"paper_bgcolor\": \"white\", \"plot_bgcolor\": \"#E5ECF6\", \"polar\": {\"angularaxis\": {\"gridcolor\": \"white\", \"linecolor\": \"white\", \"ticks\": \"\"}, \"bgcolor\": \"#E5ECF6\", \"radialaxis\": {\"gridcolor\": \"white\", \"linecolor\": \"white\", \"ticks\": \"\"}}, \"scene\": {\"xaxis\": {\"backgroundcolor\": \"#E5ECF6\", \"gridcolor\": \"white\", \"gridwidth\": 2, \"linecolor\": \"white\", \"showbackground\": true, \"ticks\": \"\", \"zerolinecolor\": \"white\"}, \"yaxis\": {\"backgroundcolor\": \"#E5ECF6\", \"gridcolor\": \"white\", \"gridwidth\": 2, \"linecolor\": \"white\", \"showbackground\": true, \"ticks\": \"\", \"zerolinecolor\": \"white\"}, \"zaxis\": {\"backgroundcolor\": \"#E5ECF6\", \"gridcolor\": \"white\", \"gridwidth\": 2, \"linecolor\": \"white\", \"showbackground\": true, \"ticks\": \"\", \"zerolinecolor\": \"white\"}}, \"shapedefaults\": {\"line\": {\"color\": \"#2a3f5f\"}}, \"ternary\": {\"aaxis\": {\"gridcolor\": \"white\", \"linecolor\": \"white\", \"ticks\": \"\"}, \"baxis\": {\"gridcolor\": \"white\", \"linecolor\": \"white\", \"ticks\": \"\"}, \"bgcolor\": \"#E5ECF6\", \"caxis\": {\"gridcolor\": \"white\", \"linecolor\": \"white\", \"ticks\": \"\"}}, \"title\": {\"x\": 0.05}, \"xaxis\": {\"automargin\": true, \"gridcolor\": \"white\", \"linecolor\": \"white\", \"ticks\": \"\", \"title\": {\"standoff\": 15}, \"zerolinecolor\": \"white\", \"zerolinewidth\": 2}, \"yaxis\": {\"automargin\": true, \"gridcolor\": \"white\", \"linecolor\": \"white\", \"ticks\": \"\", \"title\": {\"standoff\": 15}, \"zerolinecolor\": \"white\", \"zerolinewidth\": 2}}}, \"title\": {\"text\": \"Distribuci\\u00f3n sentiemientos vader\"}, \"xaxis\": {\"anchor\": \"y\", \"domain\": [0.0, 1.0], \"title\": {\"text\": \"sentimiento_vader\"}}, \"yaxis\": {\"anchor\": \"x\", \"domain\": [0.0, 1.0], \"title\": {\"text\": \"count\"}}},                        {\"responsive\": true}                    ).then(function(){\n",
       "                            \n",
       "var gd = document.getElementById('224eeeea-a449-4f23-b587-7dc0d35c743f');\n",
       "var x = new MutationObserver(function (mutations, observer) {{\n",
       "        var display = window.getComputedStyle(gd).display;\n",
       "        if (!display || display === 'none') {{\n",
       "            console.log([gd, 'removed!']);\n",
       "            Plotly.purge(gd);\n",
       "            observer.disconnect();\n",
       "        }}\n",
       "}});\n",
       "\n",
       "// Listen for the removal of the full notebook cells\n",
       "var notebookContainer = gd.closest('#notebook-container');\n",
       "if (notebookContainer) {{\n",
       "    x.observe(notebookContainer, {childList: true});\n",
       "}}\n",
       "\n",
       "// Listen for the clearing of the current output cell\n",
       "var outputEl = gd.closest('.output');\n",
       "if (outputEl) {{\n",
       "    x.observe(outputEl, {childList: true});\n",
       "}}\n",
       "\n",
       "                        })                };                });            </script>        </div>"
      ]
     },
     "metadata": {},
     "output_type": "display_data"
    }
   ],
   "source": [
    "import plotly.express as px\n",
    "fig = px.histogram(data, x=\"sentimiento_vader\", title=\"Distribución sentiemientos vader\")\n",
    "fig.show()"
   ]
  }
 ],
 "metadata": {
  "kernelspec": {
   "display_name": "Python 3",
   "language": "python",
   "name": "python3"
  },
  "language_info": {
   "codemirror_mode": {
    "name": "ipython",
    "version": 3
   },
   "file_extension": ".py",
   "mimetype": "text/x-python",
   "name": "python",
   "nbconvert_exporter": "python",
   "pygments_lexer": "ipython3",
   "version": "3.8.8"
  }
 },
 "nbformat": 4,
 "nbformat_minor": 2
}
