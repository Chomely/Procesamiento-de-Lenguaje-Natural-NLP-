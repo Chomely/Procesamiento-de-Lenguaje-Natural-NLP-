{
 "cells": [
  {
   "cell_type": "markdown",
   "metadata": {},
   "source": [
    "<img src='https://encrypted-tbn0.gstatic.com/images?q=tbn%3AANd9GcQ-VfNtOyJbsaxu43Kztf_cv1mgBG6ZIQZEVw&usqp=CAU'>\n",
    "\n",
    "# Procesamiento de Lenguage Natural\n",
    "\n",
    "## Taller #2: Adquisición de textos\n",
    "`Fecha de entrega: Marzo 4, 2021. (Antes del inicio de la próxima clase).`"
   ]
  },
  {
   "cell_type": "markdown",
   "metadata": {},
   "source": [
    "# Punto 1:\n",
    "\n",
    "- `[18 pts]` Descomprimir el archivo `.zip` de `python_books`\n",
    "- `[22 pts]` Leer cada uno de sus archivos\n",
    "- `[10 pts]` Responder: ¿Cuál archivo tiene el mayor número de palabras?"
   ]
  },
  {
   "cell_type": "markdown",
   "metadata": {},
   "source": [
    "1. Descomprimir el archivo .zip de python_books"
   ]
  },
  {
   "cell_type": "code",
   "execution_count": 1,
   "metadata": {},
   "outputs": [],
   "source": [
    "import os\n",
    "from zipfile import ZipFile"
   ]
  },
  {
   "cell_type": "code",
   "execution_count": 2,
   "metadata": {},
   "outputs": [],
   "source": [
    "direccion = 'C:/Users/CHOMELY/Documents/Konrad Lorenz/1. Procesamiento de Lenguaje Natural (NLP)/Clases/Clase2/python_books.zip'"
   ]
  },
  {
   "cell_type": "code",
   "execution_count": 3,
   "metadata": {},
   "outputs": [],
   "source": [
    "with ZipFile(direccion) as archivo:\n",
    "    archivo.extractall(\"C:/Users/CHOMELY/Documents/Konrad Lorenz/1. Procesamiento de Lenguaje Natural (NLP)/Clases/Clase2/\") "
   ]
  },
  {
   "cell_type": "markdown",
   "metadata": {},
   "source": [
    "2. Leer cada uno de sus archivos"
   ]
  },
  {
   "cell_type": "code",
   "execution_count": 5,
   "metadata": {},
   "outputs": [
    {
     "name": "stdout",
     "output_type": "stream",
     "text": [
      "Python  Data Science Cookbook.pdf\n",
      "Python - AWS.pdf\n",
      "Python - Finance.pdf\n"
     ]
    }
   ],
   "source": [
    "for raiz, dirs, archivos in os.walk(\"C:/Users/CHOMELY/Documents/Konrad Lorenz/1. Procesamiento de Lenguaje Natural (NLP)/Clases/Clase2/python_books\"):\n",
    "    # print(raiz, dirs, archivos)\n",
    "    for a in archivos: \n",
    "        print(a)"
   ]
  },
  {
   "cell_type": "markdown",
   "metadata": {},
   "source": [
    "Python  Data Science Cookbook.pdf"
   ]
  },
  {
   "cell_type": "code",
   "execution_count": 6,
   "metadata": {},
   "outputs": [],
   "source": [
    "import fitz"
   ]
  },
  {
   "cell_type": "code",
   "execution_count": 39,
   "metadata": {},
   "outputs": [],
   "source": [
    "Data_Science_Cookbook = fitz.open('C:/Users/CHOMELY/Documents/Konrad Lorenz/1. Procesamiento de Lenguaje Natural (NLP)/Clases/Clase2/python_books/Python  Data Science Cookbook.pdf')"
   ]
  },
  {
   "cell_type": "code",
   "execution_count": 40,
   "metadata": {},
   "outputs": [
    {
     "data": {
      "text/plain": [
       "Document('C:/Users/CHOMELY/Documents/Konrad Lorenz/1. Procesamiento de Lenguaje Natural (NLP)/Clases/Clase2/python_books/Python  Data Science Cookbook.pdf')"
      ]
     },
     "execution_count": 40,
     "metadata": {},
     "output_type": "execute_result"
    }
   ],
   "source": [
    "Data_Science_Cookbook"
   ]
  },
  {
   "cell_type": "code",
   "execution_count": 41,
   "metadata": {},
   "outputs": [
    {
     "name": "stdout",
     "output_type": "stream",
     "text": [
      "Número de páginas:  1\n",
      "Metados:  {'format': 'PDF 1.3', 'title': 'Python Data Science Cookbook', 'author': 'Gopi Subramanian', 'subject': '', 'keywords': '', 'creator': 'calibre 2.35.0 [http://calibre-ebook.com]', 'producer': 'macOS Version 11.2.1 (Build 20D74) Quartz PDFContext', 'creationDate': \"D:20210225223143Z00'00'\", 'modDate': \"D:20210225223143Z00'00'\", 'trapped': '', 'encryption': None}\n"
     ]
    }
   ],
   "source": [
    "print(\"Número de páginas: \", Data_Science_Cookbook.pageCount) #Número de páginas\n",
    "print(\"Metados: \", Data_Science_Cookbook.metadata)"
   ]
  },
  {
   "cell_type": "code",
   "execution_count": 42,
   "metadata": {},
   "outputs": [
    {
     "name": "stdout",
     "output_type": "stream",
     "text": [
      "Preface\n",
      "Today,\twe\tlive\tin\ta\tworld\tof\tconnected\tthings\twhere\ttons\tof\tdata\tis\tgenerated\tand\tit\tis\n",
      "humanly\timpossible\tto\tanalyze\tall\tthe\tincoming\tdata\tand\tmake\tdecisions.\tHuman\n",
      "decisions\tare\tincreasingly\treplaced\tby\tdecisions\tmade\tby\tcomputers.\tThanks\tto\tthe\tfield\n",
      "of\tdata\tscience.\tData\tscience\thas\tpenetrated\tdeeply\tin\tour\tconnected\tworld\tand\tthere\tis\ta\n",
      "growing\tdemand\tin\tthe\tmarket\tfor\tpeople\twho\tnot\tonly\tunderstand\tdata\tscience\n",
      "algorithms\tthoroughly,\tbut\tare\talso\tcapable\tof\tprogramming\tthese\talgorithms.\tData\n",
      "science\tis\ta\tfield\tthat\tis\tat\tthe\tintersection\tof\tmany\tfields,\tincluding\tdata\tmining,\tmachine\n",
      "learning,\tand\tstatistics,\tto\tname\ta\tfew.\tThis\tputs\tan\timmense\tburden\ton\tall\tlevels\tof\tdata\n",
      "scientists;\tfrom\tthe\tone\twho\tis\taspiring\tto\tbecome\ta\tdata\tscientist\tand\tthose\twho\tare\n",
      "currently\tpractitioners\tin\tthis\tfield.\tTreating\tthese\talgorithms\tas\ta\tblack\tbox\tand\tusing\n",
      "them\tin\tdecision-making\tsystems\twill\tlead\tto\tcounterproductive\tresults.\tWith\ttons\tof\n",
      "algorithms\tand\tinnumerable\tproblems\tout\tthere,\tit\trequires\ta\tgood\tgrasp\tof\tthe\tunderlying\n",
      "algorithms\tin\torder\tto\tchoose\tthe\tbest\tone\tfor\tany\tgiven\tproblem.\n",
      "Python\tas\ta\tprogramming\tlanguage\thas\tevolved\tover\tthe\tyears\tand\ttoday,\tit\tis\tthe\tnumber\n",
      "one\tchoice\tfor\ta\tdata\tscientist.\tIts\tability\tto\tact\tas\ta\tscripting\tlanguage\tfor\tquick\tprototype\n",
      "building\tand\tits\tsophisticated\tlanguage\tconstructs\tfor\tfull-fledged\tsoftware\tdevelopment\n",
      "combined\twith\tits\tfantastic\tlibrary\tsupport\tfor\tnumeric\tcomputations\thas\tled\tto\tits\tcurrent\n",
      "popularity\tamong\tdata\tscientists\tand\tthe\tgeneral\tscientific\tprogramming\tcommunity.\tNot\n",
      "just\tthat,\tPython\tis\talso\tpopular\tamong\tweb\tdevelopers;\tthanks\tto\tframeworks\tsuch\tas\n",
      "Django\tand\tFlask.\n",
      "This\tbook\thas\tbeen\tcarefully\twritten\tto\tcater\tto\tthe\tneeds\tof\ta\tdiverse\trange\tof\tdata\n",
      "scientists—starting\tfrom\tnovice\tdata\tscientists\tto\texperienced\tones—through\tcarefully\n",
      "crafted\trecipes,\twhich\ttouch\tupon\tthe\tdifferent\taspects\tof\tdata\tscience,\tincluding\tdata\n",
      "exploration,\tdata\tanalysis\tand\tmining,\tmachine\tlearning,\tand\tlarge\tscale\tmachine\tlearning.\n",
      "Each\tchapter\thas\tbeen\tcarefully\tcrafted\twith\trecipes\texploring\tthese\taspects.\tSufficient\n",
      "math\thas\tbeen\tprovided\tfor\tthe\treaders\tto\tunderstand\tthe\tfunctioning\tof\tthe\talgorithms\tin\n",
      "depth.\tWherever\tnecessary,\tenough\treferences\tare\tprovided\tfor\tthe\tcurious\treaders.\tThe\n",
      "recipes\tare\twritten\tin\tsuch\ta\tway\tthat\tthey\tare\teasy\tto\tfollow\tand\tunderstand.\n",
      "This\tbook\tbrings\tthe\tart\tof\tdata\tscience\twith\tpower\tPython\tprogramming\tto\tthe\treaders\n",
      "and\thelps\tthem\tmaster\tthe\tconcepts\tof\tdata\tscience.\tKnowledge\tof\tPython\tis\tnot\n",
      "mandatory\tto\tfollow\tthis\tbook.\tNon-Python\tprogrammers\tcan\trefer\tto\tthe\tfirst\tchapter,\n",
      "which\tintroduces\tthe\tPython\tdata\tstructures\tand\tfunction\tprogramming\tconcepts.\n",
      "The\tearly\tchapters\tcover\tthe\tbasics\tof\tdata\tscience\tand\tthe\tlater\tchapters\tare\tdedicated\tto\n",
      "advanced\tdata\tscience\talgorithms.\tState-of-the-art\talgorithms\tthat\tare\tcurrently\tused\tin\n",
      "practice\tby\tleading\tdata\tscientists\tacross\tindustries\tincluding\tthe\tensemble\tmethods,\n",
      "random\tforest,\tregression\twith\tregularization,\tand\tothers\tare\tcovered\tin\tdetail.\tSome\tof\n",
      "the\talgorithms\tthat\tare\tpopular\tin\tacademia\tand\tstill\tnot\twidely\tintroduced\tto\tthe\n",
      "mainstream\tsuch\tas\trotational\tforest\tare\tcovered\tin\tdetail.\n",
      "With\ta\tlot\tof\tdo-it-yourself\tbooks\ton\tdata\tscience\ttoday\tin\tthe\tmarket,\twe\tfeel\tthat\tthere\tis\n",
      "a\tgap\tin\tterms\tof\tcovering\tthe\tright\tmix\tof\tmath\tphilosophy\tbehind\tthe\tdata\tscience\n",
      "\n"
     ]
    }
   ],
   "source": [
    "pagina = Data_Science_Cookbook.loadPage(0)\n",
    "Data_Science_Cookbook = pagina.getText(\"Data_Science_Cookbook\")\n",
    "print(Data_Science_Cookbook)"
   ]
  },
  {
   "cell_type": "code",
   "execution_count": 79,
   "metadata": {},
   "outputs": [],
   "source": [
    "AWS = fitz.open('C:/Users/CHOMELY/Documents/Konrad Lorenz/1. Procesamiento de Lenguaje Natural (NLP)/Clases/Clase2/python_books/Python - AWS.pdf')"
   ]
  },
  {
   "cell_type": "code",
   "execution_count": 80,
   "metadata": {},
   "outputs": [
    {
     "name": "stdout",
     "output_type": "stream",
     "text": [
      "Número de páginas:  1\n",
      "Metados:  {'format': 'PDF 1.3', 'title': '', 'author': '', 'subject': '', 'keywords': '', 'creator': 'Adobe InDesign CS6 (Windows)', 'producer': 'macOS Version 11.2.1 (Build 20D74) Quartz PDFContext', 'creationDate': \"D:20210225223227Z00'00'\", 'modDate': \"D:20210225223227Z00'00'\", 'trapped': '', 'encryption': None}\n"
     ]
    }
   ],
   "source": [
    "print(\"Número de páginas: \", AWS.pageCount) #Número de páginas\n",
    "print(\"Metados: \", AWS.metadata)"
   ]
  },
  {
   "cell_type": "code",
   "execution_count": 81,
   "metadata": {},
   "outputs": [
    {
     "name": "stdout",
     "output_type": "stream",
     "text": [
      "[ vii ]\n",
      "Preface\n",
      "With an increasing interest in leveraging cloud infrastructure around the world, the \n",
      "AWS cloud from Amazon offers a cutting-edge platform for architecting, building, \n",
      "and deploying web-scale cloud applications through a user-friendly interface. The \n",
      "variety of features available within AWS can reduce overall infrastructure costs and \n",
      "accelerate the development process for both large enterprises and start-ups alike.\n",
      "Learning AWS covers basic, intermediate, and advanced features and concepts  \n",
      "as they relate to designing, developing, and deploying scalable, highly available,  \n",
      "and secure applications on the AWS platform. By sequentially working through  \n",
      "the steps in each chapter, you will quickly master the features of AWS to create an \n",
      "enterprise-grade cloud application. We use a three-tiered services-oriented sample \n",
      "application for extensive hands-on exercises.\n",
      "This book will not only teach you about the AWS components, but you will gain \n",
      "valuable information about key concepts such as multi-tenancy, auto scaling, \n",
      "planning, implementing application development environments, addressing \n",
      "application security concerns, and so on. You will also learn how these concepts \n",
      "relate to cost effective architectural decisions while designing scalable, highly \n",
      "available, and secure AWS cloud applications.\n",
      "A step-by-step approach to cloud application design and implementation is explained \n",
      "in a conversational and easy-to-follow style. Each topic is explained sequentially in \n",
      "the process of creating an AWS cloud application. Detailed explanations of the basic \n",
      "and advanced features of AWS that address the needs of readers with a wide range \n",
      "of real-world experiences are also included. Expert programmers and architects will \n",
      "appreciate the focus on the practice rather than the theory.\n",
      "\n"
     ]
    }
   ],
   "source": [
    "pagina1 = AWS.loadPage(0)\n",
    "AWS = pagina1.getText(\"AWS\")\n",
    "print(AWS)"
   ]
  },
  {
   "cell_type": "code",
   "execution_count": 47,
   "metadata": {},
   "outputs": [],
   "source": [
    "Finance = fitz.open('C:/Users/CHOMELY/Documents/Konrad Lorenz/1. Procesamiento de Lenguaje Natural (NLP)/Clases/Clase2/python_books/Python - Finance.pdf')"
   ]
  },
  {
   "cell_type": "code",
   "execution_count": 48,
   "metadata": {},
   "outputs": [
    {
     "name": "stdout",
     "output_type": "stream",
     "text": [
      "Número de páginas:  1\n",
      "Metados:  {'format': 'PDF 1.3', 'title': 'Python for Finance', 'author': 'Yuxing Yan', 'subject': '', 'keywords': '', 'creator': 'Adobe InDesign CS6 (Windows)', 'producer': 'macOS Version 11.2.1 (Build 20D74) Quartz PDFContext', 'creationDate': \"D:20210225223246Z00'00'\", 'modDate': \"D:20210225223246Z00'00'\", 'trapped': '', 'encryption': None}\n"
     ]
    }
   ],
   "source": [
    "print(\"Número de páginas: \", Finance.pageCount) #Número de páginas\n",
    "print(\"Metados: \", Finance.metadata)"
   ]
  },
  {
   "cell_type": "code",
   "execution_count": 49,
   "metadata": {},
   "outputs": [
    {
     "name": "stdout",
     "output_type": "stream",
     "text": [
      "Preface\n",
      "It is our firm belief that an ambitious student major in finance should learn at least \n",
      "one computer language. The basic reason is that we have entered the Big Data era. \n",
      "In finance, we have a huge amount of data, and most of it is publically available free \n",
      "of charge. To use such rich sources of data efficiently, we need a tool. Among many \n",
      "potential candidates, Python is one of the best choices.\n",
      "Why Python?\n",
      "There are various reasons that Python should be used. Firstly, Python is free in terms \n",
      "of license. Python is available for all major operating systems, such as Windows, \n",
      "Linux/Unix, OS/2, Mac, and Amiga, among others. Being free has many benefits. \n",
      "When students graduate, they could apply what they have learned wherever they \n",
      "go. This is true for the financial community as well. In contrast, this is not true for \n",
      "SAS and MATLAB. Secondly, Python is powerful, flexible, and easy to learn. It is \n",
      "capable of solving almost all our financial and economic estimations. Thirdly, we \n",
      "could apply Python to Big Data. Dasgupta (2013) argues that R and Python are two \n",
      "of the most popular open source programming languages for data analysis. Fourthly, \n",
      "there are many useful modules in Python. Each model is developed for a special \n",
      "purpose. In this book, we focus on NumPy, SciPy, Matplotlib, Statsmodels, and \n",
      "Pandas modules.\n",
      "\n"
     ]
    }
   ],
   "source": [
    "pagina2 = Finance.loadPage(0)\n",
    "Finance = pagina2.getText(\"Finance\")\n",
    "print(Finance)"
   ]
  },
  {
   "cell_type": "markdown",
   "metadata": {},
   "source": [
    "3. Responder: ¿Cuál archivo tiene el mayor número de palabras? El archivo Python  Data Science Cookbook.pdf es el que mayor númmero de palabras tiene con 535, seguido de Python - AWS.pdf con 254 y Python - Finance.pdf con 226."
   ]
  },
  {
   "cell_type": "markdown",
   "metadata": {},
   "source": [
    "Dividir la cadena de palabras en una lista.\n",
    "Agregar los elementos dividos a una lista vacia.\n",
    "Verificar el tipo de la lista.\n",
    "Contar los elementos de la lista. tipo."
   ]
  },
  {
   "cell_type": "code",
   "execution_count": 88,
   "metadata": {},
   "outputs": [
    {
     "name": "stdout",
     "output_type": "stream",
     "text": [
      "[['[', 'vii', ']', 'Preface', 'With', 'an', 'increasing', 'interest', 'in', 'leveraging', 'cloud', 'infrastructure', 'around', 'the', 'world,', 'the', 'AWS', 'cloud', 'from', 'Amazon', 'offers', 'a', 'cutting-edge', 'platform', 'for', 'architecting,', 'building,', 'and', 'deploying', 'web-scale', 'cloud', 'applications', 'through', 'a', 'user-friendly', 'interface.', 'The', 'variety', 'of', 'features', 'available', 'within', 'AWS', 'can', 'reduce', 'overall', 'infrastructure', 'costs', 'and', 'accelerate', 'the', 'development', 'process', 'for', 'both', 'large', 'enterprises', 'and', 'start-ups', 'alike.', 'Learning', 'AWS', 'covers', 'basic,', 'intermediate,', 'and', 'advanced', 'features', 'and', 'concepts', 'as', 'they', 'relate', 'to', 'designing,', 'developing,', 'and', 'deploying', 'scalable,', 'highly', 'available,', 'and', 'secure', 'applications', 'on', 'the', 'AWS', 'platform.', 'By', 'sequentially', 'working', 'through', 'the', 'steps', 'in', 'each', 'chapter,', 'you', 'will', 'quickly', 'master', 'the', 'features', 'of', 'AWS', 'to', 'create', 'an', 'enterprise-grade', 'cloud', 'application.', 'We', 'use', 'a', 'three-tiered', 'services-oriented', 'sample', 'application', 'for', 'extensive', 'hands-on', 'exercises.', 'This', 'book', 'will', 'not', 'only', 'teach', 'you', 'about', 'the', 'AWS', 'components,', 'but', 'you', 'will', 'gain', 'valuable', 'information', 'about', 'key', 'concepts', 'such', 'as', 'multi-tenancy,', 'auto', 'scaling,', 'planning,', 'implementing', 'application', 'development', 'environments,', 'addressing', 'application', 'security', 'concerns,', 'and', 'so', 'on.', 'You', 'will', 'also', 'learn', 'how', 'these', 'concepts', 'relate', 'to', 'cost', 'effective', 'architectural', 'decisions', 'while', 'designing', 'scalable,', 'highly', 'available,', 'and', 'secure', 'AWS', 'cloud', 'applications.', 'A', 'step-by-step', 'approach', 'to', 'cloud', 'application', 'design', 'and', 'implementation', 'is', 'explained', 'in', 'a', 'conversational', 'and', 'easy-to-follow', 'style.', 'Each', 'topic', 'is', 'explained', 'sequentially', 'in', 'the', 'process', 'of', 'creating', 'an', 'AWS', 'cloud', 'application.', 'Detailed', 'explanations', 'of', 'the', 'basic', 'and', 'advanced', 'features', 'of', 'AWS', 'that', 'address', 'the', 'needs', 'of', 'readers', 'with', 'a', 'wide', 'range', 'of', 'real-world', 'experiences', 'are', 'also', 'included.', 'Expert', 'programmers', 'and', 'architects', 'will', 'appreciate', 'the', 'focus', 'on', 'the', 'practice', 'rather', 'than', 'the', 'theory.']]\n"
     ]
    }
   ],
   "source": [
    "Cookbook1=Data_Science_Cookbook.split()\n",
    "lista=[]\n",
    "lista.append(AWS1)\n",
    "print(lista)"
   ]
  },
  {
   "cell_type": "code",
   "execution_count": 89,
   "metadata": {},
   "outputs": [
    {
     "data": {
      "text/plain": [
       "list"
      ]
     },
     "execution_count": 89,
     "metadata": {},
     "output_type": "execute_result"
    }
   ],
   "source": [
    "type(Cookbook1)"
   ]
  },
  {
   "cell_type": "code",
   "execution_count": 90,
   "metadata": {},
   "outputs": [
    {
     "data": {
      "text/plain": [
       "535"
      ]
     },
     "execution_count": 90,
     "metadata": {},
     "output_type": "execute_result"
    }
   ],
   "source": [
    "len(Cookbook1)"
   ]
  },
  {
   "cell_type": "code",
   "execution_count": 91,
   "metadata": {},
   "outputs": [
    {
     "name": "stdout",
     "output_type": "stream",
     "text": [
      "[['[', 'vii', ']', 'Preface', 'With', 'an', 'increasing', 'interest', 'in', 'leveraging', 'cloud', 'infrastructure', 'around', 'the', 'world,', 'the', 'AWS', 'cloud', 'from', 'Amazon', 'offers', 'a', 'cutting-edge', 'platform', 'for', 'architecting,', 'building,', 'and', 'deploying', 'web-scale', 'cloud', 'applications', 'through', 'a', 'user-friendly', 'interface.', 'The', 'variety', 'of', 'features', 'available', 'within', 'AWS', 'can', 'reduce', 'overall', 'infrastructure', 'costs', 'and', 'accelerate', 'the', 'development', 'process', 'for', 'both', 'large', 'enterprises', 'and', 'start-ups', 'alike.', 'Learning', 'AWS', 'covers', 'basic,', 'intermediate,', 'and', 'advanced', 'features', 'and', 'concepts', 'as', 'they', 'relate', 'to', 'designing,', 'developing,', 'and', 'deploying', 'scalable,', 'highly', 'available,', 'and', 'secure', 'applications', 'on', 'the', 'AWS', 'platform.', 'By', 'sequentially', 'working', 'through', 'the', 'steps', 'in', 'each', 'chapter,', 'you', 'will', 'quickly', 'master', 'the', 'features', 'of', 'AWS', 'to', 'create', 'an', 'enterprise-grade', 'cloud', 'application.', 'We', 'use', 'a', 'three-tiered', 'services-oriented', 'sample', 'application', 'for', 'extensive', 'hands-on', 'exercises.', 'This', 'book', 'will', 'not', 'only', 'teach', 'you', 'about', 'the', 'AWS', 'components,', 'but', 'you', 'will', 'gain', 'valuable', 'information', 'about', 'key', 'concepts', 'such', 'as', 'multi-tenancy,', 'auto', 'scaling,', 'planning,', 'implementing', 'application', 'development', 'environments,', 'addressing', 'application', 'security', 'concerns,', 'and', 'so', 'on.', 'You', 'will', 'also', 'learn', 'how', 'these', 'concepts', 'relate', 'to', 'cost', 'effective', 'architectural', 'decisions', 'while', 'designing', 'scalable,', 'highly', 'available,', 'and', 'secure', 'AWS', 'cloud', 'applications.', 'A', 'step-by-step', 'approach', 'to', 'cloud', 'application', 'design', 'and', 'implementation', 'is', 'explained', 'in', 'a', 'conversational', 'and', 'easy-to-follow', 'style.', 'Each', 'topic', 'is', 'explained', 'sequentially', 'in', 'the', 'process', 'of', 'creating', 'an', 'AWS', 'cloud', 'application.', 'Detailed', 'explanations', 'of', 'the', 'basic', 'and', 'advanced', 'features', 'of', 'AWS', 'that', 'address', 'the', 'needs', 'of', 'readers', 'with', 'a', 'wide', 'range', 'of', 'real-world', 'experiences', 'are', 'also', 'included.', 'Expert', 'programmers', 'and', 'architects', 'will', 'appreciate', 'the', 'focus', 'on', 'the', 'practice', 'rather', 'than', 'the', 'theory.']]\n"
     ]
    }
   ],
   "source": [
    "AWS1=AWS.split()\n",
    "lista=[]\n",
    "lista.append(AWS1)\n",
    "print(lista)"
   ]
  },
  {
   "cell_type": "code",
   "execution_count": 96,
   "metadata": {},
   "outputs": [
    {
     "data": {
      "text/plain": [
       "list"
      ]
     },
     "execution_count": 96,
     "metadata": {},
     "output_type": "execute_result"
    }
   ],
   "source": [
    "type(AWS1)"
   ]
  },
  {
   "cell_type": "code",
   "execution_count": 97,
   "metadata": {},
   "outputs": [
    {
     "data": {
      "text/plain": [
       "254"
      ]
     },
     "execution_count": 97,
     "metadata": {},
     "output_type": "execute_result"
    }
   ],
   "source": [
    "len(AWS1)"
   ]
  },
  {
   "cell_type": "code",
   "execution_count": 98,
   "metadata": {},
   "outputs": [
    {
     "name": "stdout",
     "output_type": "stream",
     "text": [
      "[['Preface', 'It', 'is', 'our', 'firm', 'belief', 'that', 'an', 'ambitious', 'student', 'major', 'in', 'finance', 'should', 'learn', 'at', 'least', 'one', 'computer', 'language.', 'The', 'basic', 'reason', 'is', 'that', 'we', 'have', 'entered', 'the', 'Big', 'Data', 'era.', 'In', 'finance,', 'we', 'have', 'a', 'huge', 'amount', 'of', 'data,', 'and', 'most', 'of', 'it', 'is', 'publically', 'available', 'free', 'of', 'charge.', 'To', 'use', 'such', 'rich', 'sources', 'of', 'data', 'efficiently,', 'we', 'need', 'a', 'tool.', 'Among', 'many', 'potential', 'candidates,', 'Python', 'is', 'one', 'of', 'the', 'best', 'choices.', 'Why', 'Python?', 'There', 'are', 'various', 'reasons', 'that', 'Python', 'should', 'be', 'used.', 'Firstly,', 'Python', 'is', 'free', 'in', 'terms', 'of', 'license.', 'Python', 'is', 'available', 'for', 'all', 'major', 'operating', 'systems,', 'such', 'as', 'Windows,', 'Linux/Unix,', 'OS/2,', 'Mac,', 'and', 'Amiga,', 'among', 'others.', 'Being', 'free', 'has', 'many', 'benefits.', 'When', 'students', 'graduate,', 'they', 'could', 'apply', 'what', 'they', 'have', 'learned', 'wherever', 'they', 'go.', 'This', 'is', 'true', 'for', 'the', 'financial', 'community', 'as', 'well.', 'In', 'contrast,', 'this', 'is', 'not', 'true', 'for', 'SAS', 'and', 'MATLAB.', 'Secondly,', 'Python', 'is', 'powerful,', 'flexible,', 'and', 'easy', 'to', 'learn.', 'It', 'is', 'capable', 'of', 'solving', 'almost', 'all', 'our', 'financial', 'and', 'economic', 'estimations.', 'Thirdly,', 'we', 'could', 'apply', 'Python', 'to', 'Big', 'Data.', 'Dasgupta', '(2013)', 'argues', 'that', 'R', 'and', 'Python', 'are', 'two', 'of', 'the', 'most', 'popular', 'open', 'source', 'programming', 'languages', 'for', 'data', 'analysis.', 'Fourthly,', 'there', 'are', 'many', 'useful', 'modules', 'in', 'Python.', 'Each', 'model', 'is', 'developed', 'for', 'a', 'special', 'purpose.', 'In', 'this', 'book,', 'we', 'focus', 'on', 'NumPy,', 'SciPy,', 'Matplotlib,', 'Statsmodels,', 'and', 'Pandas', 'modules.']]\n"
     ]
    }
   ],
   "source": [
    "Finance1=Finance.split()\n",
    "lista=[]\n",
    "lista.append(Finance1)\n",
    "print(lista)"
   ]
  },
  {
   "cell_type": "code",
   "execution_count": 99,
   "metadata": {},
   "outputs": [
    {
     "data": {
      "text/plain": [
       "list"
      ]
     },
     "execution_count": 99,
     "metadata": {},
     "output_type": "execute_result"
    }
   ],
   "source": [
    "type(Finance1)"
   ]
  },
  {
   "cell_type": "code",
   "execution_count": 100,
   "metadata": {},
   "outputs": [
    {
     "data": {
      "text/plain": [
       "226"
      ]
     },
     "execution_count": 100,
     "metadata": {},
     "output_type": "execute_result"
    }
   ],
   "source": [
    "len(Finance1)"
   ]
  }
 ],
 "metadata": {
  "kernelspec": {
   "display_name": "Python 3",
   "language": "python",
   "name": "python3"
  },
  "language_info": {
   "codemirror_mode": {
    "name": "ipython",
    "version": 3
   },
   "file_extension": ".py",
   "mimetype": "text/x-python",
   "name": "python",
   "nbconvert_exporter": "python",
   "pygments_lexer": "ipython3",
   "version": "3.8.5"
  }
 },
 "nbformat": 4,
 "nbformat_minor": 2
}
